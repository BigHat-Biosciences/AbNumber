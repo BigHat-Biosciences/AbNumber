{
 "cells": [
  {
   "cell_type": "markdown",
   "metadata": {},
   "source": [
    "# AbNumber Usage Examples"
   ]
  },
  {
   "cell_type": "code",
   "execution_count": 1,
   "metadata": {},
   "outputs": [],
   "source": [
    "from abnumber import Chain\n",
    "import pandas as pd\n",
    "\n",
    "pd.options.display.max_columns = 200"
   ]
  },
  {
   "cell_type": "markdown",
   "metadata": {},
   "source": [
    "## Creating a chain"
   ]
  },
  {
   "cell_type": "code",
   "execution_count": 2,
   "metadata": {},
   "outputs": [
    {
     "data": {
      "text/plain": [
       "EVQLQQSGAELARPGASVKMSCKASGYTFTRYTMHWVKQRPGQGLEWIGYINPSRGYTNYNQKFKDKATLTTDKSSSTAYMQLSSLTSEDSAVYYCARYYSEDDERGHYCLDYWGQGTTLTVSS\n",
       "                         ^^^^^^^^                 ^^^^^^^^                                      ^^^^^^^^^^^^^^^^^           "
      ]
     },
     "execution_count": 2,
     "metadata": {},
     "output_type": "execute_result"
    }
   ],
   "source": [
    "seq = 'EVQLQQSGAELARPGASVKMSCKASGYTFTRYTMHWVKQRPGQGLEWIGYINPSRGYTNYNQKFKDKATLTTDKSSSTAYMQLSSLTSEDSAVYYCARYYSEDDERGHYCLDYWGQGTTLTVSSAKTTAPSVYPLA'\n",
    "chain = Chain(seq, scheme='imgt')\n",
    "chain"
   ]
  },
  {
   "cell_type": "code",
   "execution_count": 3,
   "metadata": {},
   "outputs": [
    {
     "name": "stdout",
     "output_type": "stream",
     "text": [
      "0        1        2         3     4         5         6       7        8         9         10        11            12       \n",
      "1234567891234567890123456789056789012345678901234567892345678901245678901234567890123456789012345678901112223456789012345678\n",
      "                                                                                                       ABBA                 \n",
      "EVQLQQSGAELARPGASVKMSCKASGYTFTRYTMHWVKQRPGQGLEWIGYINPSRGYTNYNQKFKDKATLTTDKSSSTAYMQLSSLTSEDSAVYYCARYYSEDDERGHYCLDYWGQGTTLTVSS\n",
      "                         ^^^^^^^^                 ^^^^^^^^                                      ^^^^^^^^^^^^^^^^^           \n"
     ]
    }
   ],
   "source": [
    "chain.print(numbering=True)"
   ]
  },
  {
   "cell_type": "code",
   "execution_count": 4,
   "metadata": {},
   "outputs": [
    {
     "data": {
      "text/plain": [
       "'EVQLQQSGAELARPGASVKMSCKASGYTFTRYTMHWVKQRPGQGLEWIGYINPSRGYTNYNQKFKDKATLTTDKSSSTAYMQLSSLTSEDSAVYYCARYYSEDDERGHYCLDYWGQGTTLTVSS'"
      ]
     },
     "execution_count": 4,
     "metadata": {},
     "output_type": "execute_result"
    }
   ],
   "source": [
    "chain.seq"
   ]
  },
  {
   "cell_type": "code",
   "execution_count": 5,
   "metadata": {},
   "outputs": [
    {
     "data": {
      "text/plain": [
       "'AKTTAPSVYPLA'"
      ]
     },
     "execution_count": 5,
     "metadata": {},
     "output_type": "execute_result"
    }
   ],
   "source": [
    "chain.tail"
   ]
  },
  {
   "cell_type": "code",
   "execution_count": 6,
   "metadata": {},
   "outputs": [
    {
     "data": {
      "text/plain": [
       "'ARYYSEDDERGHYCLDY'"
      ]
     },
     "execution_count": 6,
     "metadata": {},
     "output_type": "execute_result"
    }
   ],
   "source": [
    "chain.cdr3_seq"
   ]
  },
  {
   "cell_type": "code",
   "execution_count": 7,
   "metadata": {},
   "outputs": [
    {
     "name": "stdout",
     "output_type": "stream",
     "text": [
      "       H1 E     CDR1 H27 G     CDR2 H56 I          H84 S    CDR3 H109 S\n",
      "       H2 V     CDR1 H28 Y     CDR2 H57 N          H85 S    CDR3 H110 E\n",
      "       H3 Q     CDR1 H29 T     CDR2 H58 P          H86 T    CDR3 H111 D\n",
      "       H4 L     CDR1 H30 F     CDR2 H59 S          H87 A    CDR3 H111A D\n",
      "       H5 Q     CDR1 H35 T     CDR2 H62 R          H88 Y    CDR3 H111B E\n",
      "       H6 Q     CDR1 H36 R     CDR2 H63 G          H89 M    CDR3 H112B R\n",
      "       H7 S     CDR1 H37 Y     CDR2 H64 Y          H90 Q    CDR3 H112A G\n",
      "       H8 G     CDR1 H38 T     CDR2 H65 T          H91 L    CDR3 H112 H\n",
      "       H9 A          H39 M          H66 N          H92 S    CDR3 H113 Y\n",
      "      H11 E          H40 H          H67 Y          H93 S    CDR3 H114 C\n",
      "      H12 L          H41 W          H68 N          H94 L    CDR3 H115 L\n",
      "      H13 A          H42 V          H69 Q          H95 T    CDR3 H116 D\n",
      "      H14 R          H43 K          H70 K          H96 S    CDR3 H117 Y\n",
      "      H15 P          H44 Q          H71 F          H97 E         H118 W\n",
      "      H16 G          H45 R          H72 K          H98 D         H119 G\n",
      "      H17 A          H46 P          H74 D          H99 S         H120 Q\n",
      "      H18 S          H47 G          H75 K         H100 A         H121 G\n",
      "      H19 V          H48 Q          H76 A         H101 V         H122 T\n",
      "      H20 K          H49 G          H77 T         H102 Y         H123 T\n",
      "      H21 M          H50 L          H78 L         H103 Y         H124 L\n",
      "      H22 S          H51 E          H79 T         H104 C         H125 T\n",
      "      H23 C          H52 W          H80 T    CDR3 H105 A         H126 V\n",
      "      H24 K          H53 I          H81 D    CDR3 H106 R         H127 S\n",
      "      H25 A          H54 G          H82 K    CDR3 H107 Y         H128 S\n",
      "      H26 S          H55 Y          H83 S    CDR3 H108 Y\n"
     ]
    }
   ],
   "source": [
    "chain.print_tall()"
   ]
  },
  {
   "cell_type": "markdown",
   "metadata": {},
   "source": [
    "## Separate CDR definitions"
   ]
  },
  {
   "cell_type": "code",
   "execution_count": 8,
   "metadata": {},
   "outputs": [
    {
     "data": {
      "text/plain": [
       "EVQLQQSGAELARPGASVKMSCKASGYTFTRYTMHWVKQRPGQGLEWIGYINPSRGYTNYNQKFKDKATLTTDKSSSTAYMQLSSLTSEDSAVYYCARYYSEDDERGHYCLDYWGQGTTLTVSS\n",
       "                         ^^^^^^^                   ^^^^^^                                         ^^^^^^^^^^^^^^^           "
      ]
     },
     "execution_count": 8,
     "metadata": {},
     "output_type": "execute_result"
    }
   ],
   "source": [
    "Chain(seq, scheme='imgt', cdr_definition='chothia')"
   ]
  },
  {
   "cell_type": "code",
   "execution_count": 9,
   "metadata": {},
   "outputs": [
    {
     "data": {
      "text/plain": [
       "EVQLQQSGAELARPGASVKMSCKASGYTFTRYTMHWVKQRPGQGLEWIGYINPSRGYTNYNQKFKDKATLTTDKSSSTAYMQLSSLTSEDSAVYYCARYYSEDDERGHYCLDYWGQGTTLTVSS\n",
       "                      ^^^^^^^^^^^^^              ^^^^^^^^^^                                     ^^^^^^^^^^^^^^^^^           "
      ]
     },
     "execution_count": 9,
     "metadata": {},
     "output_type": "execute_result"
    }
   ],
   "source": [
    "Chain(seq, scheme='imgt', cdr_definition='north')"
   ]
  },
  {
   "cell_type": "markdown",
   "metadata": {},
   "source": [
    "## Renumbering"
   ]
  },
  {
   "cell_type": "code",
   "execution_count": 10,
   "metadata": {},
   "outputs": [
    {
     "name": "stdout",
     "output_type": "stream",
     "text": [
      "       H1 E          H22 C          H43 Q          H63 F         H82B S    CDR3 H100B R\n",
      "       H2 V          H23 K          H44 G          H64 K         H82C L    CDR3 H100C G\n",
      "       H3 Q          H24 A          H45 L          H65 D          H83 T    CDR3 H100D H\n",
      "       H4 L          H25 S          H46 E          H66 K          H84 S    CDR3 H100E Y\n",
      "       H5 Q     CDR1 H26 G          H47 W          H67 A          H85 E    CDR3 H100F C\n",
      "       H6 Q     CDR1 H27 Y          H48 I          H68 T          H86 D    CDR3 H100G L\n",
      "       H7 S     CDR1 H28 T          H49 G          H69 L          H87 S    CDR3 H101 D\n",
      "       H8 G     CDR1 H29 F          H50 Y          H70 T          H88 A    CDR3 H102 Y\n",
      "       H9 A     CDR1 H30 T     CDR2 H51 I          H71 T          H89 V         H103 W\n",
      "      H10 E     CDR1 H31 R     CDR2 H52 N          H72 D          H90 Y         H104 G\n",
      "      H11 L     CDR1 H32 Y    CDR2 H52A P          H73 K          H91 Y         H105 Q\n",
      "      H12 A     CDR1 H33 T     CDR2 H53 S          H74 S          H92 C         H106 G\n",
      "      H13 R          H34 M     CDR2 H54 R          H75 S     CDR3 H93 A         H107 T\n",
      "      H14 P          H35 H     CDR2 H55 G          H76 S     CDR3 H94 R         H108 T\n",
      "      H15 G          H36 W     CDR2 H56 Y          H77 T     CDR3 H95 Y         H109 L\n",
      "      H16 A          H37 V     CDR2 H57 T          H78 A     CDR3 H96 Y         H110 T\n",
      "      H17 S          H38 K          H58 N          H79 Y     CDR3 H97 S         H111 V\n",
      "      H18 V          H39 Q          H59 Y          H80 M     CDR3 H98 E         H112 S\n",
      "      H19 K          H40 R          H60 N          H81 Q     CDR3 H99 D         H113 S\n",
      "      H20 M          H41 P          H61 Q          H82 L    CDR3 H100 D\n",
      "      H21 S          H42 G          H62 K         H82A S    CDR3 H100A E\n"
     ]
    }
   ],
   "source": [
    "# Use Chothia numbering and CDR definitions\n",
    "chain.renumber('chothia').print_tall(6)"
   ]
  },
  {
   "cell_type": "code",
   "execution_count": 11,
   "metadata": {},
   "outputs": [
    {
     "name": "stdout",
     "output_type": "stream",
     "text": [
      "       H1 E          H23 C          H48 Q          H71 F          H93 S    CDR3 H112B R\n",
      "       H2 V          H24 K          H49 G          H72 K          H94 L    CDR3 H112A G\n",
      "       H3 Q          H25 A          H50 L          H74 D          H95 T    CDR3 H112 H\n",
      "       H4 L          H26 S          H51 E          H75 K          H96 S    CDR3 H113 Y\n",
      "       H5 Q     CDR1 H27 G          H52 W          H76 A          H97 E    CDR3 H114 C\n",
      "       H6 Q     CDR1 H28 Y          H53 I          H77 T          H98 D    CDR3 H115 L\n",
      "       H7 S     CDR1 H29 T          H54 G          H78 L          H99 S    CDR3 H116 D\n",
      "       H8 G     CDR1 H30 F          H55 Y          H79 T         H100 A    CDR3 H117 Y\n",
      "       H9 A     CDR1 H35 T          H56 I          H80 T         H101 V         H118 W\n",
      "      H11 E     CDR1 H36 R     CDR2 H57 N          H81 D         H102 Y         H119 G\n",
      "      H12 L     CDR1 H37 Y     CDR2 H58 P          H82 K         H103 Y         H120 Q\n",
      "      H13 A          H38 T     CDR2 H59 S          H83 S         H104 C         H121 G\n",
      "      H14 R          H39 M     CDR2 H62 R          H84 S         H105 A         H122 T\n",
      "      H15 P          H40 H     CDR2 H63 G          H85 S         H106 R         H123 T\n",
      "      H16 G          H41 W     CDR2 H64 Y          H86 T    CDR3 H107 Y         H124 L\n",
      "      H17 A          H42 V          H65 T          H87 A    CDR3 H108 Y         H125 T\n",
      "      H18 S          H43 K          H66 N          H88 Y    CDR3 H109 S         H126 V\n",
      "      H19 V          H44 Q          H67 Y          H89 M    CDR3 H110 E         H127 S\n",
      "      H20 K          H45 R          H68 N          H90 Q    CDR3 H111 D         H128 S\n",
      "      H21 M          H46 P          H69 Q          H91 L    CDR3 H111A D\n",
      "      H22 S          H47 G          H70 K          H92 S    CDR3 H111B E\n"
     ]
    }
   ],
   "source": [
    "# Keep IMGT numbering, use Chothia CDR definitions\n",
    "chain.renumber(cdr_definition='chothia').print_tall(6)"
   ]
  },
  {
   "cell_type": "markdown",
   "metadata": {},
   "source": [
    "## Chain properties"
   ]
  },
  {
   "cell_type": "code",
   "execution_count": 12,
   "metadata": {},
   "outputs": [
    {
     "data": {
      "text/plain": [
       "'imgt'"
      ]
     },
     "execution_count": 12,
     "metadata": {},
     "output_type": "execute_result"
    }
   ],
   "source": [
    "chain.scheme"
   ]
  },
  {
   "cell_type": "code",
   "execution_count": 13,
   "metadata": {},
   "outputs": [
    {
     "data": {
      "text/plain": [
       "'H'"
      ]
     },
     "execution_count": 13,
     "metadata": {},
     "output_type": "execute_result"
    }
   ],
   "source": [
    "chain.chain_type"
   ]
  },
  {
   "cell_type": "code",
   "execution_count": 14,
   "metadata": {},
   "outputs": [
    {
     "data": {
      "text/plain": [
       "True"
      ]
     },
     "execution_count": 14,
     "metadata": {},
     "output_type": "execute_result"
    }
   ],
   "source": [
    "chain.is_heavy_chain()"
   ]
  },
  {
   "cell_type": "code",
   "execution_count": 15,
   "metadata": {},
   "outputs": [
    {
     "data": {
      "text/plain": [
       "124"
      ]
     },
     "execution_count": 15,
     "metadata": {},
     "output_type": "execute_result"
    }
   ],
   "source": [
    "len(chain)"
   ]
  },
  {
   "cell_type": "markdown",
   "metadata": {},
   "source": [
    "## Chain indexing and slicing"
   ]
  },
  {
   "cell_type": "code",
   "execution_count": 16,
   "metadata": {},
   "outputs": [
    {
     "data": {
      "text/plain": [
       "'H'"
      ]
     },
     "execution_count": 16,
     "metadata": {},
     "output_type": "execute_result"
    }
   ],
   "source": [
    "chain['112']"
   ]
  },
  {
   "cell_type": "code",
   "execution_count": 17,
   "metadata": {},
   "outputs": [
    {
     "data": {
      "text/plain": [
       "'Y'"
      ]
     },
     "execution_count": 17,
     "metadata": {},
     "output_type": "execute_result"
    }
   ],
   "source": [
    "chain.raw[112]"
   ]
  },
  {
   "cell_type": "code",
   "execution_count": 18,
   "metadata": {},
   "outputs": [
    {
     "data": {
      "text/plain": [
       "EVQLQQSGAELARPGASVKMSCKASGYTF\n",
       "                         ^^^^"
      ]
     },
     "execution_count": 18,
     "metadata": {},
     "output_type": "execute_result"
    }
   ],
   "source": [
    "chain[:'30']"
   ]
  },
  {
   "cell_type": "code",
   "execution_count": 19,
   "metadata": {},
   "outputs": [
    {
     "data": {
      "text/plain": [
       "QGTTLTVSS\n",
       "         "
      ]
     },
     "execution_count": 19,
     "metadata": {},
     "output_type": "execute_result"
    }
   ],
   "source": [
    "chain['120':]"
   ]
  },
  {
   "cell_type": "code",
   "execution_count": 20,
   "metadata": {},
   "outputs": [
    {
     "data": {
      "text/plain": [
       "GQGTTLTVSS\n",
       "          "
      ]
     },
     "execution_count": 20,
     "metadata": {},
     "output_type": "execute_result"
    }
   ],
   "source": [
    "chain.raw[114:]"
   ]
  },
  {
   "cell_type": "code",
   "execution_count": 21,
   "metadata": {},
   "outputs": [
    {
     "data": {
      "text/plain": [
       "GQGTTLTVSS\n",
       "          "
      ]
     },
     "execution_count": 21,
     "metadata": {},
     "output_type": "execute_result"
    }
   ],
   "source": [
    "chain.raw[-10:]"
   ]
  },
  {
   "cell_type": "code",
   "execution_count": 22,
   "metadata": {},
   "outputs": [
    {
     "data": {
      "text/plain": [
       "GQGTTLTVSS\n",
       "          "
      ]
     },
     "execution_count": 22,
     "metadata": {},
     "output_type": "execute_result"
    }
   ],
   "source": [
    "chain.raw[-10:]"
   ]
  },
  {
   "cell_type": "code",
   "execution_count": 23,
   "metadata": {},
   "outputs": [
    {
     "name": "stdout",
     "output_type": "stream",
     "text": [
      "CDR3 H111A D   CDR3 H111B E   CDR3 H112B R   CDR3 H112A G\n"
     ]
    }
   ],
   "source": [
    "chain['111A':'112A'].print_tall()"
   ]
  },
  {
   "cell_type": "code",
   "execution_count": 24,
   "metadata": {},
   "outputs": [
    {
     "name": "stdout",
     "output_type": "stream",
     "text": [
      "H111A D\n",
      "H111B E\n",
      "H112B R\n",
      "H112A G\n"
     ]
    }
   ],
   "source": [
    "for pos, aa in chain['111A':'112A']:\n",
    "     print(pos, aa)"
   ]
  },
  {
   "cell_type": "code",
   "execution_count": 25,
   "metadata": {},
   "outputs": [
    {
     "name": "stdout",
     "output_type": "stream",
     "text": [
      "H1 E\n",
      "H2 V\n",
      "H3 Q\n",
      "H4 L\n",
      "H5 Q\n",
      "H6 Q\n",
      "H7 S\n",
      "H8 G\n",
      "H9 A\n",
      "H11 E\n"
     ]
    }
   ],
   "source": [
    "for pos, aa in chain.raw[:10]:\n",
    "     print(pos, aa)"
   ]
  },
  {
   "cell_type": "markdown",
   "metadata": {},
   "source": [
    "## Alignment"
   ]
  },
  {
   "cell_type": "code",
   "execution_count": 26,
   "metadata": {},
   "outputs": [
    {
     "data": {
      "text/plain": [
       "QVQLVQSGAELDRPGATVKMSCKASGYTTTRYTMHWVKQRPGQGLDWIGYINPSDRSYTNYNQKFKDKATLTTDKSSSTAYMQKTSLTSEDSAVYYCARYYDDERYDYLDRWGQGTTLTVSS\n",
       "                         ^^^^^^^^                 ^^^^^^^^^                                      ^^^^^^^^^^^^^^           "
      ]
     },
     "execution_count": 26,
     "metadata": {},
     "output_type": "execute_result"
    }
   ],
   "source": [
    "seq2 = 'QVQLVQSGAELDRPGATVKMSCKASGYTTTRYTMHWVKQRPGQGLDWIGYINPSDRSYTNYNQKFKDKATLTTDKSSSTAYMQKTSLTSEDSAVYYCARYYDDERYDYLDRWGQGTTLTVSSAKTTAP'\n",
    "chain2 = Chain(seq2, scheme='imgt')\n",
    "chain2"
   ]
  },
  {
   "cell_type": "code",
   "execution_count": 27,
   "metadata": {},
   "outputs": [
    {
     "data": {
      "text/plain": [
       "EVQLQQSGAELARPGASVKMSCKASGYTFTRYTMHWVKQRPGQGLEWIGYINPS-RGYTNYNQKFKDKATLTTDKSSSTAYMQLSSLTSEDSAVYYCARYYSEDDERGHYCLDYWGQGTTLTVSS\n",
       "+|||.||||||.||||+|||||||||||.||||||||||||||||+||||||||.|.||||||||||||||||||||||||||.+||||||||||||||||.++....+..||.|||||||||||\n",
       "QVQLVQSGAELDRPGATVKMSCKASGYTTTRYTMHWVKQRPGQGLDWIGYINPSDRSYTNYNQKFKDKATLTTDKSSSTAYMQKTSLTSEDSAVYYCARYYDDE---RYDYLDRWGQGTTLTVSS\n",
       "                         ^^^^^^^^                 ^^^^^^^^^                                      ^^^^^^^^^^^^^^^^^           "
      ]
     },
     "execution_count": 27,
     "metadata": {},
     "output_type": "execute_result"
    }
   ],
   "source": [
    "alignment = chain.align(chain2)\n",
    "alignment"
   ]
  },
  {
   "cell_type": "markdown",
   "metadata": {},
   "source": [
    "## Alignment indexing and slicing"
   ]
  },
  {
   "cell_type": "code",
   "execution_count": 28,
   "metadata": {},
   "outputs": [
    {
     "name": "stdout",
     "output_type": "stream",
     "text": [
      "G R\n"
     ]
    }
   ],
   "source": [
    "aa, bb = alignment['112A']\n",
    "print(aa, bb)"
   ]
  },
  {
   "cell_type": "code",
   "execution_count": 29,
   "metadata": {},
   "outputs": [
    {
     "data": {
      "text/plain": [
       "('L', 'L')"
      ]
     },
     "execution_count": 29,
     "metadata": {},
     "output_type": "execute_result"
    }
   ],
   "source": [
    "aa, bb = alignment.raw[10]\n",
    "aa, bb"
   ]
  },
  {
   "cell_type": "code",
   "execution_count": 30,
   "metadata": {},
   "outputs": [
    {
     "name": "stdout",
     "output_type": "stream",
     "text": [
      "H108 Y Y\n",
      "H109 S D\n",
      "H110 E D\n",
      "H111 D E\n",
      "H111A D -\n",
      "H111B E -\n",
      "H112B R -\n",
      "H112A G R\n"
     ]
    }
   ],
   "source": [
    "for pos, (aa, bb) in alignment['108':'112A']:\n",
    "    print(pos, aa, bb)"
   ]
  },
  {
   "cell_type": "code",
   "execution_count": 31,
   "metadata": {},
   "outputs": [
    {
     "name": "stdout",
     "output_type": "stream",
     "text": [
      "H1 E Q\n",
      "H2 V V\n",
      "H3 Q Q\n",
      "H4 L L\n",
      "H5 Q V\n",
      "H6 Q Q\n",
      "H7 S S\n",
      "H8 G G\n",
      "H9 A A\n",
      "H11 E E\n"
     ]
    }
   ],
   "source": [
    "for pos, (aa, bb) in alignment.raw[:10]:\n",
    "    print(pos, aa, bb)"
   ]
  },
  {
   "cell_type": "markdown",
   "metadata": {},
   "source": [
    "## CDR grafting"
   ]
  },
  {
   "cell_type": "code",
   "execution_count": 32,
   "metadata": {},
   "outputs": [
    {
     "data": {
      "text/plain": [
       "EVQLQQSGAELARPGASVKMSCKASGYTFTRYTMHWVKQRPGQGLEWIGYINPS-RGYTNYNQKFKDKATLTTDKSSSTAYMQLSSLTSEDSAVYYCARYYSEDDERGHYCLDYWGQGTTLTVSS\n",
       "+|||.||||||.||||+|||||||||||.||||||||||||||||+||||||||.|.||||||||||||||||||||||||||.+||||||||||||||||.++....+..||.|||||||||||\n",
       "QVQLVQSGAELDRPGATVKMSCKASGYTTTRYTMHWVKQRPGQGLDWIGYINPSDRSYTNYNQKFKDKATLTTDKSSSTAYMQKTSLTSEDSAVYYCARYYDDE---RYDYLDRWGQGTTLTVSS\n",
       "                         ^^^^^^^^                 ^^^^^^^^^                                      ^^^^^^^^^^^^^^^^^           "
      ]
     },
     "execution_count": 32,
     "metadata": {},
     "output_type": "execute_result"
    }
   ],
   "source": [
    "alignment"
   ]
  },
  {
   "cell_type": "code",
   "execution_count": 33,
   "metadata": {},
   "outputs": [
    {
     "name": "stdout",
     "output_type": "stream",
     "text": [
      "QVQLVQSGAELDRPGATVKMSCKASGYTFTRYTMHWVKQRPGQGLDWIGYINPSRGYTNYNQKFKDKATLTTDKSSSTAYMQKTSLTSEDSAVYYCARYYSEDDERGHYCLDYWGQGTTLTVSS\n",
      "                         ^^^^^^^^                 ^^^^^^^^                                      ^^^^^^^^^^^^^^^^^           \n"
     ]
    }
   ],
   "source": [
    "chain.graft_cdrs_onto(chain2).print()"
   ]
  },
  {
   "cell_type": "code",
   "execution_count": 34,
   "metadata": {},
   "outputs": [
    {
     "name": "stdout",
     "output_type": "stream",
     "text": [
      "EVQLQQSGAELARPGASVKMSCKASGYTTTRYTMHWVKQRPGQGLEWIGYINPSDRSYTNYNQKFKDKATLTTDKSSSTAYMQLSSLTSEDSAVYYCARYYDDERYDYLDRWGQGTTLTVSS\n",
      "                         ^^^^^^^^                 ^^^^^^^^^                                      ^^^^^^^^^^^^^^           \n"
     ]
    }
   ],
   "source": [
    "chain2.graft_cdrs_onto(chain).print()"
   ]
  },
  {
   "cell_type": "markdown",
   "metadata": {},
   "source": [
    "# Different numbering schemes"
   ]
  },
  {
   "cell_type": "code",
   "execution_count": 35,
   "metadata": {},
   "outputs": [],
   "source": [
    "from IPython.display import display, HTML"
   ]
  },
  {
   "cell_type": "code",
   "execution_count": 36,
   "metadata": {},
   "outputs": [],
   "source": [
    "EXAMPLES = [\n",
    "    'EVQLQQSGAELARPGASVKMSCKASGYTFTSRRYTMHWVKQRPGQGLEWIGYINPSDERGYTNYNQKFKDKATLTTDKSSSTAYMQLSSLTSEDSAVYYCARYYSEDDERGHYCLDYWGQGTTLTVSSAKTTAPSVYPLA',\n",
    "    'EIVLTQSPATLSLSPGERATLSCRASKGVSTDLSGYSYLHWYQQKPGQAPRLLIYLGYASYLESGVPARFSGSGSGTDFTLTISSLEPEDFAVYYCQHSRDGTLPLTFGGGTKVEIK',\n",
    "    'QSVLTQPPSASGTPGQRVTISCSGSSSNIGSNTVHWYQQLPGTAPKLLIYSDNQRPSGVPDRFSGSKSGTSASLAISGLQSEDEADYYCAAWDDSLNGVFGGGTKLTVL'\n",
    "]"
   ]
  },
  {
   "cell_type": "code",
   "execution_count": 37,
   "metadata": {},
   "outputs": [
    {
     "data": {
      "text/html": [
       "<h3>H imgt</h3>"
      ],
      "text/plain": [
       "<IPython.core.display.HTML object>"
      ]
     },
     "metadata": {},
     "output_type": "display_data"
    },
    {
     "name": "stdout",
     "output_type": "stream",
     "text": [
      "0        1        2         3       4         5         6         7        8         9         10        11            12       \n",
      "12345678912345678901234567890145678901234567890123456789012345678901245678901234567890123456789012345678901112223456789012345678\n",
      "                                                                                                           ABBA                 \n",
      "EVQLQQSGAELARPGASVKMSCKASGYTFTSRRYTMHWVKQRPGQGLEWIGYINPSDERGYTNYNQKFKDKATLTTDKSSSTAYMQLSSLTSEDSAVYYCARYYSEDDERGHYCLDYWGQGTTLTVSS\n",
      "                         ^^^^^^^^^^                 ^^^^^^^^^^                                      ^^^^^^^^^^^^^^^^^           \n"
     ]
    },
    {
     "data": {
      "text/html": [
       "<h3>H chothia</h3>"
      ],
      "text/plain": [
       "<IPython.core.display.HTML object>"
      ]
     },
     "metadata": {},
     "output_type": "display_data"
    },
    {
     "name": "stdout",
     "output_type": "stream",
     "text": [
      "0        1         2         3           4         5            6         7         8            9         10               11  \n",
      "12345678901234567890123456789011123456789012345678901222234567890123456789012345678901222234567890123456789000000001234567890123\n",
      "                               AB                     ABC                              ABC                  ABCDEFG             \n",
      "EVQLQQSGAELARPGASVKMSCKASGYTFTSRRYTMHWVKQRPGQGLEWIGYINPSDERGYTNYNQKFKDKATLTTDKSSSTAYMQLSSLTSEDSAVYYCARYYSEDDERGHYCLDYWGQGTTLTVSS\n",
      "                         ^^^^^^^^^                   ^^^^^^^^                                         ^^^^^^^^^^^^^^^           \n"
     ]
    },
    {
     "data": {
      "text/html": [
       "<h3>H kabat</h3>"
      ],
      "text/plain": [
       "<IPython.core.display.HTML object>"
      ]
     },
     "metadata": {},
     "output_type": "display_data"
    },
    {
     "name": "stdout",
     "output_type": "stream",
     "text": [
      "0        1         2         3           4         5            6         7         8            9         10               11  \n",
      "12345678901234567890123456789012345556789012345678901222234567890123456789012345678901222234567890123456789000000001234567890123\n",
      "                                   AB                 ABC                              ABC                  ABCDEFG             \n",
      "EVQLQQSGAELARPGASVKMSCKASGYTFTSRRYTMHWVKQRPGQGLEWIGYINPSDERGYTNYNQKFKDKATLTTDKSSSTAYMQLSSLTSEDSAVYYCARYYSEDDERGHYCLDYWGQGTTLTVSS\n",
      "                              ^^^^^^^              ^^^^^^^^^^^^^^^^^^^                                ^^^^^^^^^^^^^^^           \n"
     ]
    },
    {
     "data": {
      "text/html": [
       "<h3>H chothia-north</h3>"
      ],
      "text/plain": [
       "<IPython.core.display.HTML object>"
      ]
     },
     "metadata": {},
     "output_type": "display_data"
    },
    {
     "name": "stdout",
     "output_type": "stream",
     "text": [
      "0        1         2         3           4         5            6         7         8            9         10               11  \n",
      "12345678901234567890123456789011123456789012345678901222234567890123456789012345678901222234567890123456789000000001234567890123\n",
      "                               AB                     ABC                              ABC                  ABCDEFG             \n",
      "EVQLQQSGAELARPGASVKMSCKASGYTFTSRRYTMHWVKQRPGQGLEWIGYINPSDERGYTNYNQKFKDKATLTTDKSSSTAYMQLSSLTSEDSAVYYCARYYSEDDERGHYCLDYWGQGTTLTVSS\n",
      "                      ^^^^^^^^^^^^^^^              ^^^^^^^^^^^^                                     ^^^^^^^^^^^^^^^^^           \n"
     ]
    },
    {
     "data": {
      "text/html": [
       "<h3>H aho-north</h3>"
      ],
      "text/plain": [
       "<IPython.core.display.HTML object>"
      ]
     },
     "metadata": {},
     "output_type": "display_data"
    },
    {
     "name": "stdout",
     "output_type": "stream",
     "text": [
      "0       1         2        3      4         5         6        7         8         9         10        11    13       14        \n",
      "12345679012345678901234567901234890123456789012345678901245678901234567890123456789012345678901234567890123451234567890123456789\n",
      "EVQLQQSGAELARPGASVKMSCKASGYTFTSRRYTMHWVKQRPGQGLEWIGYINPSDERGYTNYNQKFKDKATLTTDKSSSTAYMQLSSLTSEDSAVYYCARYYSEDDERGHYCLDYWGQGTTLTVSS\n",
      "                      ^^^^^^^^^^^^^^^              ^^^^^^^^^^^^                                     ^^^^^^^^^^^^^^^^^           \n"
     ]
    },
    {
     "data": {
      "text/html": [
       "<h3>K imgt</h3>"
      ],
      "text/plain": [
       "<IPython.core.display.HTML object>"
      ]
     },
     "metadata": {},
     "output_type": "display_data"
    },
    {
     "name": "stdout",
     "output_type": "stream",
     "text": [
      "0        1         2         3         4         5        6     7        8       9         10        11      12      \n",
      "123456789012345678901234567890123456789012345678901234567845678901245678903456789012345678901234567890345678901234567\n",
      "EIVLTQSPATLSLSPGERATLSCRASKGVSTDLSGYSYLHWYQQKPGQAPRLLIYLGYASYLESGVPARFSGSGSGTDFTLTISSLEPEDFAVYYCQHSRDGTLPLTFGGGTKVEIK\n",
      "                          ^^^^^^^^^^^^                 ^^^^^                                    ^^^^^^^^^^^          \n"
     ]
    },
    {
     "data": {
      "text/html": [
       "<h3>K chothia</h3>"
      ],
      "text/plain": [
       "<IPython.core.display.HTML object>"
      ]
     },
     "metadata": {},
     "output_type": "display_data"
    },
    {
     "name": "stdout",
     "output_type": "stream",
     "text": [
      "0        1         2         3               4         5           6         7         8         9           10      \n",
      "123456789012345678901234567890000000123456789012345678901222345678901234567890123456789012345678901234555678901234567\n",
      "                              ABCDEF                      AB                                           AB            \n",
      "EIVLTQSPATLSLSPGERATLSCRASKGVSTDLSGYSYLHWYQQKPGQAPRLLIYLGYASYLESGVPARFSGSGSGTDFTLTISSLEPEDFAVYYCQHSRDGTLPLTFGGGTKVEIK\n",
      "                       ^^^^^^^^^^^^^^^^^               ^^^^^^^^^                                ^^^^^^^^^^^          \n"
     ]
    },
    {
     "data": {
      "text/html": [
       "<h3>K kabat</h3>"
      ],
      "text/plain": [
       "<IPython.core.display.HTML object>"
      ]
     },
     "metadata": {},
     "output_type": "display_data"
    },
    {
     "name": "stdout",
     "output_type": "stream",
     "text": [
      "0        1         2               3         4         5           6         7         8         9           10      \n",
      "123456789012345678901234567777777890123456789012345678901222345678901234567890123456789012345678901234555678901234567\n",
      "                           ABCDEF                         AB                                           AB            \n",
      "EIVLTQSPATLSLSPGERATLSCRASKGVSTDLSGYSYLHWYQQKPGQAPRLLIYLGYASYLESGVPARFSGSGSGTDFTLTISSLEPEDFAVYYCQHSRDGTLPLTFGGGTKVEIK\n",
      "                       ^^^^^^^^^^^^^^^^^               ^^^^^^^^^                                ^^^^^^^^^^^          \n"
     ]
    },
    {
     "data": {
      "text/html": [
       "<h3>K chothia-north</h3>"
      ],
      "text/plain": [
       "<IPython.core.display.HTML object>"
      ]
     },
     "metadata": {},
     "output_type": "display_data"
    },
    {
     "name": "stdout",
     "output_type": "stream",
     "text": [
      "0        1         2         3               4         5           6         7         8         9           10      \n",
      "123456789012345678901234567890000000123456789012345678901222345678901234567890123456789012345678901234555678901234567\n",
      "                              ABCDEF                      AB                                           AB            \n",
      "EIVLTQSPATLSLSPGERATLSCRASKGVSTDLSGYSYLHWYQQKPGQAPRLLIYLGYASYLESGVPARFSGSGSGTDFTLTISSLEPEDFAVYYCQHSRDGTLPLTFGGGTKVEIK\n",
      "                       ^^^^^^^^^^^^^^^^^              ^^^^^^^^^^                                ^^^^^^^^^^^          \n"
     ]
    },
    {
     "data": {
      "text/html": [
       "<h3>K aho-north</h3>"
      ],
      "text/plain": [
       "<IPython.core.display.HTML object>"
      ]
     },
     "metadata": {},
     "output_type": "display_data"
    },
    {
     "name": "stdout",
     "output_type": "stream",
     "text": [
      "0        1         2       3         4         5         6   7         8       9         10        11 13    14       \n",
      "123456789012345678901234569012345678901234567890123456789678901234567890123478901234567890123456789012456789012345678\n",
      "EIVLTQSPATLSLSPGERATLSCRASKGVSTDLSGYSYLHWYQQKPGQAPRLLIYLGYASYLESGVPARFSGSGSGTDFTLTISSLEPEDFAVYYCQHSRDGTLPLTFGGGTKVEIK\n",
      "                       ^^^^^^^^^^^^^^^^^              ^^^^^^^^^^                                ^^^^^^^^^^^          \n"
     ]
    },
    {
     "data": {
      "text/html": [
       "<h3>L imgt</h3>"
      ],
      "text/plain": [
       "<IPython.core.display.HTML object>"
      ]
     },
     "metadata": {},
     "output_type": "display_data"
    },
    {
     "name": "stdout",
     "output_type": "stream",
     "text": [
      "0        1        2         3     4         5       6    7        8       9         10        11     12      \n",
      "1234567891234567890123456789056789012345678901234567567890124567890345678901234567890123456789345678901234567\n",
      "QSVLTQPPSASGTPGQRVTISCSGSSSNIGSNTVHWYQQLPGTAPKLLIYSDNQRPSGVPDRFSGSKSGTSASLAISGLQSEDEADYYCAAWDDSLNGVFGGGTKLTVL\n",
      "                         ^^^^^^^^                 ^^^                                    ^^^^^^^^^^          \n"
     ]
    },
    {
     "data": {
      "text/html": [
       "<h3>L chothia</h3>"
      ],
      "text/plain": [
       "<IPython.core.display.HTML object>"
      ]
     },
     "metadata": {},
     "output_type": "display_data"
    },
    {
     "name": "stdout",
     "output_type": "stream",
     "text": [
      "0        1        2         3           4         5         6         7         8         9          10      \n",
      "1234567891234567890123456789000123456789012345678901234567890123456789012345678901234567890123455678901234567\n",
      "                             AB                                                                 A            \n",
      "QSVLTQPPSASGTPGQRVTISCSGSSSNIGSNTVHWYQQLPGTAPKLLIYSDNQRPSGVPDRFSGSKSGTSASLAISGLQSEDEADYYCAAWDDSLNGVFGGGTKLTVL\n",
      "                      ^^^^^^^^^^^^^               ^^^^^^^                                ^^^^^^^^^^          \n"
     ]
    },
    {
     "data": {
      "text/html": [
       "<h3>L kabat</h3>"
      ],
      "text/plain": [
       "<IPython.core.display.HTML object>"
      ]
     },
     "metadata": {},
     "output_type": "display_data"
    },
    {
     "name": "stdout",
     "output_type": "stream",
     "text": [
      "0        1        2           3         4         5         6         7         8         9          10      \n",
      "1234567891234567890123456777890123456789012345678901234567890123456789012345678901234567890123455678901234567\n",
      "                          AB                                                                    A            \n",
      "QSVLTQPPSASGTPGQRVTISCSGSSSNIGSNTVHWYQQLPGTAPKLLIYSDNQRPSGVPDRFSGSKSGTSASLAISGLQSEDEADYYCAAWDDSLNGVFGGGTKLTVL\n",
      "                      ^^^^^^^^^^^^^               ^^^^^^^                                ^^^^^^^^^^          \n"
     ]
    },
    {
     "data": {
      "text/html": [
       "<h3>L chothia-north</h3>"
      ],
      "text/plain": [
       "<IPython.core.display.HTML object>"
      ]
     },
     "metadata": {},
     "output_type": "display_data"
    },
    {
     "name": "stdout",
     "output_type": "stream",
     "text": [
      "0        1        2         3           4         5         6         7         8         9          10      \n",
      "1234567891234567890123456789000123456789012345678901234567890123456789012345678901234567890123455678901234567\n",
      "                             AB                                                                 A            \n",
      "QSVLTQPPSASGTPGQRVTISCSGSSSNIGSNTVHWYQQLPGTAPKLLIYSDNQRPSGVPDRFSGSKSGTSASLAISGLQSEDEADYYCAAWDDSLNGVFGGGTKLTVL\n",
      "                      ^^^^^^^^^^^^^              ^^^^^^^^                                ^^^^^^^^^^          \n"
     ]
    },
    {
     "data": {
      "text/html": [
       "<h3>L aho-north</h3>"
      ],
      "text/plain": [
       "<IPython.core.display.HTML object>"
      ]
     },
     "metadata": {},
     "output_type": "display_data"
    },
    {
     "name": "stdout",
     "output_type": "stream",
     "text": [
      "0       1         2        3    4         5        6  7         8       9         10        11 13   14       \n",
      "1234567901234567890123456790123901234567890123456787890123456789012347890123456789012345678901256789012345678\n",
      "QSVLTQPPSASGTPGQRVTISCSGSSSNIGSNTVHWYQQLPGTAPKLLIYSDNQRPSGVPDRFSGSKSGTSASLAISGLQSEDEADYYCAAWDDSLNGVFGGGTKLTVL\n",
      "                      ^^^^^^^^^^^^^              ^^^^^^^^                                ^^^^^^^^^^          \n"
     ]
    }
   ],
   "source": [
    "for chain_seq in EXAMPLES:\n",
    "    for scheme, cdr_definition in [('imgt', 'imgt'), ('chothia','chothia'), ('kabat','kabat'), ('chothia','north'), ('aho','north')]:\n",
    "        chain = Chain(chain_seq, scheme=scheme, cdr_definition=cdr_definition)\n",
    "        scheme_label = scheme + ('-'+cdr_definition if cdr_definition != scheme else '')\n",
    "        display(HTML(f'<h3>{chain.chain_type} {scheme_label}</h3>'))\n",
    "        print(chain.format(numbering=True))"
   ]
  },
  {
   "cell_type": "code",
   "execution_count": 38,
   "metadata": {},
   "outputs": [
    {
     "data": {
      "text/html": [
       "<h3>H imgt (imgt CDR definition)</h3>"
      ],
      "text/plain": [
       "<IPython.core.display.HTML object>"
      ]
     },
     "metadata": {},
     "output_type": "display_data"
    },
    {
     "name": "stdout",
     "output_type": "stream",
     "text": [
      "0        1        2         3       4         5         6         7        8         9         10        11            12       \n",
      "12345678912345678901234567890145678901234567890123456789012345678901245678901234567890123456789012345678901112223456789012345678\n",
      "                                                                                                           ABBA                 \n",
      "EVQLQQSGAELARPGASVKMSCKASGYTFTSRRYTMHWVKQRPGQGLEWIGYINPSDERGYTNYNQKFKDKATLTTDKSSSTAYMQLSSLTSEDSAVYYCARYYSEDDERGHYCLDYWGQGTTLTVSS\n",
      "                         ^^^^^^^^^^                 ^^^^^^^^^^                                      ^^^^^^^^^^^^^^^^^           \n"
     ]
    },
    {
     "data": {
      "text/html": [
       "<h3>H imgt (chothia CDR definition)</h3>"
      ],
      "text/plain": [
       "<IPython.core.display.HTML object>"
      ]
     },
     "metadata": {},
     "output_type": "display_data"
    },
    {
     "name": "stdout",
     "output_type": "stream",
     "text": [
      "0        1        2         3       4         5         6         7        8         9         10        11            12       \n",
      "12345678912345678901234567890145678901234567890123456789012345678901245678901234567890123456789012345678901112223456789012345678\n",
      "                                                                                                           ABBA                 \n",
      "EVQLQQSGAELARPGASVKMSCKASGYTFTSRRYTMHWVKQRPGQGLEWIGYINPSDERGYTNYNQKFKDKATLTTDKSSSTAYMQLSSLTSEDSAVYYCARYYSEDDERGHYCLDYWGQGTTLTVSS\n",
      "                         ^^^^^^^^^                   ^^^^^^^^                                         ^^^^^^^^^^^^^^^           \n"
     ]
    },
    {
     "data": {
      "text/html": [
       "<h3>H imgt (kabat CDR definition)</h3>"
      ],
      "text/plain": [
       "<IPython.core.display.HTML object>"
      ]
     },
     "metadata": {},
     "output_type": "display_data"
    },
    {
     "name": "stdout",
     "output_type": "stream",
     "text": [
      "0        1        2         3       4         5         6         7        8         9         10        11            12       \n",
      "12345678912345678901234567890145678901234567890123456789012345678901245678901234567890123456789012345678901112223456789012345678\n",
      "                                                                                                           ABBA                 \n",
      "EVQLQQSGAELARPGASVKMSCKASGYTFTSRRYTMHWVKQRPGQGLEWIGYINPSDERGYTNYNQKFKDKATLTTDKSSSTAYMQLSSLTSEDSAVYYCARYYSEDDERGHYCLDYWGQGTTLTVSS\n",
      "                              ^^^^^^^              ^^^^^^^^^^^^^^^^^^^                                ^^^^^^^^^^^^^^^           \n"
     ]
    },
    {
     "data": {
      "text/html": [
       "<h3>H imgt (north CDR definition)</h3>"
      ],
      "text/plain": [
       "<IPython.core.display.HTML object>"
      ]
     },
     "metadata": {},
     "output_type": "display_data"
    },
    {
     "name": "stdout",
     "output_type": "stream",
     "text": [
      "0        1        2         3       4         5         6         7        8         9         10        11            12       \n",
      "12345678912345678901234567890145678901234567890123456789012345678901245678901234567890123456789012345678901112223456789012345678\n",
      "                                                                                                           ABBA                 \n",
      "EVQLQQSGAELARPGASVKMSCKASGYTFTSRRYTMHWVKQRPGQGLEWIGYINPSDERGYTNYNQKFKDKATLTTDKSSSTAYMQLSSLTSEDSAVYYCARYYSEDDERGHYCLDYWGQGTTLTVSS\n",
      "                      ^^^^^^^^^^^^^^^              ^^^^^^^^^^^^                                     ^^^^^^^^^^^^^^^^^           \n"
     ]
    },
    {
     "data": {
      "text/html": [
       "<h3>H chothia (imgt CDR definition)</h3>"
      ],
      "text/plain": [
       "<IPython.core.display.HTML object>"
      ]
     },
     "metadata": {},
     "output_type": "display_data"
    },
    {
     "name": "stdout",
     "output_type": "stream",
     "text": [
      "0        1         2         3           4         5            6         7         8            9         10               11  \n",
      "12345678901234567890123456789011123456789012345678901222234567890123456789012345678901222234567890123456789000000001234567890123\n",
      "                               AB                     ABC                              ABC                  ABCDEFG             \n",
      "EVQLQQSGAELARPGASVKMSCKASGYTFTSRRYTMHWVKQRPGQGLEWIGYINPSDERGYTNYNQKFKDKATLTTDKSSSTAYMQLSSLTSEDSAVYYCARYYSEDDERGHYCLDYWGQGTTLTVSS\n",
      "                         ^^^^^^^^^^                 ^^^^^^^^^^                                      ^^^^^^^^^^^^^^^^^           \n"
     ]
    },
    {
     "data": {
      "text/html": [
       "<h3>H chothia (chothia CDR definition)</h3>"
      ],
      "text/plain": [
       "<IPython.core.display.HTML object>"
      ]
     },
     "metadata": {},
     "output_type": "display_data"
    },
    {
     "name": "stdout",
     "output_type": "stream",
     "text": [
      "0        1         2         3           4         5            6         7         8            9         10               11  \n",
      "12345678901234567890123456789011123456789012345678901222234567890123456789012345678901222234567890123456789000000001234567890123\n",
      "                               AB                     ABC                              ABC                  ABCDEFG             \n",
      "EVQLQQSGAELARPGASVKMSCKASGYTFTSRRYTMHWVKQRPGQGLEWIGYINPSDERGYTNYNQKFKDKATLTTDKSSSTAYMQLSSLTSEDSAVYYCARYYSEDDERGHYCLDYWGQGTTLTVSS\n",
      "                         ^^^^^^^^^                   ^^^^^^^^                                         ^^^^^^^^^^^^^^^           \n"
     ]
    },
    {
     "data": {
      "text/html": [
       "<h3>H chothia (kabat CDR definition)</h3>"
      ],
      "text/plain": [
       "<IPython.core.display.HTML object>"
      ]
     },
     "metadata": {},
     "output_type": "display_data"
    },
    {
     "name": "stdout",
     "output_type": "stream",
     "text": [
      "0        1         2         3           4         5            6         7         8            9         10               11  \n",
      "12345678901234567890123456789011123456789012345678901222234567890123456789012345678901222234567890123456789000000001234567890123\n",
      "                               AB                     ABC                              ABC                  ABCDEFG             \n",
      "EVQLQQSGAELARPGASVKMSCKASGYTFTSRRYTMHWVKQRPGQGLEWIGYINPSDERGYTNYNQKFKDKATLTTDKSSSTAYMQLSSLTSEDSAVYYCARYYSEDDERGHYCLDYWGQGTTLTVSS\n",
      "                              ^^^^^^^              ^^^^^^^^^^^^^^^^^^^                                ^^^^^^^^^^^^^^^           \n"
     ]
    },
    {
     "data": {
      "text/html": [
       "<h3>H chothia (north CDR definition)</h3>"
      ],
      "text/plain": [
       "<IPython.core.display.HTML object>"
      ]
     },
     "metadata": {},
     "output_type": "display_data"
    },
    {
     "name": "stdout",
     "output_type": "stream",
     "text": [
      "0        1         2         3           4         5            6         7         8            9         10               11  \n",
      "12345678901234567890123456789011123456789012345678901222234567890123456789012345678901222234567890123456789000000001234567890123\n",
      "                               AB                     ABC                              ABC                  ABCDEFG             \n",
      "EVQLQQSGAELARPGASVKMSCKASGYTFTSRRYTMHWVKQRPGQGLEWIGYINPSDERGYTNYNQKFKDKATLTTDKSSSTAYMQLSSLTSEDSAVYYCARYYSEDDERGHYCLDYWGQGTTLTVSS\n",
      "                      ^^^^^^^^^^^^^^^              ^^^^^^^^^^^^                                     ^^^^^^^^^^^^^^^^^           \n"
     ]
    },
    {
     "data": {
      "text/html": [
       "<h3>H kabat (imgt CDR definition)</h3>"
      ],
      "text/plain": [
       "<IPython.core.display.HTML object>"
      ]
     },
     "metadata": {},
     "output_type": "display_data"
    },
    {
     "name": "stdout",
     "output_type": "stream",
     "text": [
      "0        1         2         3           4         5            6         7         8            9         10               11  \n",
      "12345678901234567890123456789012345556789012345678901222234567890123456789012345678901222234567890123456789000000001234567890123\n",
      "                                   AB                 ABC                              ABC                  ABCDEFG             \n",
      "EVQLQQSGAELARPGASVKMSCKASGYTFTSRRYTMHWVKQRPGQGLEWIGYINPSDERGYTNYNQKFKDKATLTTDKSSSTAYMQLSSLTSEDSAVYYCARYYSEDDERGHYCLDYWGQGTTLTVSS\n",
      "                         ^^^^^^^^^^                 ^^^^^^^^^^                                      ^^^^^^^^^^^^^^^^^           \n"
     ]
    },
    {
     "data": {
      "text/html": [
       "<h3>H kabat (chothia CDR definition)</h3>"
      ],
      "text/plain": [
       "<IPython.core.display.HTML object>"
      ]
     },
     "metadata": {},
     "output_type": "display_data"
    },
    {
     "name": "stdout",
     "output_type": "stream",
     "text": [
      "0        1         2         3           4         5            6         7         8            9         10               11  \n",
      "12345678901234567890123456789012345556789012345678901222234567890123456789012345678901222234567890123456789000000001234567890123\n",
      "                                   AB                 ABC                              ABC                  ABCDEFG             \n",
      "EVQLQQSGAELARPGASVKMSCKASGYTFTSRRYTMHWVKQRPGQGLEWIGYINPSDERGYTNYNQKFKDKATLTTDKSSSTAYMQLSSLTSEDSAVYYCARYYSEDDERGHYCLDYWGQGTTLTVSS\n",
      "                         ^^^^^^^^^                   ^^^^^^^^                                         ^^^^^^^^^^^^^^^           \n"
     ]
    },
    {
     "data": {
      "text/html": [
       "<h3>H kabat (kabat CDR definition)</h3>"
      ],
      "text/plain": [
       "<IPython.core.display.HTML object>"
      ]
     },
     "metadata": {},
     "output_type": "display_data"
    },
    {
     "name": "stdout",
     "output_type": "stream",
     "text": [
      "0        1         2         3           4         5            6         7         8            9         10               11  \n",
      "12345678901234567890123456789012345556789012345678901222234567890123456789012345678901222234567890123456789000000001234567890123\n",
      "                                   AB                 ABC                              ABC                  ABCDEFG             \n",
      "EVQLQQSGAELARPGASVKMSCKASGYTFTSRRYTMHWVKQRPGQGLEWIGYINPSDERGYTNYNQKFKDKATLTTDKSSSTAYMQLSSLTSEDSAVYYCARYYSEDDERGHYCLDYWGQGTTLTVSS\n",
      "                              ^^^^^^^              ^^^^^^^^^^^^^^^^^^^                                ^^^^^^^^^^^^^^^           \n"
     ]
    },
    {
     "data": {
      "text/html": [
       "<h3>H kabat (north CDR definition)</h3>"
      ],
      "text/plain": [
       "<IPython.core.display.HTML object>"
      ]
     },
     "metadata": {},
     "output_type": "display_data"
    },
    {
     "name": "stdout",
     "output_type": "stream",
     "text": [
      "0        1         2         3           4         5            6         7         8            9         10               11  \n",
      "12345678901234567890123456789012345556789012345678901222234567890123456789012345678901222234567890123456789000000001234567890123\n",
      "                                   AB                 ABC                              ABC                  ABCDEFG             \n",
      "EVQLQQSGAELARPGASVKMSCKASGYTFTSRRYTMHWVKQRPGQGLEWIGYINPSDERGYTNYNQKFKDKATLTTDKSSSTAYMQLSSLTSEDSAVYYCARYYSEDDERGHYCLDYWGQGTTLTVSS\n",
      "                      ^^^^^^^^^^^^^^^              ^^^^^^^^^^^^                                     ^^^^^^^^^^^^^^^^^           \n"
     ]
    },
    {
     "data": {
      "text/html": [
       "<h3>H aho (imgt CDR definition)</h3>"
      ],
      "text/plain": [
       "<IPython.core.display.HTML object>"
      ]
     },
     "metadata": {},
     "output_type": "display_data"
    },
    {
     "name": "stdout",
     "output_type": "stream",
     "text": [
      "0       1         2        3      4         5         6        7         8         9         10        11    13       14        \n",
      "12345679012345678901234567901234890123456789012345678901245678901234567890123456789012345678901234567890123451234567890123456789\n",
      "EVQLQQSGAELARPGASVKMSCKASGYTFTSRRYTMHWVKQRPGQGLEWIGYINPSDERGYTNYNQKFKDKATLTTDKSSSTAYMQLSSLTSEDSAVYYCARYYSEDDERGHYCLDYWGQGTTLTVSS\n",
      "                         ^^^^^^^^^^                 ^^^^^^^^^^                                      ^^^^^^^^^^^^^^^^^           \n"
     ]
    },
    {
     "data": {
      "text/html": [
       "<h3>H aho (chothia CDR definition)</h3>"
      ],
      "text/plain": [
       "<IPython.core.display.HTML object>"
      ]
     },
     "metadata": {},
     "output_type": "display_data"
    },
    {
     "name": "stdout",
     "output_type": "stream",
     "text": [
      "0       1         2        3      4         5         6        7         8         9         10        11    13       14        \n",
      "12345679012345678901234567901234890123456789012345678901245678901234567890123456789012345678901234567890123451234567890123456789\n",
      "EVQLQQSGAELARPGASVKMSCKASGYTFTSRRYTMHWVKQRPGQGLEWIGYINPSDERGYTNYNQKFKDKATLTTDKSSSTAYMQLSSLTSEDSAVYYCARYYSEDDERGHYCLDYWGQGTTLTVSS\n",
      "                         ^^^^^^^^^                   ^^^^^^^^                                         ^^^^^^^^^^^^^^^           \n"
     ]
    },
    {
     "data": {
      "text/html": [
       "<h3>H aho (kabat CDR definition)</h3>"
      ],
      "text/plain": [
       "<IPython.core.display.HTML object>"
      ]
     },
     "metadata": {},
     "output_type": "display_data"
    },
    {
     "name": "stdout",
     "output_type": "stream",
     "text": [
      "0       1         2        3      4         5         6        7         8         9         10        11    13       14        \n",
      "12345679012345678901234567901234890123456789012345678901245678901234567890123456789012345678901234567890123451234567890123456789\n",
      "EVQLQQSGAELARPGASVKMSCKASGYTFTSRRYTMHWVKQRPGQGLEWIGYINPSDERGYTNYNQKFKDKATLTTDKSSSTAYMQLSSLTSEDSAVYYCARYYSEDDERGHYCLDYWGQGTTLTVSS\n",
      "                              ^^^^^^^              ^^^^^^^^^^^^^^^^^^^                                ^^^^^^^^^^^^^^^           \n"
     ]
    },
    {
     "data": {
      "text/html": [
       "<h3>H aho (north CDR definition)</h3>"
      ],
      "text/plain": [
       "<IPython.core.display.HTML object>"
      ]
     },
     "metadata": {},
     "output_type": "display_data"
    },
    {
     "name": "stdout",
     "output_type": "stream",
     "text": [
      "0       1         2        3      4         5         6        7         8         9         10        11    13       14        \n",
      "12345679012345678901234567901234890123456789012345678901245678901234567890123456789012345678901234567890123451234567890123456789\n",
      "EVQLQQSGAELARPGASVKMSCKASGYTFTSRRYTMHWVKQRPGQGLEWIGYINPSDERGYTNYNQKFKDKATLTTDKSSSTAYMQLSSLTSEDSAVYYCARYYSEDDERGHYCLDYWGQGTTLTVSS\n",
      "                      ^^^^^^^^^^^^^^^              ^^^^^^^^^^^^                                     ^^^^^^^^^^^^^^^^^           \n"
     ]
    },
    {
     "data": {
      "text/html": [
       "<h3>K imgt (imgt CDR definition)</h3>"
      ],
      "text/plain": [
       "<IPython.core.display.HTML object>"
      ]
     },
     "metadata": {},
     "output_type": "display_data"
    },
    {
     "name": "stdout",
     "output_type": "stream",
     "text": [
      "0        1         2         3         4         5        6     7        8       9         10        11      12      \n",
      "123456789012345678901234567890123456789012345678901234567845678901245678903456789012345678901234567890345678901234567\n",
      "EIVLTQSPATLSLSPGERATLSCRASKGVSTDLSGYSYLHWYQQKPGQAPRLLIYLGYASYLESGVPARFSGSGSGTDFTLTISSLEPEDFAVYYCQHSRDGTLPLTFGGGTKVEIK\n",
      "                          ^^^^^^^^^^^^                 ^^^^^                                    ^^^^^^^^^^^          \n"
     ]
    },
    {
     "data": {
      "text/html": [
       "<h3>K imgt (chothia CDR definition)</h3>"
      ],
      "text/plain": [
       "<IPython.core.display.HTML object>"
      ]
     },
     "metadata": {},
     "output_type": "display_data"
    },
    {
     "name": "stdout",
     "output_type": "stream",
     "text": [
      "0        1         2         3         4         5        6     7        8       9         10        11      12      \n",
      "123456789012345678901234567890123456789012345678901234567845678901245678903456789012345678901234567890345678901234567\n",
      "EIVLTQSPATLSLSPGERATLSCRASKGVSTDLSGYSYLHWYQQKPGQAPRLLIYLGYASYLESGVPARFSGSGSGTDFTLTISSLEPEDFAVYYCQHSRDGTLPLTFGGGTKVEIK\n",
      "                       ^^^^^^^^^^^^^^^^^               ^^^^^^^^^                                ^^^^^^^^^^^          \n"
     ]
    },
    {
     "data": {
      "text/html": [
       "<h3>K imgt (kabat CDR definition)</h3>"
      ],
      "text/plain": [
       "<IPython.core.display.HTML object>"
      ]
     },
     "metadata": {},
     "output_type": "display_data"
    },
    {
     "name": "stdout",
     "output_type": "stream",
     "text": [
      "0        1         2         3         4         5        6     7        8       9         10        11      12      \n",
      "123456789012345678901234567890123456789012345678901234567845678901245678903456789012345678901234567890345678901234567\n",
      "EIVLTQSPATLSLSPGERATLSCRASKGVSTDLSGYSYLHWYQQKPGQAPRLLIYLGYASYLESGVPARFSGSGSGTDFTLTISSLEPEDFAVYYCQHSRDGTLPLTFGGGTKVEIK\n",
      "                       ^^^^^^^^^^^^^^^^^               ^^^^^^^^^                                ^^^^^^^^^^^          \n"
     ]
    },
    {
     "data": {
      "text/html": [
       "<h3>K imgt (north CDR definition)</h3>"
      ],
      "text/plain": [
       "<IPython.core.display.HTML object>"
      ]
     },
     "metadata": {},
     "output_type": "display_data"
    },
    {
     "name": "stdout",
     "output_type": "stream",
     "text": [
      "0        1         2         3         4         5        6     7        8       9         10        11      12      \n",
      "123456789012345678901234567890123456789012345678901234567845678901245678903456789012345678901234567890345678901234567\n",
      "EIVLTQSPATLSLSPGERATLSCRASKGVSTDLSGYSYLHWYQQKPGQAPRLLIYLGYASYLESGVPARFSGSGSGTDFTLTISSLEPEDFAVYYCQHSRDGTLPLTFGGGTKVEIK\n",
      "                       ^^^^^^^^^^^^^^^^^              ^^^^^^^^^^                                ^^^^^^^^^^^          \n"
     ]
    },
    {
     "data": {
      "text/html": [
       "<h3>K chothia (imgt CDR definition)</h3>"
      ],
      "text/plain": [
       "<IPython.core.display.HTML object>"
      ]
     },
     "metadata": {},
     "output_type": "display_data"
    },
    {
     "name": "stdout",
     "output_type": "stream",
     "text": [
      "0        1         2         3               4         5           6         7         8         9           10      \n",
      "123456789012345678901234567890000000123456789012345678901222345678901234567890123456789012345678901234555678901234567\n",
      "                              ABCDEF                      AB                                           AB            \n",
      "EIVLTQSPATLSLSPGERATLSCRASKGVSTDLSGYSYLHWYQQKPGQAPRLLIYLGYASYLESGVPARFSGSGSGTDFTLTISSLEPEDFAVYYCQHSRDGTLPLTFGGGTKVEIK\n",
      "                          ^^^^^^^^^^^^                 ^^^^^                                    ^^^^^^^^^^^          \n"
     ]
    },
    {
     "data": {
      "text/html": [
       "<h3>K chothia (chothia CDR definition)</h3>"
      ],
      "text/plain": [
       "<IPython.core.display.HTML object>"
      ]
     },
     "metadata": {},
     "output_type": "display_data"
    },
    {
     "name": "stdout",
     "output_type": "stream",
     "text": [
      "0        1         2         3               4         5           6         7         8         9           10      \n",
      "123456789012345678901234567890000000123456789012345678901222345678901234567890123456789012345678901234555678901234567\n",
      "                              ABCDEF                      AB                                           AB            \n",
      "EIVLTQSPATLSLSPGERATLSCRASKGVSTDLSGYSYLHWYQQKPGQAPRLLIYLGYASYLESGVPARFSGSGSGTDFTLTISSLEPEDFAVYYCQHSRDGTLPLTFGGGTKVEIK\n",
      "                       ^^^^^^^^^^^^^^^^^               ^^^^^^^^^                                ^^^^^^^^^^^          \n"
     ]
    },
    {
     "data": {
      "text/html": [
       "<h3>K chothia (kabat CDR definition)</h3>"
      ],
      "text/plain": [
       "<IPython.core.display.HTML object>"
      ]
     },
     "metadata": {},
     "output_type": "display_data"
    },
    {
     "name": "stdout",
     "output_type": "stream",
     "text": [
      "0        1         2         3               4         5           6         7         8         9           10      \n",
      "123456789012345678901234567890000000123456789012345678901222345678901234567890123456789012345678901234555678901234567\n",
      "                              ABCDEF                      AB                                           AB            \n",
      "EIVLTQSPATLSLSPGERATLSCRASKGVSTDLSGYSYLHWYQQKPGQAPRLLIYLGYASYLESGVPARFSGSGSGTDFTLTISSLEPEDFAVYYCQHSRDGTLPLTFGGGTKVEIK\n",
      "                       ^^^^^^^^^^^^^^^^^               ^^^^^^^^^                                ^^^^^^^^^^^          \n"
     ]
    },
    {
     "data": {
      "text/html": [
       "<h3>K chothia (north CDR definition)</h3>"
      ],
      "text/plain": [
       "<IPython.core.display.HTML object>"
      ]
     },
     "metadata": {},
     "output_type": "display_data"
    },
    {
     "name": "stdout",
     "output_type": "stream",
     "text": [
      "0        1         2         3               4         5           6         7         8         9           10      \n",
      "123456789012345678901234567890000000123456789012345678901222345678901234567890123456789012345678901234555678901234567\n",
      "                              ABCDEF                      AB                                           AB            \n",
      "EIVLTQSPATLSLSPGERATLSCRASKGVSTDLSGYSYLHWYQQKPGQAPRLLIYLGYASYLESGVPARFSGSGSGTDFTLTISSLEPEDFAVYYCQHSRDGTLPLTFGGGTKVEIK\n",
      "                       ^^^^^^^^^^^^^^^^^              ^^^^^^^^^^                                ^^^^^^^^^^^          \n"
     ]
    },
    {
     "data": {
      "text/html": [
       "<h3>K kabat (imgt CDR definition)</h3>"
      ],
      "text/plain": [
       "<IPython.core.display.HTML object>"
      ]
     },
     "metadata": {},
     "output_type": "display_data"
    },
    {
     "name": "stdout",
     "output_type": "stream",
     "text": [
      "0        1         2               3         4         5           6         7         8         9           10      \n",
      "123456789012345678901234567777777890123456789012345678901222345678901234567890123456789012345678901234555678901234567\n",
      "                           ABCDEF                         AB                                           AB            \n",
      "EIVLTQSPATLSLSPGERATLSCRASKGVSTDLSGYSYLHWYQQKPGQAPRLLIYLGYASYLESGVPARFSGSGSGTDFTLTISSLEPEDFAVYYCQHSRDGTLPLTFGGGTKVEIK\n",
      "                          ^^^^^^^^^^^^                 ^^^^^                                    ^^^^^^^^^^^          \n"
     ]
    },
    {
     "data": {
      "text/html": [
       "<h3>K kabat (chothia CDR definition)</h3>"
      ],
      "text/plain": [
       "<IPython.core.display.HTML object>"
      ]
     },
     "metadata": {},
     "output_type": "display_data"
    },
    {
     "name": "stdout",
     "output_type": "stream",
     "text": [
      "0        1         2               3         4         5           6         7         8         9           10      \n",
      "123456789012345678901234567777777890123456789012345678901222345678901234567890123456789012345678901234555678901234567\n",
      "                           ABCDEF                         AB                                           AB            \n",
      "EIVLTQSPATLSLSPGERATLSCRASKGVSTDLSGYSYLHWYQQKPGQAPRLLIYLGYASYLESGVPARFSGSGSGTDFTLTISSLEPEDFAVYYCQHSRDGTLPLTFGGGTKVEIK\n",
      "                       ^^^^^^^^^^^^^^^^^               ^^^^^^^^^                                ^^^^^^^^^^^          \n"
     ]
    },
    {
     "data": {
      "text/html": [
       "<h3>K kabat (kabat CDR definition)</h3>"
      ],
      "text/plain": [
       "<IPython.core.display.HTML object>"
      ]
     },
     "metadata": {},
     "output_type": "display_data"
    },
    {
     "name": "stdout",
     "output_type": "stream",
     "text": [
      "0        1         2               3         4         5           6         7         8         9           10      \n",
      "123456789012345678901234567777777890123456789012345678901222345678901234567890123456789012345678901234555678901234567\n",
      "                           ABCDEF                         AB                                           AB            \n",
      "EIVLTQSPATLSLSPGERATLSCRASKGVSTDLSGYSYLHWYQQKPGQAPRLLIYLGYASYLESGVPARFSGSGSGTDFTLTISSLEPEDFAVYYCQHSRDGTLPLTFGGGTKVEIK\n",
      "                       ^^^^^^^^^^^^^^^^^               ^^^^^^^^^                                ^^^^^^^^^^^          \n"
     ]
    },
    {
     "data": {
      "text/html": [
       "<h3>K kabat (north CDR definition)</h3>"
      ],
      "text/plain": [
       "<IPython.core.display.HTML object>"
      ]
     },
     "metadata": {},
     "output_type": "display_data"
    },
    {
     "name": "stdout",
     "output_type": "stream",
     "text": [
      "0        1         2               3         4         5           6         7         8         9           10      \n",
      "123456789012345678901234567777777890123456789012345678901222345678901234567890123456789012345678901234555678901234567\n",
      "                           ABCDEF                         AB                                           AB            \n",
      "EIVLTQSPATLSLSPGERATLSCRASKGVSTDLSGYSYLHWYQQKPGQAPRLLIYLGYASYLESGVPARFSGSGSGTDFTLTISSLEPEDFAVYYCQHSRDGTLPLTFGGGTKVEIK\n",
      "                       ^^^^^^^^^^^^^^^^^              ^^^^^^^^^^                                ^^^^^^^^^^^          \n"
     ]
    },
    {
     "data": {
      "text/html": [
       "<h3>K aho (imgt CDR definition)</h3>"
      ],
      "text/plain": [
       "<IPython.core.display.HTML object>"
      ]
     },
     "metadata": {},
     "output_type": "display_data"
    },
    {
     "name": "stdout",
     "output_type": "stream",
     "text": [
      "0        1         2       3         4         5         6   7         8       9         10        11 13    14       \n",
      "123456789012345678901234569012345678901234567890123456789678901234567890123478901234567890123456789012456789012345678\n",
      "EIVLTQSPATLSLSPGERATLSCRASKGVSTDLSGYSYLHWYQQKPGQAPRLLIYLGYASYLESGVPARFSGSGSGTDFTLTISSLEPEDFAVYYCQHSRDGTLPLTFGGGTKVEIK\n",
      "                          ^^^^^^^^^^^^                 ^^^^^                                    ^^^^^^^^^^^          \n"
     ]
    },
    {
     "data": {
      "text/html": [
       "<h3>K aho (chothia CDR definition)</h3>"
      ],
      "text/plain": [
       "<IPython.core.display.HTML object>"
      ]
     },
     "metadata": {},
     "output_type": "display_data"
    },
    {
     "name": "stdout",
     "output_type": "stream",
     "text": [
      "0        1         2       3         4         5         6   7         8       9         10        11 13    14       \n",
      "123456789012345678901234569012345678901234567890123456789678901234567890123478901234567890123456789012456789012345678\n",
      "EIVLTQSPATLSLSPGERATLSCRASKGVSTDLSGYSYLHWYQQKPGQAPRLLIYLGYASYLESGVPARFSGSGSGTDFTLTISSLEPEDFAVYYCQHSRDGTLPLTFGGGTKVEIK\n",
      "                       ^^^^^^^^^^^^^^^^^               ^^^^^^^^^                                ^^^^^^^^^^^          \n"
     ]
    },
    {
     "data": {
      "text/html": [
       "<h3>K aho (kabat CDR definition)</h3>"
      ],
      "text/plain": [
       "<IPython.core.display.HTML object>"
      ]
     },
     "metadata": {},
     "output_type": "display_data"
    },
    {
     "name": "stdout",
     "output_type": "stream",
     "text": [
      "0        1         2       3         4         5         6   7         8       9         10        11 13    14       \n",
      "123456789012345678901234569012345678901234567890123456789678901234567890123478901234567890123456789012456789012345678\n",
      "EIVLTQSPATLSLSPGERATLSCRASKGVSTDLSGYSYLHWYQQKPGQAPRLLIYLGYASYLESGVPARFSGSGSGTDFTLTISSLEPEDFAVYYCQHSRDGTLPLTFGGGTKVEIK\n",
      "                       ^^^^^^^^^^^^^^^^^               ^^^^^^^^^                                ^^^^^^^^^^^          \n"
     ]
    },
    {
     "data": {
      "text/html": [
       "<h3>K aho (north CDR definition)</h3>"
      ],
      "text/plain": [
       "<IPython.core.display.HTML object>"
      ]
     },
     "metadata": {},
     "output_type": "display_data"
    },
    {
     "name": "stdout",
     "output_type": "stream",
     "text": [
      "0        1         2       3         4         5         6   7         8       9         10        11 13    14       \n",
      "123456789012345678901234569012345678901234567890123456789678901234567890123478901234567890123456789012456789012345678\n",
      "EIVLTQSPATLSLSPGERATLSCRASKGVSTDLSGYSYLHWYQQKPGQAPRLLIYLGYASYLESGVPARFSGSGSGTDFTLTISSLEPEDFAVYYCQHSRDGTLPLTFGGGTKVEIK\n",
      "                       ^^^^^^^^^^^^^^^^^              ^^^^^^^^^^                                ^^^^^^^^^^^          \n"
     ]
    },
    {
     "data": {
      "text/html": [
       "<h3>L imgt (imgt CDR definition)</h3>"
      ],
      "text/plain": [
       "<IPython.core.display.HTML object>"
      ]
     },
     "metadata": {},
     "output_type": "display_data"
    },
    {
     "name": "stdout",
     "output_type": "stream",
     "text": [
      "0        1        2         3     4         5       6    7        8       9         10        11     12      \n",
      "1234567891234567890123456789056789012345678901234567567890124567890345678901234567890123456789345678901234567\n",
      "QSVLTQPPSASGTPGQRVTISCSGSSSNIGSNTVHWYQQLPGTAPKLLIYSDNQRPSGVPDRFSGSKSGTSASLAISGLQSEDEADYYCAAWDDSLNGVFGGGTKLTVL\n",
      "                         ^^^^^^^^                 ^^^                                    ^^^^^^^^^^          \n"
     ]
    },
    {
     "data": {
      "text/html": [
       "<h3>L imgt (chothia CDR definition)</h3>"
      ],
      "text/plain": [
       "<IPython.core.display.HTML object>"
      ]
     },
     "metadata": {},
     "output_type": "display_data"
    },
    {
     "name": "stdout",
     "output_type": "stream",
     "text": [
      "0        1        2         3     4         5       6    7        8       9         10        11     12      \n",
      "1234567891234567890123456789056789012345678901234567567890124567890345678901234567890123456789345678901234567\n",
      "QSVLTQPPSASGTPGQRVTISCSGSSSNIGSNTVHWYQQLPGTAPKLLIYSDNQRPSGVPDRFSGSKSGTSASLAISGLQSEDEADYYCAAWDDSLNGVFGGGTKLTVL\n",
      "                      ^^^^^^^^^^^^^               ^^^^^^^                                ^^^^^^^^^^          \n"
     ]
    },
    {
     "data": {
      "text/html": [
       "<h3>L imgt (kabat CDR definition)</h3>"
      ],
      "text/plain": [
       "<IPython.core.display.HTML object>"
      ]
     },
     "metadata": {},
     "output_type": "display_data"
    },
    {
     "name": "stdout",
     "output_type": "stream",
     "text": [
      "0        1        2         3     4         5       6    7        8       9         10        11     12      \n",
      "1234567891234567890123456789056789012345678901234567567890124567890345678901234567890123456789345678901234567\n",
      "QSVLTQPPSASGTPGQRVTISCSGSSSNIGSNTVHWYQQLPGTAPKLLIYSDNQRPSGVPDRFSGSKSGTSASLAISGLQSEDEADYYCAAWDDSLNGVFGGGTKLTVL\n",
      "                      ^^^^^^^^^^^^^               ^^^^^^^                                ^^^^^^^^^^          \n"
     ]
    },
    {
     "data": {
      "text/html": [
       "<h3>L imgt (north CDR definition)</h3>"
      ],
      "text/plain": [
       "<IPython.core.display.HTML object>"
      ]
     },
     "metadata": {},
     "output_type": "display_data"
    },
    {
     "name": "stdout",
     "output_type": "stream",
     "text": [
      "0        1        2         3     4         5       6    7        8       9         10        11     12      \n",
      "1234567891234567890123456789056789012345678901234567567890124567890345678901234567890123456789345678901234567\n",
      "QSVLTQPPSASGTPGQRVTISCSGSSSNIGSNTVHWYQQLPGTAPKLLIYSDNQRPSGVPDRFSGSKSGTSASLAISGLQSEDEADYYCAAWDDSLNGVFGGGTKLTVL\n",
      "                      ^^^^^^^^^^^^^              ^^^^^^^^                                ^^^^^^^^^^          \n"
     ]
    },
    {
     "data": {
      "text/html": [
       "<h3>L chothia (imgt CDR definition)</h3>"
      ],
      "text/plain": [
       "<IPython.core.display.HTML object>"
      ]
     },
     "metadata": {},
     "output_type": "display_data"
    },
    {
     "name": "stdout",
     "output_type": "stream",
     "text": [
      "0        1        2         3           4         5         6         7         8         9          10      \n",
      "1234567891234567890123456789000123456789012345678901234567890123456789012345678901234567890123455678901234567\n",
      "                             AB                                                                 A            \n",
      "QSVLTQPPSASGTPGQRVTISCSGSSSNIGSNTVHWYQQLPGTAPKLLIYSDNQRPSGVPDRFSGSKSGTSASLAISGLQSEDEADYYCAAWDDSLNGVFGGGTKLTVL\n",
      "                         ^^^^^^^^                 ^^^                                    ^^^^^^^^^^          \n"
     ]
    },
    {
     "data": {
      "text/html": [
       "<h3>L chothia (chothia CDR definition)</h3>"
      ],
      "text/plain": [
       "<IPython.core.display.HTML object>"
      ]
     },
     "metadata": {},
     "output_type": "display_data"
    },
    {
     "name": "stdout",
     "output_type": "stream",
     "text": [
      "0        1        2         3           4         5         6         7         8         9          10      \n",
      "1234567891234567890123456789000123456789012345678901234567890123456789012345678901234567890123455678901234567\n",
      "                             AB                                                                 A            \n",
      "QSVLTQPPSASGTPGQRVTISCSGSSSNIGSNTVHWYQQLPGTAPKLLIYSDNQRPSGVPDRFSGSKSGTSASLAISGLQSEDEADYYCAAWDDSLNGVFGGGTKLTVL\n",
      "                      ^^^^^^^^^^^^^               ^^^^^^^                                ^^^^^^^^^^          \n"
     ]
    },
    {
     "data": {
      "text/html": [
       "<h3>L chothia (kabat CDR definition)</h3>"
      ],
      "text/plain": [
       "<IPython.core.display.HTML object>"
      ]
     },
     "metadata": {},
     "output_type": "display_data"
    },
    {
     "name": "stdout",
     "output_type": "stream",
     "text": [
      "0        1        2         3           4         5         6         7         8         9          10      \n",
      "1234567891234567890123456789000123456789012345678901234567890123456789012345678901234567890123455678901234567\n",
      "                             AB                                                                 A            \n",
      "QSVLTQPPSASGTPGQRVTISCSGSSSNIGSNTVHWYQQLPGTAPKLLIYSDNQRPSGVPDRFSGSKSGTSASLAISGLQSEDEADYYCAAWDDSLNGVFGGGTKLTVL\n",
      "                      ^^^^^^^^^^^^^               ^^^^^^^                                ^^^^^^^^^^          \n"
     ]
    },
    {
     "data": {
      "text/html": [
       "<h3>L chothia (north CDR definition)</h3>"
      ],
      "text/plain": [
       "<IPython.core.display.HTML object>"
      ]
     },
     "metadata": {},
     "output_type": "display_data"
    },
    {
     "name": "stdout",
     "output_type": "stream",
     "text": [
      "0        1        2         3           4         5         6         7         8         9          10      \n",
      "1234567891234567890123456789000123456789012345678901234567890123456789012345678901234567890123455678901234567\n",
      "                             AB                                                                 A            \n",
      "QSVLTQPPSASGTPGQRVTISCSGSSSNIGSNTVHWYQQLPGTAPKLLIYSDNQRPSGVPDRFSGSKSGTSASLAISGLQSEDEADYYCAAWDDSLNGVFGGGTKLTVL\n",
      "                      ^^^^^^^^^^^^^              ^^^^^^^^                                ^^^^^^^^^^          \n"
     ]
    },
    {
     "data": {
      "text/html": [
       "<h3>L kabat (imgt CDR definition)</h3>"
      ],
      "text/plain": [
       "<IPython.core.display.HTML object>"
      ]
     },
     "metadata": {},
     "output_type": "display_data"
    },
    {
     "name": "stdout",
     "output_type": "stream",
     "text": [
      "0        1        2           3         4         5         6         7         8         9          10      \n",
      "1234567891234567890123456777890123456789012345678901234567890123456789012345678901234567890123455678901234567\n",
      "                          AB                                                                    A            \n",
      "QSVLTQPPSASGTPGQRVTISCSGSSSNIGSNTVHWYQQLPGTAPKLLIYSDNQRPSGVPDRFSGSKSGTSASLAISGLQSEDEADYYCAAWDDSLNGVFGGGTKLTVL\n",
      "                         ^^^^^^^^                 ^^^                                    ^^^^^^^^^^          \n"
     ]
    },
    {
     "data": {
      "text/html": [
       "<h3>L kabat (chothia CDR definition)</h3>"
      ],
      "text/plain": [
       "<IPython.core.display.HTML object>"
      ]
     },
     "metadata": {},
     "output_type": "display_data"
    },
    {
     "name": "stdout",
     "output_type": "stream",
     "text": [
      "0        1        2           3         4         5         6         7         8         9          10      \n",
      "1234567891234567890123456777890123456789012345678901234567890123456789012345678901234567890123455678901234567\n",
      "                          AB                                                                    A            \n",
      "QSVLTQPPSASGTPGQRVTISCSGSSSNIGSNTVHWYQQLPGTAPKLLIYSDNQRPSGVPDRFSGSKSGTSASLAISGLQSEDEADYYCAAWDDSLNGVFGGGTKLTVL\n",
      "                      ^^^^^^^^^^^^^               ^^^^^^^                                ^^^^^^^^^^          \n"
     ]
    },
    {
     "data": {
      "text/html": [
       "<h3>L kabat (kabat CDR definition)</h3>"
      ],
      "text/plain": [
       "<IPython.core.display.HTML object>"
      ]
     },
     "metadata": {},
     "output_type": "display_data"
    },
    {
     "name": "stdout",
     "output_type": "stream",
     "text": [
      "0        1        2           3         4         5         6         7         8         9          10      \n",
      "1234567891234567890123456777890123456789012345678901234567890123456789012345678901234567890123455678901234567\n",
      "                          AB                                                                    A            \n",
      "QSVLTQPPSASGTPGQRVTISCSGSSSNIGSNTVHWYQQLPGTAPKLLIYSDNQRPSGVPDRFSGSKSGTSASLAISGLQSEDEADYYCAAWDDSLNGVFGGGTKLTVL\n",
      "                      ^^^^^^^^^^^^^               ^^^^^^^                                ^^^^^^^^^^          \n"
     ]
    },
    {
     "data": {
      "text/html": [
       "<h3>L kabat (north CDR definition)</h3>"
      ],
      "text/plain": [
       "<IPython.core.display.HTML object>"
      ]
     },
     "metadata": {},
     "output_type": "display_data"
    },
    {
     "name": "stdout",
     "output_type": "stream",
     "text": [
      "0        1        2           3         4         5         6         7         8         9          10      \n",
      "1234567891234567890123456777890123456789012345678901234567890123456789012345678901234567890123455678901234567\n",
      "                          AB                                                                    A            \n",
      "QSVLTQPPSASGTPGQRVTISCSGSSSNIGSNTVHWYQQLPGTAPKLLIYSDNQRPSGVPDRFSGSKSGTSASLAISGLQSEDEADYYCAAWDDSLNGVFGGGTKLTVL\n",
      "                      ^^^^^^^^^^^^^              ^^^^^^^^                                ^^^^^^^^^^          \n"
     ]
    },
    {
     "data": {
      "text/html": [
       "<h3>L aho (imgt CDR definition)</h3>"
      ],
      "text/plain": [
       "<IPython.core.display.HTML object>"
      ]
     },
     "metadata": {},
     "output_type": "display_data"
    },
    {
     "name": "stdout",
     "output_type": "stream",
     "text": [
      "0       1         2        3    4         5        6  7         8       9         10        11 13   14       \n",
      "1234567901234567890123456790123901234567890123456787890123456789012347890123456789012345678901256789012345678\n",
      "QSVLTQPPSASGTPGQRVTISCSGSSSNIGSNTVHWYQQLPGTAPKLLIYSDNQRPSGVPDRFSGSKSGTSASLAISGLQSEDEADYYCAAWDDSLNGVFGGGTKLTVL\n",
      "                         ^^^^^^^^                 ^^^                                    ^^^^^^^^^^          \n"
     ]
    },
    {
     "data": {
      "text/html": [
       "<h3>L aho (chothia CDR definition)</h3>"
      ],
      "text/plain": [
       "<IPython.core.display.HTML object>"
      ]
     },
     "metadata": {},
     "output_type": "display_data"
    },
    {
     "name": "stdout",
     "output_type": "stream",
     "text": [
      "0       1         2        3    4         5        6  7         8       9         10        11 13   14       \n",
      "1234567901234567890123456790123901234567890123456787890123456789012347890123456789012345678901256789012345678\n",
      "QSVLTQPPSASGTPGQRVTISCSGSSSNIGSNTVHWYQQLPGTAPKLLIYSDNQRPSGVPDRFSGSKSGTSASLAISGLQSEDEADYYCAAWDDSLNGVFGGGTKLTVL\n",
      "                      ^^^^^^^^^^^^^               ^^^^^^^                                ^^^^^^^^^^          \n"
     ]
    },
    {
     "data": {
      "text/html": [
       "<h3>L aho (kabat CDR definition)</h3>"
      ],
      "text/plain": [
       "<IPython.core.display.HTML object>"
      ]
     },
     "metadata": {},
     "output_type": "display_data"
    },
    {
     "name": "stdout",
     "output_type": "stream",
     "text": [
      "0       1         2        3    4         5        6  7         8       9         10        11 13   14       \n",
      "1234567901234567890123456790123901234567890123456787890123456789012347890123456789012345678901256789012345678\n",
      "QSVLTQPPSASGTPGQRVTISCSGSSSNIGSNTVHWYQQLPGTAPKLLIYSDNQRPSGVPDRFSGSKSGTSASLAISGLQSEDEADYYCAAWDDSLNGVFGGGTKLTVL\n",
      "                      ^^^^^^^^^^^^^               ^^^^^^^                                ^^^^^^^^^^          \n"
     ]
    },
    {
     "data": {
      "text/html": [
       "<h3>L aho (north CDR definition)</h3>"
      ],
      "text/plain": [
       "<IPython.core.display.HTML object>"
      ]
     },
     "metadata": {},
     "output_type": "display_data"
    },
    {
     "name": "stdout",
     "output_type": "stream",
     "text": [
      "0       1         2        3    4         5        6  7         8       9         10        11 13   14       \n",
      "1234567901234567890123456790123901234567890123456787890123456789012347890123456789012345678901256789012345678\n",
      "QSVLTQPPSASGTPGQRVTISCSGSSSNIGSNTVHWYQQLPGTAPKLLIYSDNQRPSGVPDRFSGSKSGTSASLAISGLQSEDEADYYCAAWDDSLNGVFGGGTKLTVL\n",
      "                      ^^^^^^^^^^^^^              ^^^^^^^^                                ^^^^^^^^^^          \n"
     ]
    }
   ],
   "source": [
    "for chain_seq in EXAMPLES:\n",
    "    for scheme in ['imgt', 'chothia', 'kabat', 'aho']:\n",
    "        for cdr_definition in ['imgt', 'chothia', 'kabat', 'north']:\n",
    "            chain = Chain(chain_seq, scheme=scheme, cdr_definition=cdr_definition)\n",
    "            display(HTML(f'<h3>{chain.chain_type} {scheme} ({cdr_definition} CDR definition)</h3>'))\n",
    "            chain.print(numbering=True)"
   ]
  },
  {
   "cell_type": "code",
   "execution_count": 39,
   "metadata": {},
   "outputs": [
    {
     "data": {
      "text/html": [
       "<h3>H imgt (imgt CDR definition)</h3>"
      ],
      "text/plain": [
       "<IPython.core.display.HTML object>"
      ]
     },
     "metadata": {},
     "output_type": "display_data"
    },
    {
     "name": "stdout",
     "output_type": "stream",
     "text": [
      "       H1 E          H18 S     CDR1 H36 R          H52 W          H68 N          H85 S         H101 V    CDR3 H113 Y\n",
      "       H2 V          H19 V     CDR1 H37 Y          H53 I          H69 Q          H86 T         H102 Y    CDR3 H114 C\n",
      "       H3 Q          H20 K     CDR1 H38 T          H54 G          H70 K          H87 A         H103 Y    CDR3 H115 L\n",
      "       H4 L          H21 M          H39 M          H55 Y          H71 F          H88 Y         H104 C    CDR3 H116 D\n",
      "       H5 Q          H22 S          H40 H     CDR2 H56 I          H72 K          H89 M    CDR3 H105 A    CDR3 H117 Y\n",
      "       H6 Q          H23 C          H41 W     CDR2 H57 N          H74 D          H90 Q    CDR3 H106 R         H118 W\n",
      "       H7 S          H24 K          H42 V     CDR2 H58 P          H75 K          H91 L    CDR3 H107 Y         H119 G\n",
      "       H8 G          H25 A          H43 K     CDR2 H59 S          H76 A          H92 S    CDR3 H108 Y         H120 Q\n",
      "       H9 A          H26 S          H44 Q     CDR2 H60 D          H77 T          H93 S    CDR3 H109 S         H121 G\n",
      "      H11 E     CDR1 H27 G          H45 R     CDR2 H61 E          H78 L          H94 L    CDR3 H110 E         H122 T\n",
      "      H12 L     CDR1 H28 Y          H46 P     CDR2 H62 R          H79 T          H95 T    CDR3 H111 D         H123 T\n",
      "      H13 A     CDR1 H29 T          H47 G     CDR2 H63 G          H80 T          H96 S    CDR3 H111A D        H124 L\n",
      "      H14 R     CDR1 H30 F          H48 Q     CDR2 H64 Y          H81 D          H97 E    CDR3 H111B E        H125 T\n",
      "      H15 P     CDR1 H31 T          H49 G     CDR2 H65 T          H82 K          H98 D    CDR3 H112B R        H126 V\n",
      "      H16 G     CDR1 H34 S          H50 L          H66 N          H83 S          H99 S    CDR3 H112A G        H127 S\n",
      "      H17 A     CDR1 H35 R          H51 E          H67 Y          H84 S         H100 A    CDR3 H112 H         H128 S\n"
     ]
    },
    {
     "data": {
      "text/html": [
       "<h3>H imgt (chothia CDR definition)</h3>"
      ],
      "text/plain": [
       "<IPython.core.display.HTML object>"
      ]
     },
     "metadata": {},
     "output_type": "display_data"
    },
    {
     "name": "stdout",
     "output_type": "stream",
     "text": [
      "       H1 E          H18 S     CDR1 H36 R          H52 W          H68 N          H85 S         H101 V    CDR3 H113 Y\n",
      "       H2 V          H19 V     CDR1 H37 Y          H53 I          H69 Q          H86 T         H102 Y    CDR3 H114 C\n",
      "       H3 Q          H20 K          H38 T          H54 G          H70 K          H87 A         H103 Y    CDR3 H115 L\n",
      "       H4 L          H21 M          H39 M          H55 Y          H71 F          H88 Y         H104 C    CDR3 H116 D\n",
      "       H5 Q          H22 S          H40 H          H56 I          H72 K          H89 M         H105 A    CDR3 H117 Y\n",
      "       H6 Q          H23 C          H41 W     CDR2 H57 N          H74 D          H90 Q         H106 R         H118 W\n",
      "       H7 S          H24 K          H42 V     CDR2 H58 P          H75 K          H91 L    CDR3 H107 Y         H119 G\n",
      "       H8 G          H25 A          H43 K     CDR2 H59 S          H76 A          H92 S    CDR3 H108 Y         H120 Q\n",
      "       H9 A          H26 S          H44 Q     CDR2 H60 D          H77 T          H93 S    CDR3 H109 S         H121 G\n",
      "      H11 E     CDR1 H27 G          H45 R     CDR2 H61 E          H78 L          H94 L    CDR3 H110 E         H122 T\n",
      "      H12 L     CDR1 H28 Y          H46 P     CDR2 H62 R          H79 T          H95 T    CDR3 H111 D         H123 T\n",
      "      H13 A     CDR1 H29 T          H47 G     CDR2 H63 G          H80 T          H96 S    CDR3 H111A D        H124 L\n",
      "      H14 R     CDR1 H30 F          H48 Q     CDR2 H64 Y          H81 D          H97 E    CDR3 H111B E        H125 T\n",
      "      H15 P     CDR1 H31 T          H49 G          H65 T          H82 K          H98 D    CDR3 H112B R        H126 V\n",
      "      H16 G     CDR1 H34 S          H50 L          H66 N          H83 S          H99 S    CDR3 H112A G        H127 S\n",
      "      H17 A     CDR1 H35 R          H51 E          H67 Y          H84 S         H100 A    CDR3 H112 H         H128 S\n"
     ]
    },
    {
     "data": {
      "text/html": [
       "<h3>H imgt (kabat CDR definition)</h3>"
      ],
      "text/plain": [
       "<IPython.core.display.HTML object>"
      ]
     },
     "metadata": {},
     "output_type": "display_data"
    },
    {
     "name": "stdout",
     "output_type": "stream",
     "text": [
      "       H1 E          H18 S     CDR1 H36 R          H52 W     CDR2 H68 N          H85 S         H101 V    CDR3 H113 Y\n",
      "       H2 V          H19 V     CDR1 H37 Y          H53 I     CDR2 H69 Q          H86 T         H102 Y    CDR3 H114 C\n",
      "       H3 Q          H20 K     CDR1 H38 T          H54 G     CDR2 H70 K          H87 A         H103 Y    CDR3 H115 L\n",
      "       H4 L          H21 M     CDR1 H39 M     CDR2 H55 Y     CDR2 H71 F          H88 Y         H104 C    CDR3 H116 D\n",
      "       H5 Q          H22 S     CDR1 H40 H     CDR2 H56 I     CDR2 H72 K          H89 M         H105 A    CDR3 H117 Y\n",
      "       H6 Q          H23 C          H41 W     CDR2 H57 N     CDR2 H74 D          H90 Q         H106 R         H118 W\n",
      "       H7 S          H24 K          H42 V     CDR2 H58 P          H75 K          H91 L    CDR3 H107 Y         H119 G\n",
      "       H8 G          H25 A          H43 K     CDR2 H59 S          H76 A          H92 S    CDR3 H108 Y         H120 Q\n",
      "       H9 A          H26 S          H44 Q     CDR2 H60 D          H77 T          H93 S    CDR3 H109 S         H121 G\n",
      "      H11 E          H27 G          H45 R     CDR2 H61 E          H78 L          H94 L    CDR3 H110 E         H122 T\n",
      "      H12 L          H28 Y          H46 P     CDR2 H62 R          H79 T          H95 T    CDR3 H111 D         H123 T\n",
      "      H13 A          H29 T          H47 G     CDR2 H63 G          H80 T          H96 S    CDR3 H111A D        H124 L\n",
      "      H14 R          H30 F          H48 Q     CDR2 H64 Y          H81 D          H97 E    CDR3 H111B E        H125 T\n",
      "      H15 P          H31 T          H49 G     CDR2 H65 T          H82 K          H98 D    CDR3 H112B R        H126 V\n",
      "      H16 G     CDR1 H34 S          H50 L     CDR2 H66 N          H83 S          H99 S    CDR3 H112A G        H127 S\n",
      "      H17 A     CDR1 H35 R          H51 E     CDR2 H67 Y          H84 S         H100 A    CDR3 H112 H         H128 S\n"
     ]
    },
    {
     "data": {
      "text/html": [
       "<h3>H imgt (north CDR definition)</h3>"
      ],
      "text/plain": [
       "<IPython.core.display.HTML object>"
      ]
     },
     "metadata": {},
     "output_type": "display_data"
    },
    {
     "name": "stdout",
     "output_type": "stream",
     "text": [
      "       H1 E          H18 S     CDR1 H36 R          H52 W          H68 N          H85 S         H101 V    CDR3 H113 Y\n",
      "       H2 V          H19 V     CDR1 H37 Y          H53 I          H69 Q          H86 T         H102 Y    CDR3 H114 C\n",
      "       H3 Q          H20 K     CDR1 H38 T          H54 G          H70 K          H87 A         H103 Y    CDR3 H115 L\n",
      "       H4 L          H21 M     CDR1 H39 M     CDR2 H55 Y          H71 F          H88 Y         H104 C    CDR3 H116 D\n",
      "       H5 Q          H22 S     CDR1 H40 H     CDR2 H56 I          H72 K          H89 M    CDR3 H105 A    CDR3 H117 Y\n",
      "       H6 Q          H23 C          H41 W     CDR2 H57 N          H74 D          H90 Q    CDR3 H106 R         H118 W\n",
      "       H7 S     CDR1 H24 K          H42 V     CDR2 H58 P          H75 K          H91 L    CDR3 H107 Y         H119 G\n",
      "       H8 G     CDR1 H25 A          H43 K     CDR2 H59 S          H76 A          H92 S    CDR3 H108 Y         H120 Q\n",
      "       H9 A     CDR1 H26 S          H44 Q     CDR2 H60 D          H77 T          H93 S    CDR3 H109 S         H121 G\n",
      "      H11 E     CDR1 H27 G          H45 R     CDR2 H61 E          H78 L          H94 L    CDR3 H110 E         H122 T\n",
      "      H12 L     CDR1 H28 Y          H46 P     CDR2 H62 R          H79 T          H95 T    CDR3 H111 D         H123 T\n",
      "      H13 A     CDR1 H29 T          H47 G     CDR2 H63 G          H80 T          H96 S    CDR3 H111A D        H124 L\n",
      "      H14 R     CDR1 H30 F          H48 Q     CDR2 H64 Y          H81 D          H97 E    CDR3 H111B E        H125 T\n",
      "      H15 P     CDR1 H31 T          H49 G     CDR2 H65 T          H82 K          H98 D    CDR3 H112B R        H126 V\n",
      "      H16 G     CDR1 H34 S          H50 L     CDR2 H66 N          H83 S          H99 S    CDR3 H112A G        H127 S\n",
      "      H17 A     CDR1 H35 R          H51 E          H67 Y          H84 S         H100 A    CDR3 H112 H         H128 S\n"
     ]
    },
    {
     "data": {
      "text/html": [
       "<h3>H chothia (imgt CDR definition)</h3>"
      ],
      "text/plain": [
       "<IPython.core.display.HTML object>"
      ]
     },
     "metadata": {},
     "output_type": "display_data"
    },
    {
     "name": "stdout",
     "output_type": "stream",
     "text": [
      "       H1 E          H17 S    CDR1 H31B R          H47 W          H60 N          H76 S          H89 V    CDR3 H100E Y\n",
      "       H2 V          H18 V     CDR1 H32 Y          H48 I          H61 Q          H77 T          H90 Y    CDR3 H100F C\n",
      "       H3 Q          H19 K     CDR1 H33 T          H49 G          H62 K          H78 A          H91 Y    CDR3 H100G L\n",
      "       H4 L          H20 M          H34 M          H50 Y          H63 F          H79 Y          H92 C    CDR3 H101 D\n",
      "       H5 Q          H21 S          H35 H     CDR2 H51 I          H64 K          H80 M     CDR3 H93 A    CDR3 H102 Y\n",
      "       H6 Q          H22 C          H36 W     CDR2 H52 N          H65 D          H81 Q     CDR3 H94 R         H103 W\n",
      "       H7 S          H23 K          H37 V    CDR2 H52A P          H66 K          H82 L     CDR3 H95 Y         H104 G\n",
      "       H8 G          H24 A          H38 K    CDR2 H52B S          H67 A         H82A S     CDR3 H96 Y         H105 Q\n",
      "       H9 A          H25 S          H39 Q    CDR2 H52C D          H68 T         H82B S     CDR3 H97 S         H106 G\n",
      "      H10 E     CDR1 H26 G          H40 R     CDR2 H53 E          H69 L         H82C L     CDR3 H98 E         H107 T\n",
      "      H11 L     CDR1 H27 Y          H41 P     CDR2 H54 R          H70 T          H83 T     CDR3 H99 D         H108 T\n",
      "      H12 A     CDR1 H28 T          H42 G     CDR2 H55 G          H71 T          H84 S    CDR3 H100 D         H109 L\n",
      "      H13 R     CDR1 H29 F          H43 Q     CDR2 H56 Y          H72 D          H85 E    CDR3 H100A E        H110 T\n",
      "      H14 P     CDR1 H30 T          H44 G     CDR2 H57 T          H73 K          H86 D    CDR3 H100B R        H111 V\n",
      "      H15 G     CDR1 H31 S          H45 L          H58 N          H74 S          H87 S    CDR3 H100C G        H112 S\n",
      "      H16 A    CDR1 H31A R          H46 E          H59 Y          H75 S          H88 A    CDR3 H100D H        H113 S\n"
     ]
    },
    {
     "data": {
      "text/html": [
       "<h3>H chothia (chothia CDR definition)</h3>"
      ],
      "text/plain": [
       "<IPython.core.display.HTML object>"
      ]
     },
     "metadata": {},
     "output_type": "display_data"
    },
    {
     "name": "stdout",
     "output_type": "stream",
     "text": [
      "       H1 E          H17 S    CDR1 H31B R          H47 W          H60 N          H76 S          H89 V    CDR3 H100E Y\n",
      "       H2 V          H18 V     CDR1 H32 Y          H48 I          H61 Q          H77 T          H90 Y    CDR3 H100F C\n",
      "       H3 Q          H19 K          H33 T          H49 G          H62 K          H78 A          H91 Y    CDR3 H100G L\n",
      "       H4 L          H20 M          H34 M          H50 Y          H63 F          H79 Y          H92 C    CDR3 H101 D\n",
      "       H5 Q          H21 S          H35 H          H51 I          H64 K          H80 M          H93 A    CDR3 H102 Y\n",
      "       H6 Q          H22 C          H36 W     CDR2 H52 N          H65 D          H81 Q          H94 R         H103 W\n",
      "       H7 S          H23 K          H37 V    CDR2 H52A P          H66 K          H82 L     CDR3 H95 Y         H104 G\n",
      "       H8 G          H24 A          H38 K    CDR2 H52B S          H67 A         H82A S     CDR3 H96 Y         H105 Q\n",
      "       H9 A          H25 S          H39 Q    CDR2 H52C D          H68 T         H82B S     CDR3 H97 S         H106 G\n",
      "      H10 E     CDR1 H26 G          H40 R     CDR2 H53 E          H69 L         H82C L     CDR3 H98 E         H107 T\n",
      "      H11 L     CDR1 H27 Y          H41 P     CDR2 H54 R          H70 T          H83 T     CDR3 H99 D         H108 T\n",
      "      H12 A     CDR1 H28 T          H42 G     CDR2 H55 G          H71 T          H84 S    CDR3 H100 D         H109 L\n",
      "      H13 R     CDR1 H29 F          H43 Q     CDR2 H56 Y          H72 D          H85 E    CDR3 H100A E        H110 T\n",
      "      H14 P     CDR1 H30 T          H44 G          H57 T          H73 K          H86 D    CDR3 H100B R        H111 V\n",
      "      H15 G     CDR1 H31 S          H45 L          H58 N          H74 S          H87 S    CDR3 H100C G        H112 S\n",
      "      H16 A    CDR1 H31A R          H46 E          H59 Y          H75 S          H88 A    CDR3 H100D H        H113 S\n"
     ]
    },
    {
     "data": {
      "text/html": [
       "<h3>H chothia (kabat CDR definition)</h3>"
      ],
      "text/plain": [
       "<IPython.core.display.HTML object>"
      ]
     },
     "metadata": {},
     "output_type": "display_data"
    },
    {
     "name": "stdout",
     "output_type": "stream",
     "text": [
      "       H1 E          H17 S    CDR1 H31B R          H47 W     CDR2 H60 N          H76 S          H89 V    CDR3 H100E Y\n",
      "       H2 V          H18 V     CDR1 H32 Y          H48 I     CDR2 H61 Q          H77 T          H90 Y    CDR3 H100F C\n",
      "       H3 Q          H19 K     CDR1 H33 T          H49 G     CDR2 H62 K          H78 A          H91 Y    CDR3 H100G L\n",
      "       H4 L          H20 M     CDR1 H34 M     CDR2 H50 Y     CDR2 H63 F          H79 Y          H92 C    CDR3 H101 D\n",
      "       H5 Q          H21 S     CDR1 H35 H     CDR2 H51 I     CDR2 H64 K          H80 M          H93 A    CDR3 H102 Y\n",
      "       H6 Q          H22 C          H36 W     CDR2 H52 N     CDR2 H65 D          H81 Q          H94 R         H103 W\n",
      "       H7 S          H23 K          H37 V    CDR2 H52A P          H66 K          H82 L     CDR3 H95 Y         H104 G\n",
      "       H8 G          H24 A          H38 K    CDR2 H52B S          H67 A         H82A S     CDR3 H96 Y         H105 Q\n",
      "       H9 A          H25 S          H39 Q    CDR2 H52C D          H68 T         H82B S     CDR3 H97 S         H106 G\n",
      "      H10 E          H26 G          H40 R     CDR2 H53 E          H69 L         H82C L     CDR3 H98 E         H107 T\n",
      "      H11 L          H27 Y          H41 P     CDR2 H54 R          H70 T          H83 T     CDR3 H99 D         H108 T\n",
      "      H12 A          H28 T          H42 G     CDR2 H55 G          H71 T          H84 S    CDR3 H100 D         H109 L\n",
      "      H13 R          H29 F          H43 Q     CDR2 H56 Y          H72 D          H85 E    CDR3 H100A E        H110 T\n",
      "      H14 P          H30 T          H44 G     CDR2 H57 T          H73 K          H86 D    CDR3 H100B R        H111 V\n",
      "      H15 G     CDR1 H31 S          H45 L     CDR2 H58 N          H74 S          H87 S    CDR3 H100C G        H112 S\n",
      "      H16 A    CDR1 H31A R          H46 E     CDR2 H59 Y          H75 S          H88 A    CDR3 H100D H        H113 S\n"
     ]
    },
    {
     "data": {
      "text/html": [
       "<h3>H chothia (north CDR definition)</h3>"
      ],
      "text/plain": [
       "<IPython.core.display.HTML object>"
      ]
     },
     "metadata": {},
     "output_type": "display_data"
    },
    {
     "name": "stdout",
     "output_type": "stream",
     "text": [
      "       H1 E          H17 S    CDR1 H31B R          H47 W          H60 N          H76 S          H89 V    CDR3 H100E Y\n",
      "       H2 V          H18 V     CDR1 H32 Y          H48 I          H61 Q          H77 T          H90 Y    CDR3 H100F C\n",
      "       H3 Q          H19 K     CDR1 H33 T          H49 G          H62 K          H78 A          H91 Y    CDR3 H100G L\n",
      "       H4 L          H20 M     CDR1 H34 M     CDR2 H50 Y          H63 F          H79 Y          H92 C    CDR3 H101 D\n",
      "       H5 Q          H21 S     CDR1 H35 H     CDR2 H51 I          H64 K          H80 M     CDR3 H93 A    CDR3 H102 Y\n",
      "       H6 Q          H22 C          H36 W     CDR2 H52 N          H65 D          H81 Q     CDR3 H94 R         H103 W\n",
      "       H7 S     CDR1 H23 K          H37 V    CDR2 H52A P          H66 K          H82 L     CDR3 H95 Y         H104 G\n",
      "       H8 G     CDR1 H24 A          H38 K    CDR2 H52B S          H67 A         H82A S     CDR3 H96 Y         H105 Q\n",
      "       H9 A     CDR1 H25 S          H39 Q    CDR2 H52C D          H68 T         H82B S     CDR3 H97 S         H106 G\n",
      "      H10 E     CDR1 H26 G          H40 R     CDR2 H53 E          H69 L         H82C L     CDR3 H98 E         H107 T\n",
      "      H11 L     CDR1 H27 Y          H41 P     CDR2 H54 R          H70 T          H83 T     CDR3 H99 D         H108 T\n",
      "      H12 A     CDR1 H28 T          H42 G     CDR2 H55 G          H71 T          H84 S    CDR3 H100 D         H109 L\n",
      "      H13 R     CDR1 H29 F          H43 Q     CDR2 H56 Y          H72 D          H85 E    CDR3 H100A E        H110 T\n",
      "      H14 P     CDR1 H30 T          H44 G     CDR2 H57 T          H73 K          H86 D    CDR3 H100B R        H111 V\n",
      "      H15 G     CDR1 H31 S          H45 L     CDR2 H58 N          H74 S          H87 S    CDR3 H100C G        H112 S\n",
      "      H16 A    CDR1 H31A R          H46 E          H59 Y          H75 S          H88 A    CDR3 H100D H        H113 S\n"
     ]
    },
    {
     "data": {
      "text/html": [
       "<h3>H kabat (imgt CDR definition)</h3>"
      ],
      "text/plain": [
       "<IPython.core.display.HTML object>"
      ]
     },
     "metadata": {},
     "output_type": "display_data"
    },
    {
     "name": "stdout",
     "output_type": "stream",
     "text": [
      "       H1 E          H17 S     CDR1 H33 R          H47 W          H60 N          H76 S          H89 V    CDR3 H100E Y\n",
      "       H2 V          H18 V     CDR1 H34 Y          H48 I          H61 Q          H77 T          H90 Y    CDR3 H100F C\n",
      "       H3 Q          H19 K     CDR1 H35 T          H49 G          H62 K          H78 A          H91 Y    CDR3 H100G L\n",
      "       H4 L          H20 M         H35A M          H50 Y          H63 F          H79 Y          H92 C    CDR3 H101 D\n",
      "       H5 Q          H21 S         H35B H     CDR2 H51 I          H64 K          H80 M     CDR3 H93 A    CDR3 H102 Y\n",
      "       H6 Q          H22 C          H36 W     CDR2 H52 N          H65 D          H81 Q     CDR3 H94 R         H103 W\n",
      "       H7 S          H23 K          H37 V    CDR2 H52A P          H66 K          H82 L     CDR3 H95 Y         H104 G\n",
      "       H8 G          H24 A          H38 K    CDR2 H52B S          H67 A         H82A S     CDR3 H96 Y         H105 Q\n",
      "       H9 A          H25 S          H39 Q    CDR2 H52C D          H68 T         H82B S     CDR3 H97 S         H106 G\n",
      "      H10 E     CDR1 H26 G          H40 R     CDR2 H53 E          H69 L         H82C L     CDR3 H98 E         H107 T\n",
      "      H11 L     CDR1 H27 Y          H41 P     CDR2 H54 R          H70 T          H83 T     CDR3 H99 D         H108 T\n",
      "      H12 A     CDR1 H28 T          H42 G     CDR2 H55 G          H71 T          H84 S    CDR3 H100 D         H109 L\n",
      "      H13 R     CDR1 H29 F          H43 Q     CDR2 H56 Y          H72 D          H85 E    CDR3 H100A E        H110 T\n",
      "      H14 P     CDR1 H30 T          H44 G     CDR2 H57 T          H73 K          H86 D    CDR3 H100B R        H111 V\n",
      "      H15 G     CDR1 H31 S          H45 L          H58 N          H74 S          H87 S    CDR3 H100C G        H112 S\n",
      "      H16 A     CDR1 H32 R          H46 E          H59 Y          H75 S          H88 A    CDR3 H100D H        H113 S\n"
     ]
    },
    {
     "data": {
      "text/html": [
       "<h3>H kabat (chothia CDR definition)</h3>"
      ],
      "text/plain": [
       "<IPython.core.display.HTML object>"
      ]
     },
     "metadata": {},
     "output_type": "display_data"
    },
    {
     "name": "stdout",
     "output_type": "stream",
     "text": [
      "       H1 E          H17 S     CDR1 H33 R          H47 W          H60 N          H76 S          H89 V    CDR3 H100E Y\n",
      "       H2 V          H18 V     CDR1 H34 Y          H48 I          H61 Q          H77 T          H90 Y    CDR3 H100F C\n",
      "       H3 Q          H19 K          H35 T          H49 G          H62 K          H78 A          H91 Y    CDR3 H100G L\n",
      "       H4 L          H20 M         H35A M          H50 Y          H63 F          H79 Y          H92 C    CDR3 H101 D\n",
      "       H5 Q          H21 S         H35B H          H51 I          H64 K          H80 M          H93 A    CDR3 H102 Y\n",
      "       H6 Q          H22 C          H36 W     CDR2 H52 N          H65 D          H81 Q          H94 R         H103 W\n",
      "       H7 S          H23 K          H37 V    CDR2 H52A P          H66 K          H82 L     CDR3 H95 Y         H104 G\n",
      "       H8 G          H24 A          H38 K    CDR2 H52B S          H67 A         H82A S     CDR3 H96 Y         H105 Q\n",
      "       H9 A          H25 S          H39 Q    CDR2 H52C D          H68 T         H82B S     CDR3 H97 S         H106 G\n",
      "      H10 E     CDR1 H26 G          H40 R     CDR2 H53 E          H69 L         H82C L     CDR3 H98 E         H107 T\n",
      "      H11 L     CDR1 H27 Y          H41 P     CDR2 H54 R          H70 T          H83 T     CDR3 H99 D         H108 T\n",
      "      H12 A     CDR1 H28 T          H42 G     CDR2 H55 G          H71 T          H84 S    CDR3 H100 D         H109 L\n",
      "      H13 R     CDR1 H29 F          H43 Q     CDR2 H56 Y          H72 D          H85 E    CDR3 H100A E        H110 T\n",
      "      H14 P     CDR1 H30 T          H44 G          H57 T          H73 K          H86 D    CDR3 H100B R        H111 V\n",
      "      H15 G     CDR1 H31 S          H45 L          H58 N          H74 S          H87 S    CDR3 H100C G        H112 S\n",
      "      H16 A     CDR1 H32 R          H46 E          H59 Y          H75 S          H88 A    CDR3 H100D H        H113 S\n"
     ]
    },
    {
     "data": {
      "text/html": [
       "<h3>H kabat (kabat CDR definition)</h3>"
      ],
      "text/plain": [
       "<IPython.core.display.HTML object>"
      ]
     },
     "metadata": {},
     "output_type": "display_data"
    },
    {
     "name": "stdout",
     "output_type": "stream",
     "text": [
      "       H1 E          H17 S     CDR1 H33 R          H47 W     CDR2 H60 N          H76 S          H89 V    CDR3 H100E Y\n",
      "       H2 V          H18 V     CDR1 H34 Y          H48 I     CDR2 H61 Q          H77 T          H90 Y    CDR3 H100F C\n",
      "       H3 Q          H19 K     CDR1 H35 T          H49 G     CDR2 H62 K          H78 A          H91 Y    CDR3 H100G L\n",
      "       H4 L          H20 M    CDR1 H35A M     CDR2 H50 Y     CDR2 H63 F          H79 Y          H92 C    CDR3 H101 D\n",
      "       H5 Q          H21 S    CDR1 H35B H     CDR2 H51 I     CDR2 H64 K          H80 M          H93 A    CDR3 H102 Y\n",
      "       H6 Q          H22 C          H36 W     CDR2 H52 N     CDR2 H65 D          H81 Q          H94 R         H103 W\n",
      "       H7 S          H23 K          H37 V    CDR2 H52A P          H66 K          H82 L     CDR3 H95 Y         H104 G\n",
      "       H8 G          H24 A          H38 K    CDR2 H52B S          H67 A         H82A S     CDR3 H96 Y         H105 Q\n",
      "       H9 A          H25 S          H39 Q    CDR2 H52C D          H68 T         H82B S     CDR3 H97 S         H106 G\n",
      "      H10 E          H26 G          H40 R     CDR2 H53 E          H69 L         H82C L     CDR3 H98 E         H107 T\n",
      "      H11 L          H27 Y          H41 P     CDR2 H54 R          H70 T          H83 T     CDR3 H99 D         H108 T\n",
      "      H12 A          H28 T          H42 G     CDR2 H55 G          H71 T          H84 S    CDR3 H100 D         H109 L\n",
      "      H13 R          H29 F          H43 Q     CDR2 H56 Y          H72 D          H85 E    CDR3 H100A E        H110 T\n",
      "      H14 P          H30 T          H44 G     CDR2 H57 T          H73 K          H86 D    CDR3 H100B R        H111 V\n",
      "      H15 G     CDR1 H31 S          H45 L     CDR2 H58 N          H74 S          H87 S    CDR3 H100C G        H112 S\n",
      "      H16 A     CDR1 H32 R          H46 E     CDR2 H59 Y          H75 S          H88 A    CDR3 H100D H        H113 S\n"
     ]
    },
    {
     "data": {
      "text/html": [
       "<h3>H kabat (north CDR definition)</h3>"
      ],
      "text/plain": [
       "<IPython.core.display.HTML object>"
      ]
     },
     "metadata": {},
     "output_type": "display_data"
    },
    {
     "name": "stdout",
     "output_type": "stream",
     "text": [
      "       H1 E          H17 S     CDR1 H33 R          H47 W          H60 N          H76 S          H89 V    CDR3 H100E Y\n",
      "       H2 V          H18 V     CDR1 H34 Y          H48 I          H61 Q          H77 T          H90 Y    CDR3 H100F C\n",
      "       H3 Q          H19 K     CDR1 H35 T          H49 G          H62 K          H78 A          H91 Y    CDR3 H100G L\n",
      "       H4 L          H20 M    CDR1 H35A M     CDR2 H50 Y          H63 F          H79 Y          H92 C    CDR3 H101 D\n",
      "       H5 Q          H21 S    CDR1 H35B H     CDR2 H51 I          H64 K          H80 M     CDR3 H93 A    CDR3 H102 Y\n",
      "       H6 Q          H22 C          H36 W     CDR2 H52 N          H65 D          H81 Q     CDR3 H94 R         H103 W\n",
      "       H7 S     CDR1 H23 K          H37 V    CDR2 H52A P          H66 K          H82 L     CDR3 H95 Y         H104 G\n",
      "       H8 G     CDR1 H24 A          H38 K    CDR2 H52B S          H67 A         H82A S     CDR3 H96 Y         H105 Q\n",
      "       H9 A     CDR1 H25 S          H39 Q    CDR2 H52C D          H68 T         H82B S     CDR3 H97 S         H106 G\n",
      "      H10 E     CDR1 H26 G          H40 R     CDR2 H53 E          H69 L         H82C L     CDR3 H98 E         H107 T\n",
      "      H11 L     CDR1 H27 Y          H41 P     CDR2 H54 R          H70 T          H83 T     CDR3 H99 D         H108 T\n",
      "      H12 A     CDR1 H28 T          H42 G     CDR2 H55 G          H71 T          H84 S    CDR3 H100 D         H109 L\n",
      "      H13 R     CDR1 H29 F          H43 Q     CDR2 H56 Y          H72 D          H85 E    CDR3 H100A E        H110 T\n",
      "      H14 P     CDR1 H30 T          H44 G     CDR2 H57 T          H73 K          H86 D    CDR3 H100B R        H111 V\n",
      "      H15 G     CDR1 H31 S          H45 L     CDR2 H58 N          H74 S          H87 S    CDR3 H100C G        H112 S\n",
      "      H16 A     CDR1 H32 R          H46 E          H59 Y          H75 S          H88 A    CDR3 H100D H        H113 S\n"
     ]
    },
    {
     "data": {
      "text/html": [
       "<h3>H aho (imgt CDR definition)</h3>"
      ],
      "text/plain": [
       "<IPython.core.display.HTML object>"
      ]
     },
     "metadata": {},
     "output_type": "display_data"
    },
    {
     "name": "stdout",
     "output_type": "stream",
     "text": [
      "       H1 E          H18 S     CDR1 H38 R          H54 W          H71 N          H87 S         H103 V    CDR3 H134 Y\n",
      "       H2 V          H19 V     CDR1 H39 Y          H55 I          H72 Q          H88 T         H104 Y    CDR3 H135 C\n",
      "       H3 Q          H20 K     CDR1 H40 T          H56 G          H73 K          H89 A         H105 Y    CDR3 H136 L\n",
      "       H4 L          H21 M          H41 M          H57 Y          H74 F          H90 Y         H106 C    CDR3 H137 D\n",
      "       H5 Q          H22 S          H42 H     CDR2 H58 I          H75 K          H91 M    CDR3 H107 A    CDR3 H138 Y\n",
      "       H6 Q          H23 C          H43 W     CDR2 H59 N          H76 D          H92 Q    CDR3 H108 R         H139 W\n",
      "       H7 S          H24 K          H44 V     CDR2 H60 P          H77 K          H93 L    CDR3 H109 Y         H140 G\n",
      "       H9 G          H25 A          H45 K     CDR2 H61 S          H78 A          H94 S    CDR3 H110 Y         H141 Q\n",
      "      H10 A          H26 S          H46 Q     CDR2 H62 D          H79 T          H95 S    CDR3 H111 S         H142 G\n",
      "      H11 E     CDR1 H27 G          H47 R     CDR2 H64 E          H80 L          H96 L    CDR3 H112 E         H143 T\n",
      "      H12 L     CDR1 H29 Y          H48 P     CDR2 H65 R          H81 T          H97 T    CDR3 H113 D         H144 T\n",
      "      H13 A     CDR1 H30 T          H49 G     CDR2 H66 G          H82 T          H98 S    CDR3 H114 D         H145 L\n",
      "      H14 R     CDR1 H31 F          H50 Q     CDR2 H67 Y          H83 D          H99 E    CDR3 H115 E         H146 T\n",
      "      H15 P     CDR1 H32 T          H51 G     CDR2 H68 T          H84 K         H100 D    CDR3 H131 R         H147 V\n",
      "      H16 G     CDR1 H33 S          H52 L          H69 N          H85 S         H101 S    CDR3 H132 G         H148 S\n",
      "      H17 A     CDR1 H34 R          H53 E          H70 Y          H86 S         H102 A    CDR3 H133 H         H149 S\n"
     ]
    },
    {
     "data": {
      "text/html": [
       "<h3>H aho (chothia CDR definition)</h3>"
      ],
      "text/plain": [
       "<IPython.core.display.HTML object>"
      ]
     },
     "metadata": {},
     "output_type": "display_data"
    },
    {
     "name": "stdout",
     "output_type": "stream",
     "text": [
      "       H1 E          H18 S     CDR1 H38 R          H54 W          H71 N          H87 S         H103 V    CDR3 H134 Y\n",
      "       H2 V          H19 V     CDR1 H39 Y          H55 I          H72 Q          H88 T         H104 Y    CDR3 H135 C\n",
      "       H3 Q          H20 K          H40 T          H56 G          H73 K          H89 A         H105 Y    CDR3 H136 L\n",
      "       H4 L          H21 M          H41 M          H57 Y          H74 F          H90 Y         H106 C    CDR3 H137 D\n",
      "       H5 Q          H22 S          H42 H          H58 I          H75 K          H91 M         H107 A    CDR3 H138 Y\n",
      "       H6 Q          H23 C          H43 W     CDR2 H59 N          H76 D          H92 Q         H108 R         H139 W\n",
      "       H7 S          H24 K          H44 V     CDR2 H60 P          H77 K          H93 L    CDR3 H109 Y         H140 G\n",
      "       H9 G          H25 A          H45 K     CDR2 H61 S          H78 A          H94 S    CDR3 H110 Y         H141 Q\n",
      "      H10 A          H26 S          H46 Q     CDR2 H62 D          H79 T          H95 S    CDR3 H111 S         H142 G\n",
      "      H11 E     CDR1 H27 G          H47 R     CDR2 H64 E          H80 L          H96 L    CDR3 H112 E         H143 T\n",
      "      H12 L     CDR1 H29 Y          H48 P     CDR2 H65 R          H81 T          H97 T    CDR3 H113 D         H144 T\n",
      "      H13 A     CDR1 H30 T          H49 G     CDR2 H66 G          H82 T          H98 S    CDR3 H114 D         H145 L\n",
      "      H14 R     CDR1 H31 F          H50 Q     CDR2 H67 Y          H83 D          H99 E    CDR3 H115 E         H146 T\n",
      "      H15 P     CDR1 H32 T          H51 G          H68 T          H84 K         H100 D    CDR3 H131 R         H147 V\n",
      "      H16 G     CDR1 H33 S          H52 L          H69 N          H85 S         H101 S    CDR3 H132 G         H148 S\n",
      "      H17 A     CDR1 H34 R          H53 E          H70 Y          H86 S         H102 A    CDR3 H133 H         H149 S\n"
     ]
    },
    {
     "data": {
      "text/html": [
       "<h3>H aho (kabat CDR definition)</h3>"
      ],
      "text/plain": [
       "<IPython.core.display.HTML object>"
      ]
     },
     "metadata": {},
     "output_type": "display_data"
    },
    {
     "name": "stdout",
     "output_type": "stream",
     "text": [
      "       H1 E          H18 S     CDR1 H38 R          H54 W     CDR2 H71 N          H87 S         H103 V    CDR3 H134 Y\n",
      "       H2 V          H19 V     CDR1 H39 Y          H55 I     CDR2 H72 Q          H88 T         H104 Y    CDR3 H135 C\n",
      "       H3 Q          H20 K     CDR1 H40 T          H56 G     CDR2 H73 K          H89 A         H105 Y    CDR3 H136 L\n",
      "       H4 L          H21 M     CDR1 H41 M     CDR2 H57 Y     CDR2 H74 F          H90 Y         H106 C    CDR3 H137 D\n",
      "       H5 Q          H22 S     CDR1 H42 H     CDR2 H58 I     CDR2 H75 K          H91 M         H107 A    CDR3 H138 Y\n",
      "       H6 Q          H23 C          H43 W     CDR2 H59 N     CDR2 H76 D          H92 Q         H108 R         H139 W\n",
      "       H7 S          H24 K          H44 V     CDR2 H60 P          H77 K          H93 L    CDR3 H109 Y         H140 G\n",
      "       H9 G          H25 A          H45 K     CDR2 H61 S          H78 A          H94 S    CDR3 H110 Y         H141 Q\n",
      "      H10 A          H26 S          H46 Q     CDR2 H62 D          H79 T          H95 S    CDR3 H111 S         H142 G\n",
      "      H11 E          H27 G          H47 R     CDR2 H64 E          H80 L          H96 L    CDR3 H112 E         H143 T\n",
      "      H12 L          H29 Y          H48 P     CDR2 H65 R          H81 T          H97 T    CDR3 H113 D         H144 T\n",
      "      H13 A          H30 T          H49 G     CDR2 H66 G          H82 T          H98 S    CDR3 H114 D         H145 L\n",
      "      H14 R          H31 F          H50 Q     CDR2 H67 Y          H83 D          H99 E    CDR3 H115 E         H146 T\n",
      "      H15 P          H32 T          H51 G     CDR2 H68 T          H84 K         H100 D    CDR3 H131 R         H147 V\n",
      "      H16 G     CDR1 H33 S          H52 L     CDR2 H69 N          H85 S         H101 S    CDR3 H132 G         H148 S\n",
      "      H17 A     CDR1 H34 R          H53 E     CDR2 H70 Y          H86 S         H102 A    CDR3 H133 H         H149 S\n"
     ]
    },
    {
     "data": {
      "text/html": [
       "<h3>H aho (north CDR definition)</h3>"
      ],
      "text/plain": [
       "<IPython.core.display.HTML object>"
      ]
     },
     "metadata": {},
     "output_type": "display_data"
    },
    {
     "name": "stdout",
     "output_type": "stream",
     "text": [
      "       H1 E          H18 S     CDR1 H38 R          H54 W          H71 N          H87 S         H103 V    CDR3 H134 Y\n",
      "       H2 V          H19 V     CDR1 H39 Y          H55 I          H72 Q          H88 T         H104 Y    CDR3 H135 C\n",
      "       H3 Q          H20 K     CDR1 H40 T          H56 G          H73 K          H89 A         H105 Y    CDR3 H136 L\n",
      "       H4 L          H21 M     CDR1 H41 M     CDR2 H57 Y          H74 F          H90 Y         H106 C    CDR3 H137 D\n",
      "       H5 Q          H22 S     CDR1 H42 H     CDR2 H58 I          H75 K          H91 M    CDR3 H107 A    CDR3 H138 Y\n",
      "       H6 Q          H23 C          H43 W     CDR2 H59 N          H76 D          H92 Q    CDR3 H108 R         H139 W\n",
      "       H7 S     CDR1 H24 K          H44 V     CDR2 H60 P          H77 K          H93 L    CDR3 H109 Y         H140 G\n",
      "       H9 G     CDR1 H25 A          H45 K     CDR2 H61 S          H78 A          H94 S    CDR3 H110 Y         H141 Q\n",
      "      H10 A     CDR1 H26 S          H46 Q     CDR2 H62 D          H79 T          H95 S    CDR3 H111 S         H142 G\n",
      "      H11 E     CDR1 H27 G          H47 R     CDR2 H64 E          H80 L          H96 L    CDR3 H112 E         H143 T\n",
      "      H12 L     CDR1 H29 Y          H48 P     CDR2 H65 R          H81 T          H97 T    CDR3 H113 D         H144 T\n",
      "      H13 A     CDR1 H30 T          H49 G     CDR2 H66 G          H82 T          H98 S    CDR3 H114 D         H145 L\n",
      "      H14 R     CDR1 H31 F          H50 Q     CDR2 H67 Y          H83 D          H99 E    CDR3 H115 E         H146 T\n",
      "      H15 P     CDR1 H32 T          H51 G     CDR2 H68 T          H84 K         H100 D    CDR3 H131 R         H147 V\n",
      "      H16 G     CDR1 H33 S          H52 L     CDR2 H69 N          H85 S         H101 S    CDR3 H132 G         H148 S\n",
      "      H17 A     CDR1 H34 R          H53 E          H70 Y          H86 S         H102 A    CDR3 H133 H         H149 S\n"
     ]
    },
    {
     "data": {
      "text/html": [
       "<h3>K imgt (imgt CDR definition)</h3>"
      ],
      "text/plain": [
       "<IPython.core.display.HTML object>"
      ]
     },
     "metadata": {},
     "output_type": "display_data"
    },
    {
     "name": "stdout",
     "output_type": "stream",
     "text": [
      "       L1 E          L16 G     CDR1 L31 T          L46 P          L66 Y          L84 G          L99 F    CDR3 L116 L\n",
      "       L2 I          L17 E     CDR1 L32 D          L47 G          L67 L          L85 T         L100 A    CDR3 L117 T\n",
      "       L3 V          L18 R     CDR1 L33 L          L48 Q          L68 E          L86 D         L101 V         L118 F\n",
      "       L4 L          L19 A     CDR1 L34 S          L49 A          L69 S          L87 F         L102 Y         L119 G\n",
      "       L5 T          L20 T     CDR1 L35 G          L50 P          L70 G          L88 T         L103 Y         L120 G\n",
      "       L6 Q          L21 L     CDR1 L36 Y          L51 R          L71 V          L89 L         L104 C         L121 G\n",
      "       L7 S          L22 S     CDR1 L37 S          L52 L          L72 P          L90 T    CDR3 L105 Q         L122 T\n",
      "       L8 P          L23 C     CDR1 L38 Y          L53 L          L74 A          L91 I    CDR3 L106 H         L123 K\n",
      "       L9 A          L24 R          L39 L          L54 I          L75 R          L92 S    CDR3 L107 S         L124 V\n",
      "      L10 T          L25 A          L40 H          L55 Y          L76 F          L93 S    CDR3 L108 R         L125 E\n",
      "      L11 L          L26 S          L41 W     CDR2 L56 L          L77 S          L94 L    CDR3 L109 D         L126 I\n",
      "      L12 S     CDR1 L27 K          L42 Y     CDR2 L57 G          L78 G          L95 E    CDR3 L110 G         L127 K\n",
      "      L13 L     CDR1 L28 G          L43 Q     CDR2 L58 Y          L79 S          L96 P    CDR3 L113 T\n",
      "      L14 S     CDR1 L29 V          L44 Q     CDR2 L64 A          L80 G          L97 E    CDR3 L114 L\n",
      "      L15 P     CDR1 L30 S          L45 K     CDR2 L65 S          L83 S          L98 D    CDR3 L115 P\n"
     ]
    },
    {
     "data": {
      "text/html": [
       "<h3>K imgt (chothia CDR definition)</h3>"
      ],
      "text/plain": [
       "<IPython.core.display.HTML object>"
      ]
     },
     "metadata": {},
     "output_type": "display_data"
    },
    {
     "name": "stdout",
     "output_type": "stream",
     "text": [
      "       L1 E          L16 G     CDR1 L31 T          L46 P     CDR2 L66 Y          L84 G          L99 F    CDR3 L116 L\n",
      "       L2 I          L17 E     CDR1 L32 D          L47 G     CDR2 L67 L          L85 T         L100 A    CDR3 L117 T\n",
      "       L3 V          L18 R     CDR1 L33 L          L48 Q     CDR2 L68 E          L86 D         L101 V         L118 F\n",
      "       L4 L          L19 A     CDR1 L34 S          L49 A     CDR2 L69 S          L87 F         L102 Y         L119 G\n",
      "       L5 T          L20 T     CDR1 L35 G          L50 P          L70 G          L88 T         L103 Y         L120 G\n",
      "       L6 Q          L21 L     CDR1 L36 Y          L51 R          L71 V          L89 L         L104 C         L121 G\n",
      "       L7 S          L22 S     CDR1 L37 S          L52 L          L72 P          L90 T    CDR3 L105 Q         L122 T\n",
      "       L8 P          L23 C     CDR1 L38 Y          L53 L          L74 A          L91 I    CDR3 L106 H         L123 K\n",
      "       L9 A     CDR1 L24 R     CDR1 L39 L          L54 I          L75 R          L92 S    CDR3 L107 S         L124 V\n",
      "      L10 T     CDR1 L25 A     CDR1 L40 H          L55 Y          L76 F          L93 S    CDR3 L108 R         L125 E\n",
      "      L11 L     CDR1 L26 S          L41 W     CDR2 L56 L          L77 S          L94 L    CDR3 L109 D         L126 I\n",
      "      L12 S     CDR1 L27 K          L42 Y     CDR2 L57 G          L78 G          L95 E    CDR3 L110 G         L127 K\n",
      "      L13 L     CDR1 L28 G          L43 Q     CDR2 L58 Y          L79 S          L96 P    CDR3 L113 T\n",
      "      L14 S     CDR1 L29 V          L44 Q     CDR2 L64 A          L80 G          L97 E    CDR3 L114 L\n",
      "      L15 P     CDR1 L30 S          L45 K     CDR2 L65 S          L83 S          L98 D    CDR3 L115 P\n"
     ]
    },
    {
     "data": {
      "text/html": [
       "<h3>K imgt (kabat CDR definition)</h3>"
      ],
      "text/plain": [
       "<IPython.core.display.HTML object>"
      ]
     },
     "metadata": {},
     "output_type": "display_data"
    },
    {
     "name": "stdout",
     "output_type": "stream",
     "text": [
      "       L1 E          L16 G     CDR1 L31 T          L46 P     CDR2 L66 Y          L84 G          L99 F    CDR3 L116 L\n",
      "       L2 I          L17 E     CDR1 L32 D          L47 G     CDR2 L67 L          L85 T         L100 A    CDR3 L117 T\n",
      "       L3 V          L18 R     CDR1 L33 L          L48 Q     CDR2 L68 E          L86 D         L101 V         L118 F\n",
      "       L4 L          L19 A     CDR1 L34 S          L49 A     CDR2 L69 S          L87 F         L102 Y         L119 G\n",
      "       L5 T          L20 T     CDR1 L35 G          L50 P          L70 G          L88 T         L103 Y         L120 G\n",
      "       L6 Q          L21 L     CDR1 L36 Y          L51 R          L71 V          L89 L         L104 C         L121 G\n",
      "       L7 S          L22 S     CDR1 L37 S          L52 L          L72 P          L90 T    CDR3 L105 Q         L122 T\n",
      "       L8 P          L23 C     CDR1 L38 Y          L53 L          L74 A          L91 I    CDR3 L106 H         L123 K\n",
      "       L9 A     CDR1 L24 R     CDR1 L39 L          L54 I          L75 R          L92 S    CDR3 L107 S         L124 V\n",
      "      L10 T     CDR1 L25 A     CDR1 L40 H          L55 Y          L76 F          L93 S    CDR3 L108 R         L125 E\n",
      "      L11 L     CDR1 L26 S          L41 W     CDR2 L56 L          L77 S          L94 L    CDR3 L109 D         L126 I\n",
      "      L12 S     CDR1 L27 K          L42 Y     CDR2 L57 G          L78 G          L95 E    CDR3 L110 G         L127 K\n",
      "      L13 L     CDR1 L28 G          L43 Q     CDR2 L58 Y          L79 S          L96 P    CDR3 L113 T\n",
      "      L14 S     CDR1 L29 V          L44 Q     CDR2 L64 A          L80 G          L97 E    CDR3 L114 L\n",
      "      L15 P     CDR1 L30 S          L45 K     CDR2 L65 S          L83 S          L98 D    CDR3 L115 P\n"
     ]
    },
    {
     "data": {
      "text/html": [
       "<h3>K imgt (north CDR definition)</h3>"
      ],
      "text/plain": [
       "<IPython.core.display.HTML object>"
      ]
     },
     "metadata": {},
     "output_type": "display_data"
    },
    {
     "name": "stdout",
     "output_type": "stream",
     "text": [
      "       L1 E          L16 G     CDR1 L31 T          L46 P     CDR2 L66 Y          L84 G          L99 F    CDR3 L116 L\n",
      "       L2 I          L17 E     CDR1 L32 D          L47 G     CDR2 L67 L          L85 T         L100 A    CDR3 L117 T\n",
      "       L3 V          L18 R     CDR1 L33 L          L48 Q     CDR2 L68 E          L86 D         L101 V         L118 F\n",
      "       L4 L          L19 A     CDR1 L34 S          L49 A     CDR2 L69 S          L87 F         L102 Y         L119 G\n",
      "       L5 T          L20 T     CDR1 L35 G          L50 P          L70 G          L88 T         L103 Y         L120 G\n",
      "       L6 Q          L21 L     CDR1 L36 Y          L51 R          L71 V          L89 L         L104 C         L121 G\n",
      "       L7 S          L22 S     CDR1 L37 S          L52 L          L72 P          L90 T    CDR3 L105 Q         L122 T\n",
      "       L8 P          L23 C     CDR1 L38 Y          L53 L          L74 A          L91 I    CDR3 L106 H         L123 K\n",
      "       L9 A     CDR1 L24 R     CDR1 L39 L          L54 I          L75 R          L92 S    CDR3 L107 S         L124 V\n",
      "      L10 T     CDR1 L25 A     CDR1 L40 H     CDR2 L55 Y          L76 F          L93 S    CDR3 L108 R         L125 E\n",
      "      L11 L     CDR1 L26 S          L41 W     CDR2 L56 L          L77 S          L94 L    CDR3 L109 D         L126 I\n",
      "      L12 S     CDR1 L27 K          L42 Y     CDR2 L57 G          L78 G          L95 E    CDR3 L110 G         L127 K\n",
      "      L13 L     CDR1 L28 G          L43 Q     CDR2 L58 Y          L79 S          L96 P    CDR3 L113 T\n",
      "      L14 S     CDR1 L29 V          L44 Q     CDR2 L64 A          L80 G          L97 E    CDR3 L114 L\n",
      "      L15 P     CDR1 L30 S          L45 K     CDR2 L65 S          L83 S          L98 D    CDR3 L115 P\n"
     ]
    },
    {
     "data": {
      "text/html": [
       "<h3>K chothia (imgt CDR definition)</h3>"
      ],
      "text/plain": [
       "<IPython.core.display.HTML object>"
      ]
     },
     "metadata": {},
     "output_type": "display_data"
    },
    {
     "name": "stdout",
     "output_type": "stream",
     "text": [
      "       L1 E          L16 G    CDR1 L30A T          L40 P          L53 Y          L68 G          L83 F     CDR3 L96 L\n",
      "       L2 I          L17 E    CDR1 L30B D          L41 G          L54 L          L69 T          L84 A     CDR3 L97 T\n",
      "       L3 V          L18 R    CDR1 L30C L          L42 Q          L55 E          L70 D          L85 V          L98 F\n",
      "       L4 L          L19 A    CDR1 L30D S          L43 A          L56 S          L71 F          L86 Y          L99 G\n",
      "       L5 T          L20 T    CDR1 L30E G          L44 P          L57 G          L72 T          L87 Y         L100 G\n",
      "       L6 Q          L21 L    CDR1 L30F Y          L45 R          L58 V          L73 L          L88 C         L101 G\n",
      "       L7 S          L22 S     CDR1 L31 S          L46 L          L59 P          L74 T     CDR3 L89 Q         L102 T\n",
      "       L8 P          L23 C     CDR1 L32 Y          L47 L          L60 A          L75 I     CDR3 L90 H         L103 K\n",
      "       L9 A          L24 R          L33 L          L48 I          L61 R          L76 S     CDR3 L91 S         L104 V\n",
      "      L10 T          L25 A          L34 H          L49 Y          L62 F          L77 S     CDR3 L92 R         L105 E\n",
      "      L11 L          L26 S          L35 W     CDR2 L50 L          L63 S          L78 L     CDR3 L93 D         L106 I\n",
      "      L12 S     CDR1 L27 K          L36 Y     CDR2 L51 G          L64 G          L79 E     CDR3 L94 G         L107 K\n",
      "      L13 L     CDR1 L28 G          L37 Q     CDR2 L52 Y          L65 S          L80 P     CDR3 L95 T\n",
      "      L14 S     CDR1 L29 V          L38 Q    CDR2 L52A A          L66 G          L81 E    CDR3 L95A L\n",
      "      L15 P     CDR1 L30 S          L39 K    CDR2 L52B S          L67 S          L82 D    CDR3 L95B P\n"
     ]
    },
    {
     "data": {
      "text/html": [
       "<h3>K chothia (chothia CDR definition)</h3>"
      ],
      "text/plain": [
       "<IPython.core.display.HTML object>"
      ]
     },
     "metadata": {},
     "output_type": "display_data"
    },
    {
     "name": "stdout",
     "output_type": "stream",
     "text": [
      "       L1 E          L16 G    CDR1 L30A T          L40 P     CDR2 L53 Y          L68 G          L83 F     CDR3 L96 L\n",
      "       L2 I          L17 E    CDR1 L30B D          L41 G     CDR2 L54 L          L69 T          L84 A     CDR3 L97 T\n",
      "       L3 V          L18 R    CDR1 L30C L          L42 Q     CDR2 L55 E          L70 D          L85 V          L98 F\n",
      "       L4 L          L19 A    CDR1 L30D S          L43 A     CDR2 L56 S          L71 F          L86 Y          L99 G\n",
      "       L5 T          L20 T    CDR1 L30E G          L44 P          L57 G          L72 T          L87 Y         L100 G\n",
      "       L6 Q          L21 L    CDR1 L30F Y          L45 R          L58 V          L73 L          L88 C         L101 G\n",
      "       L7 S          L22 S     CDR1 L31 S          L46 L          L59 P          L74 T     CDR3 L89 Q         L102 T\n",
      "       L8 P          L23 C     CDR1 L32 Y          L47 L          L60 A          L75 I     CDR3 L90 H         L103 K\n",
      "       L9 A     CDR1 L24 R     CDR1 L33 L          L48 I          L61 R          L76 S     CDR3 L91 S         L104 V\n",
      "      L10 T     CDR1 L25 A     CDR1 L34 H          L49 Y          L62 F          L77 S     CDR3 L92 R         L105 E\n",
      "      L11 L     CDR1 L26 S          L35 W     CDR2 L50 L          L63 S          L78 L     CDR3 L93 D         L106 I\n",
      "      L12 S     CDR1 L27 K          L36 Y     CDR2 L51 G          L64 G          L79 E     CDR3 L94 G         L107 K\n",
      "      L13 L     CDR1 L28 G          L37 Q     CDR2 L52 Y          L65 S          L80 P     CDR3 L95 T\n",
      "      L14 S     CDR1 L29 V          L38 Q    CDR2 L52A A          L66 G          L81 E    CDR3 L95A L\n",
      "      L15 P     CDR1 L30 S          L39 K    CDR2 L52B S          L67 S          L82 D    CDR3 L95B P\n"
     ]
    },
    {
     "data": {
      "text/html": [
       "<h3>K chothia (kabat CDR definition)</h3>"
      ],
      "text/plain": [
       "<IPython.core.display.HTML object>"
      ]
     },
     "metadata": {},
     "output_type": "display_data"
    },
    {
     "name": "stdout",
     "output_type": "stream",
     "text": [
      "       L1 E          L16 G    CDR1 L30A T          L40 P     CDR2 L53 Y          L68 G          L83 F     CDR3 L96 L\n",
      "       L2 I          L17 E    CDR1 L30B D          L41 G     CDR2 L54 L          L69 T          L84 A     CDR3 L97 T\n",
      "       L3 V          L18 R    CDR1 L30C L          L42 Q     CDR2 L55 E          L70 D          L85 V          L98 F\n",
      "       L4 L          L19 A    CDR1 L30D S          L43 A     CDR2 L56 S          L71 F          L86 Y          L99 G\n",
      "       L5 T          L20 T    CDR1 L30E G          L44 P          L57 G          L72 T          L87 Y         L100 G\n",
      "       L6 Q          L21 L    CDR1 L30F Y          L45 R          L58 V          L73 L          L88 C         L101 G\n",
      "       L7 S          L22 S     CDR1 L31 S          L46 L          L59 P          L74 T     CDR3 L89 Q         L102 T\n",
      "       L8 P          L23 C     CDR1 L32 Y          L47 L          L60 A          L75 I     CDR3 L90 H         L103 K\n",
      "       L9 A     CDR1 L24 R     CDR1 L33 L          L48 I          L61 R          L76 S     CDR3 L91 S         L104 V\n",
      "      L10 T     CDR1 L25 A     CDR1 L34 H          L49 Y          L62 F          L77 S     CDR3 L92 R         L105 E\n",
      "      L11 L     CDR1 L26 S          L35 W     CDR2 L50 L          L63 S          L78 L     CDR3 L93 D         L106 I\n",
      "      L12 S     CDR1 L27 K          L36 Y     CDR2 L51 G          L64 G          L79 E     CDR3 L94 G         L107 K\n",
      "      L13 L     CDR1 L28 G          L37 Q     CDR2 L52 Y          L65 S          L80 P     CDR3 L95 T\n",
      "      L14 S     CDR1 L29 V          L38 Q    CDR2 L52A A          L66 G          L81 E    CDR3 L95A L\n",
      "      L15 P     CDR1 L30 S          L39 K    CDR2 L52B S          L67 S          L82 D    CDR3 L95B P\n"
     ]
    },
    {
     "data": {
      "text/html": [
       "<h3>K chothia (north CDR definition)</h3>"
      ],
      "text/plain": [
       "<IPython.core.display.HTML object>"
      ]
     },
     "metadata": {},
     "output_type": "display_data"
    },
    {
     "name": "stdout",
     "output_type": "stream",
     "text": [
      "       L1 E          L16 G    CDR1 L30A T          L40 P     CDR2 L53 Y          L68 G          L83 F     CDR3 L96 L\n",
      "       L2 I          L17 E    CDR1 L30B D          L41 G     CDR2 L54 L          L69 T          L84 A     CDR3 L97 T\n",
      "       L3 V          L18 R    CDR1 L30C L          L42 Q     CDR2 L55 E          L70 D          L85 V          L98 F\n",
      "       L4 L          L19 A    CDR1 L30D S          L43 A     CDR2 L56 S          L71 F          L86 Y          L99 G\n",
      "       L5 T          L20 T    CDR1 L30E G          L44 P          L57 G          L72 T          L87 Y         L100 G\n",
      "       L6 Q          L21 L    CDR1 L30F Y          L45 R          L58 V          L73 L          L88 C         L101 G\n",
      "       L7 S          L22 S     CDR1 L31 S          L46 L          L59 P          L74 T     CDR3 L89 Q         L102 T\n",
      "       L8 P          L23 C     CDR1 L32 Y          L47 L          L60 A          L75 I     CDR3 L90 H         L103 K\n",
      "       L9 A     CDR1 L24 R     CDR1 L33 L          L48 I          L61 R          L76 S     CDR3 L91 S         L104 V\n",
      "      L10 T     CDR1 L25 A     CDR1 L34 H     CDR2 L49 Y          L62 F          L77 S     CDR3 L92 R         L105 E\n",
      "      L11 L     CDR1 L26 S          L35 W     CDR2 L50 L          L63 S          L78 L     CDR3 L93 D         L106 I\n",
      "      L12 S     CDR1 L27 K          L36 Y     CDR2 L51 G          L64 G          L79 E     CDR3 L94 G         L107 K\n",
      "      L13 L     CDR1 L28 G          L37 Q     CDR2 L52 Y          L65 S          L80 P     CDR3 L95 T\n",
      "      L14 S     CDR1 L29 V          L38 Q    CDR2 L52A A          L66 G          L81 E    CDR3 L95A L\n",
      "      L15 P     CDR1 L30 S          L39 K    CDR2 L52B S          L67 S          L82 D    CDR3 L95B P\n"
     ]
    },
    {
     "data": {
      "text/html": [
       "<h3>K kabat (imgt CDR definition)</h3>"
      ],
      "text/plain": [
       "<IPython.core.display.HTML object>"
      ]
     },
     "metadata": {},
     "output_type": "display_data"
    },
    {
     "name": "stdout",
     "output_type": "stream",
     "text": [
      "       L1 E          L16 G    CDR1 L27D T          L40 P          L53 Y          L68 G          L83 F     CDR3 L96 L\n",
      "       L2 I          L17 E    CDR1 L27E D          L41 G          L54 L          L69 T          L84 A     CDR3 L97 T\n",
      "       L3 V          L18 R    CDR1 L27F L          L42 Q          L55 E          L70 D          L85 V          L98 F\n",
      "       L4 L          L19 A     CDR1 L28 S          L43 A          L56 S          L71 F          L86 Y          L99 G\n",
      "       L5 T          L20 T     CDR1 L29 G          L44 P          L57 G          L72 T          L87 Y         L100 G\n",
      "       L6 Q          L21 L     CDR1 L30 Y          L45 R          L58 V          L73 L          L88 C         L101 G\n",
      "       L7 S          L22 S     CDR1 L31 S          L46 L          L59 P          L74 T     CDR3 L89 Q         L102 T\n",
      "       L8 P          L23 C     CDR1 L32 Y          L47 L          L60 A          L75 I     CDR3 L90 H         L103 K\n",
      "       L9 A          L24 R          L33 L          L48 I          L61 R          L76 S     CDR3 L91 S         L104 V\n",
      "      L10 T          L25 A          L34 H          L49 Y          L62 F          L77 S     CDR3 L92 R         L105 E\n",
      "      L11 L          L26 S          L35 W     CDR2 L50 L          L63 S          L78 L     CDR3 L93 D         L106 I\n",
      "      L12 S     CDR1 L27 K          L36 Y     CDR2 L51 G          L64 G          L79 E     CDR3 L94 G         L107 K\n",
      "      L13 L    CDR1 L27A G          L37 Q     CDR2 L52 Y          L65 S          L80 P     CDR3 L95 T\n",
      "      L14 S    CDR1 L27B V          L38 Q    CDR2 L52A A          L66 G          L81 E    CDR3 L95A L\n",
      "      L15 P    CDR1 L27C S          L39 K    CDR2 L52B S          L67 S          L82 D    CDR3 L95B P\n"
     ]
    },
    {
     "data": {
      "text/html": [
       "<h3>K kabat (chothia CDR definition)</h3>"
      ],
      "text/plain": [
       "<IPython.core.display.HTML object>"
      ]
     },
     "metadata": {},
     "output_type": "display_data"
    },
    {
     "name": "stdout",
     "output_type": "stream",
     "text": [
      "       L1 E          L16 G    CDR1 L27D T          L40 P     CDR2 L53 Y          L68 G          L83 F     CDR3 L96 L\n",
      "       L2 I          L17 E    CDR1 L27E D          L41 G     CDR2 L54 L          L69 T          L84 A     CDR3 L97 T\n",
      "       L3 V          L18 R    CDR1 L27F L          L42 Q     CDR2 L55 E          L70 D          L85 V          L98 F\n",
      "       L4 L          L19 A     CDR1 L28 S          L43 A     CDR2 L56 S          L71 F          L86 Y          L99 G\n",
      "       L5 T          L20 T     CDR1 L29 G          L44 P          L57 G          L72 T          L87 Y         L100 G\n",
      "       L6 Q          L21 L     CDR1 L30 Y          L45 R          L58 V          L73 L          L88 C         L101 G\n",
      "       L7 S          L22 S     CDR1 L31 S          L46 L          L59 P          L74 T     CDR3 L89 Q         L102 T\n",
      "       L8 P          L23 C     CDR1 L32 Y          L47 L          L60 A          L75 I     CDR3 L90 H         L103 K\n",
      "       L9 A     CDR1 L24 R     CDR1 L33 L          L48 I          L61 R          L76 S     CDR3 L91 S         L104 V\n",
      "      L10 T     CDR1 L25 A     CDR1 L34 H          L49 Y          L62 F          L77 S     CDR3 L92 R         L105 E\n",
      "      L11 L     CDR1 L26 S          L35 W     CDR2 L50 L          L63 S          L78 L     CDR3 L93 D         L106 I\n",
      "      L12 S     CDR1 L27 K          L36 Y     CDR2 L51 G          L64 G          L79 E     CDR3 L94 G         L107 K\n",
      "      L13 L    CDR1 L27A G          L37 Q     CDR2 L52 Y          L65 S          L80 P     CDR3 L95 T\n",
      "      L14 S    CDR1 L27B V          L38 Q    CDR2 L52A A          L66 G          L81 E    CDR3 L95A L\n",
      "      L15 P    CDR1 L27C S          L39 K    CDR2 L52B S          L67 S          L82 D    CDR3 L95B P\n"
     ]
    },
    {
     "data": {
      "text/html": [
       "<h3>K kabat (kabat CDR definition)</h3>"
      ],
      "text/plain": [
       "<IPython.core.display.HTML object>"
      ]
     },
     "metadata": {},
     "output_type": "display_data"
    },
    {
     "name": "stdout",
     "output_type": "stream",
     "text": [
      "       L1 E          L16 G    CDR1 L27D T          L40 P     CDR2 L53 Y          L68 G          L83 F     CDR3 L96 L\n",
      "       L2 I          L17 E    CDR1 L27E D          L41 G     CDR2 L54 L          L69 T          L84 A     CDR3 L97 T\n",
      "       L3 V          L18 R    CDR1 L27F L          L42 Q     CDR2 L55 E          L70 D          L85 V          L98 F\n",
      "       L4 L          L19 A     CDR1 L28 S          L43 A     CDR2 L56 S          L71 F          L86 Y          L99 G\n",
      "       L5 T          L20 T     CDR1 L29 G          L44 P          L57 G          L72 T          L87 Y         L100 G\n",
      "       L6 Q          L21 L     CDR1 L30 Y          L45 R          L58 V          L73 L          L88 C         L101 G\n",
      "       L7 S          L22 S     CDR1 L31 S          L46 L          L59 P          L74 T     CDR3 L89 Q         L102 T\n",
      "       L8 P          L23 C     CDR1 L32 Y          L47 L          L60 A          L75 I     CDR3 L90 H         L103 K\n",
      "       L9 A     CDR1 L24 R     CDR1 L33 L          L48 I          L61 R          L76 S     CDR3 L91 S         L104 V\n",
      "      L10 T     CDR1 L25 A     CDR1 L34 H          L49 Y          L62 F          L77 S     CDR3 L92 R         L105 E\n",
      "      L11 L     CDR1 L26 S          L35 W     CDR2 L50 L          L63 S          L78 L     CDR3 L93 D         L106 I\n",
      "      L12 S     CDR1 L27 K          L36 Y     CDR2 L51 G          L64 G          L79 E     CDR3 L94 G         L107 K\n",
      "      L13 L    CDR1 L27A G          L37 Q     CDR2 L52 Y          L65 S          L80 P     CDR3 L95 T\n",
      "      L14 S    CDR1 L27B V          L38 Q    CDR2 L52A A          L66 G          L81 E    CDR3 L95A L\n",
      "      L15 P    CDR1 L27C S          L39 K    CDR2 L52B S          L67 S          L82 D    CDR3 L95B P\n"
     ]
    },
    {
     "data": {
      "text/html": [
       "<h3>K kabat (north CDR definition)</h3>"
      ],
      "text/plain": [
       "<IPython.core.display.HTML object>"
      ]
     },
     "metadata": {},
     "output_type": "display_data"
    },
    {
     "name": "stdout",
     "output_type": "stream",
     "text": [
      "       L1 E          L16 G    CDR1 L27D T          L40 P     CDR2 L53 Y          L68 G          L83 F     CDR3 L96 L\n",
      "       L2 I          L17 E    CDR1 L27E D          L41 G     CDR2 L54 L          L69 T          L84 A     CDR3 L97 T\n",
      "       L3 V          L18 R    CDR1 L27F L          L42 Q     CDR2 L55 E          L70 D          L85 V          L98 F\n",
      "       L4 L          L19 A     CDR1 L28 S          L43 A     CDR2 L56 S          L71 F          L86 Y          L99 G\n",
      "       L5 T          L20 T     CDR1 L29 G          L44 P          L57 G          L72 T          L87 Y         L100 G\n",
      "       L6 Q          L21 L     CDR1 L30 Y          L45 R          L58 V          L73 L          L88 C         L101 G\n",
      "       L7 S          L22 S     CDR1 L31 S          L46 L          L59 P          L74 T     CDR3 L89 Q         L102 T\n",
      "       L8 P          L23 C     CDR1 L32 Y          L47 L          L60 A          L75 I     CDR3 L90 H         L103 K\n",
      "       L9 A     CDR1 L24 R     CDR1 L33 L          L48 I          L61 R          L76 S     CDR3 L91 S         L104 V\n",
      "      L10 T     CDR1 L25 A     CDR1 L34 H     CDR2 L49 Y          L62 F          L77 S     CDR3 L92 R         L105 E\n",
      "      L11 L     CDR1 L26 S          L35 W     CDR2 L50 L          L63 S          L78 L     CDR3 L93 D         L106 I\n",
      "      L12 S     CDR1 L27 K          L36 Y     CDR2 L51 G          L64 G          L79 E     CDR3 L94 G         L107 K\n",
      "      L13 L    CDR1 L27A G          L37 Q     CDR2 L52 Y          L65 S          L80 P     CDR3 L95 T\n",
      "      L14 S    CDR1 L27B V          L38 Q    CDR2 L52A A          L66 G          L81 E    CDR3 L95A L\n",
      "      L15 P    CDR1 L27C S          L39 K    CDR2 L52B S          L67 S          L82 D    CDR3 L95B P\n"
     ]
    },
    {
     "data": {
      "text/html": [
       "<h3>K aho (imgt CDR definition)</h3>"
      ],
      "text/plain": [
       "<IPython.core.display.HTML object>"
      ]
     },
     "metadata": {},
     "output_type": "display_data"
    },
    {
     "name": "stdout",
     "output_type": "stream",
     "text": [
      "       L1 E          L16 G     CDR1 L33 T          L48 P          L69 Y          L84 G         L101 F    CDR3 L137 L\n",
      "       L2 I          L17 E     CDR1 L34 D          L49 G          L70 L          L87 T         L102 A    CDR3 L138 T\n",
      "       L3 V          L18 R     CDR1 L35 L          L50 Q          L71 E          L88 D         L103 V         L139 F\n",
      "       L4 L          L19 A     CDR1 L36 S          L51 A          L72 S          L89 F         L104 Y         L140 G\n",
      "       L5 T          L20 T     CDR1 L37 G          L52 P          L73 G          L90 T         L105 Y         L141 G\n",
      "       L6 Q          L21 L     CDR1 L38 Y          L53 R          L74 V          L91 L         L106 C         L142 G\n",
      "       L7 S          L22 S     CDR1 L39 S          L54 L          L75 P          L92 T    CDR3 L107 Q         L143 T\n",
      "       L8 P          L23 C     CDR1 L40 Y          L55 L          L76 A          L93 I    CDR3 L108 H         L144 K\n",
      "       L9 A          L24 R          L41 L          L56 I          L77 R          L94 S    CDR3 L109 S         L145 V\n",
      "      L10 T          L25 A          L42 H          L57 Y          L78 F          L95 S    CDR3 L110 R         L146 E\n",
      "      L11 L          L26 S          L43 W     CDR2 L58 L          L79 S          L96 L    CDR3 L111 D         L147 I\n",
      "      L12 S     CDR1 L29 K          L44 Y     CDR2 L59 G          L80 G          L97 E    CDR3 L112 G         L148 K\n",
      "      L13 L     CDR1 L30 G          L45 Q     CDR2 L66 Y          L81 S          L98 P    CDR3 L134 T\n",
      "      L14 S     CDR1 L31 V          L46 Q     CDR2 L67 A          L82 G          L99 E    CDR3 L135 L\n",
      "      L15 P     CDR1 L32 S          L47 K     CDR2 L68 S          L83 S         L100 D    CDR3 L136 P\n"
     ]
    },
    {
     "data": {
      "text/html": [
       "<h3>K aho (chothia CDR definition)</h3>"
      ],
      "text/plain": [
       "<IPython.core.display.HTML object>"
      ]
     },
     "metadata": {},
     "output_type": "display_data"
    },
    {
     "name": "stdout",
     "output_type": "stream",
     "text": [
      "       L1 E          L16 G     CDR1 L33 T          L48 P     CDR2 L69 Y          L84 G         L101 F    CDR3 L137 L\n",
      "       L2 I          L17 E     CDR1 L34 D          L49 G     CDR2 L70 L          L87 T         L102 A    CDR3 L138 T\n",
      "       L3 V          L18 R     CDR1 L35 L          L50 Q     CDR2 L71 E          L88 D         L103 V         L139 F\n",
      "       L4 L          L19 A     CDR1 L36 S          L51 A     CDR2 L72 S          L89 F         L104 Y         L140 G\n",
      "       L5 T          L20 T     CDR1 L37 G          L52 P          L73 G          L90 T         L105 Y         L141 G\n",
      "       L6 Q          L21 L     CDR1 L38 Y          L53 R          L74 V          L91 L         L106 C         L142 G\n",
      "       L7 S          L22 S     CDR1 L39 S          L54 L          L75 P          L92 T    CDR3 L107 Q         L143 T\n",
      "       L8 P          L23 C     CDR1 L40 Y          L55 L          L76 A          L93 I    CDR3 L108 H         L144 K\n",
      "       L9 A     CDR1 L24 R     CDR1 L41 L          L56 I          L77 R          L94 S    CDR3 L109 S         L145 V\n",
      "      L10 T     CDR1 L25 A     CDR1 L42 H          L57 Y          L78 F          L95 S    CDR3 L110 R         L146 E\n",
      "      L11 L     CDR1 L26 S          L43 W     CDR2 L58 L          L79 S          L96 L    CDR3 L111 D         L147 I\n",
      "      L12 S     CDR1 L29 K          L44 Y     CDR2 L59 G          L80 G          L97 E    CDR3 L112 G         L148 K\n",
      "      L13 L     CDR1 L30 G          L45 Q     CDR2 L66 Y          L81 S          L98 P    CDR3 L134 T\n",
      "      L14 S     CDR1 L31 V          L46 Q     CDR2 L67 A          L82 G          L99 E    CDR3 L135 L\n",
      "      L15 P     CDR1 L32 S          L47 K     CDR2 L68 S          L83 S         L100 D    CDR3 L136 P\n"
     ]
    },
    {
     "data": {
      "text/html": [
       "<h3>K aho (kabat CDR definition)</h3>"
      ],
      "text/plain": [
       "<IPython.core.display.HTML object>"
      ]
     },
     "metadata": {},
     "output_type": "display_data"
    },
    {
     "name": "stdout",
     "output_type": "stream",
     "text": [
      "       L1 E          L16 G     CDR1 L33 T          L48 P     CDR2 L69 Y          L84 G         L101 F    CDR3 L137 L\n",
      "       L2 I          L17 E     CDR1 L34 D          L49 G     CDR2 L70 L          L87 T         L102 A    CDR3 L138 T\n",
      "       L3 V          L18 R     CDR1 L35 L          L50 Q     CDR2 L71 E          L88 D         L103 V         L139 F\n",
      "       L4 L          L19 A     CDR1 L36 S          L51 A     CDR2 L72 S          L89 F         L104 Y         L140 G\n",
      "       L5 T          L20 T     CDR1 L37 G          L52 P          L73 G          L90 T         L105 Y         L141 G\n",
      "       L6 Q          L21 L     CDR1 L38 Y          L53 R          L74 V          L91 L         L106 C         L142 G\n",
      "       L7 S          L22 S     CDR1 L39 S          L54 L          L75 P          L92 T    CDR3 L107 Q         L143 T\n",
      "       L8 P          L23 C     CDR1 L40 Y          L55 L          L76 A          L93 I    CDR3 L108 H         L144 K\n",
      "       L9 A     CDR1 L24 R     CDR1 L41 L          L56 I          L77 R          L94 S    CDR3 L109 S         L145 V\n",
      "      L10 T     CDR1 L25 A     CDR1 L42 H          L57 Y          L78 F          L95 S    CDR3 L110 R         L146 E\n",
      "      L11 L     CDR1 L26 S          L43 W     CDR2 L58 L          L79 S          L96 L    CDR3 L111 D         L147 I\n",
      "      L12 S     CDR1 L29 K          L44 Y     CDR2 L59 G          L80 G          L97 E    CDR3 L112 G         L148 K\n",
      "      L13 L     CDR1 L30 G          L45 Q     CDR2 L66 Y          L81 S          L98 P    CDR3 L134 T\n",
      "      L14 S     CDR1 L31 V          L46 Q     CDR2 L67 A          L82 G          L99 E    CDR3 L135 L\n",
      "      L15 P     CDR1 L32 S          L47 K     CDR2 L68 S          L83 S         L100 D    CDR3 L136 P\n"
     ]
    },
    {
     "data": {
      "text/html": [
       "<h3>K aho (north CDR definition)</h3>"
      ],
      "text/plain": [
       "<IPython.core.display.HTML object>"
      ]
     },
     "metadata": {},
     "output_type": "display_data"
    },
    {
     "name": "stdout",
     "output_type": "stream",
     "text": [
      "       L1 E          L16 G     CDR1 L33 T          L48 P     CDR2 L69 Y          L84 G         L101 F    CDR3 L137 L\n",
      "       L2 I          L17 E     CDR1 L34 D          L49 G     CDR2 L70 L          L87 T         L102 A    CDR3 L138 T\n",
      "       L3 V          L18 R     CDR1 L35 L          L50 Q     CDR2 L71 E          L88 D         L103 V         L139 F\n",
      "       L4 L          L19 A     CDR1 L36 S          L51 A     CDR2 L72 S          L89 F         L104 Y         L140 G\n",
      "       L5 T          L20 T     CDR1 L37 G          L52 P          L73 G          L90 T         L105 Y         L141 G\n",
      "       L6 Q          L21 L     CDR1 L38 Y          L53 R          L74 V          L91 L         L106 C         L142 G\n",
      "       L7 S          L22 S     CDR1 L39 S          L54 L          L75 P          L92 T    CDR3 L107 Q         L143 T\n",
      "       L8 P          L23 C     CDR1 L40 Y          L55 L          L76 A          L93 I    CDR3 L108 H         L144 K\n",
      "       L9 A     CDR1 L24 R     CDR1 L41 L          L56 I          L77 R          L94 S    CDR3 L109 S         L145 V\n",
      "      L10 T     CDR1 L25 A     CDR1 L42 H     CDR2 L57 Y          L78 F          L95 S    CDR3 L110 R         L146 E\n",
      "      L11 L     CDR1 L26 S          L43 W     CDR2 L58 L          L79 S          L96 L    CDR3 L111 D         L147 I\n",
      "      L12 S     CDR1 L29 K          L44 Y     CDR2 L59 G          L80 G          L97 E    CDR3 L112 G         L148 K\n",
      "      L13 L     CDR1 L30 G          L45 Q     CDR2 L66 Y          L81 S          L98 P    CDR3 L134 T\n",
      "      L14 S     CDR1 L31 V          L46 Q     CDR2 L67 A          L82 G          L99 E    CDR3 L135 L\n",
      "      L15 P     CDR1 L32 S          L47 K     CDR2 L68 S          L83 S         L100 D    CDR3 L136 P\n"
     ]
    },
    {
     "data": {
      "text/html": [
       "<h3>L imgt (imgt CDR definition)</h3>"
      ],
      "text/plain": [
       "<IPython.core.display.HTML object>"
      ]
     },
     "metadata": {},
     "output_type": "display_data"
    },
    {
     "name": "stdout",
     "output_type": "stream",
     "text": [
      "       L1 Q          L16 G     CDR1 L30 I          L48 T          L69 S          L86 S         L100 A    CDR3 L117 V\n",
      "       L2 S          L17 Q     CDR1 L35 G          L49 A          L70 G          L87 A         L101 D         L118 F\n",
      "       L3 V          L18 R     CDR1 L36 S          L50 P          L71 V          L88 S         L102 Y         L119 G\n",
      "       L4 L          L19 V     CDR1 L37 N          L51 K          L72 P          L89 L         L103 Y         L120 G\n",
      "       L5 T          L20 T     CDR1 L38 T          L52 L          L74 D          L90 A         L104 C         L121 G\n",
      "       L6 Q          L21 I          L39 V          L53 L          L75 R          L91 I    CDR3 L105 A         L122 T\n",
      "       L7 P          L22 S          L40 H          L54 I          L76 F          L92 S    CDR3 L106 A         L123 K\n",
      "       L8 P          L23 C          L41 W          L55 Y          L77 S          L93 G    CDR3 L107 W         L124 L\n",
      "       L9 S          L24 S          L42 Y     CDR2 L56 S          L78 G          L94 L    CDR3 L108 D         L125 T\n",
      "      L11 A          L25 G          L43 Q     CDR2 L57 D          L79 S          L95 Q    CDR3 L109 D         L126 V\n",
      "      L12 S          L26 S          L44 Q     CDR2 L65 N          L80 K          L96 S    CDR3 L113 S         L127 L\n",
      "      L13 G     CDR1 L27 S          L45 L          L66 Q          L83 S          L97 E    CDR3 L114 L\n",
      "      L14 T     CDR1 L28 S          L46 P          L67 R          L84 G          L98 D    CDR3 L115 N\n",
      "      L15 P     CDR1 L29 N          L47 G          L68 P          L85 T          L99 E    CDR3 L116 G\n"
     ]
    },
    {
     "data": {
      "text/html": [
       "<h3>L imgt (chothia CDR definition)</h3>"
      ],
      "text/plain": [
       "<IPython.core.display.HTML object>"
      ]
     },
     "metadata": {},
     "output_type": "display_data"
    },
    {
     "name": "stdout",
     "output_type": "stream",
     "text": [
      "       L1 Q          L16 G     CDR1 L30 I          L48 T     CDR2 L69 S          L86 S         L100 A    CDR3 L117 V\n",
      "       L2 S          L17 Q     CDR1 L35 G          L49 A          L70 G          L87 A         L101 D         L118 F\n",
      "       L3 V          L18 R     CDR1 L36 S          L50 P          L71 V          L88 S         L102 Y         L119 G\n",
      "       L4 L          L19 V     CDR1 L37 N          L51 K          L72 P          L89 L         L103 Y         L120 G\n",
      "       L5 T          L20 T     CDR1 L38 T          L52 L          L74 D          L90 A         L104 C         L121 G\n",
      "       L6 Q          L21 I     CDR1 L39 V          L53 L          L75 R          L91 I    CDR3 L105 A         L122 T\n",
      "       L7 P          L22 S     CDR1 L40 H          L54 I          L76 F          L92 S    CDR3 L106 A         L123 K\n",
      "       L8 P          L23 C          L41 W          L55 Y          L77 S          L93 G    CDR3 L107 W         L124 L\n",
      "       L9 S     CDR1 L24 S          L42 Y     CDR2 L56 S          L78 G          L94 L    CDR3 L108 D         L125 T\n",
      "      L11 A     CDR1 L25 G          L43 Q     CDR2 L57 D          L79 S          L95 Q    CDR3 L109 D         L126 V\n",
      "      L12 S     CDR1 L26 S          L44 Q     CDR2 L65 N          L80 K          L96 S    CDR3 L113 S         L127 L\n",
      "      L13 G     CDR1 L27 S          L45 L     CDR2 L66 Q          L83 S          L97 E    CDR3 L114 L\n",
      "      L14 T     CDR1 L28 S          L46 P     CDR2 L67 R          L84 G          L98 D    CDR3 L115 N\n",
      "      L15 P     CDR1 L29 N          L47 G     CDR2 L68 P          L85 T          L99 E    CDR3 L116 G\n"
     ]
    },
    {
     "data": {
      "text/html": [
       "<h3>L imgt (kabat CDR definition)</h3>"
      ],
      "text/plain": [
       "<IPython.core.display.HTML object>"
      ]
     },
     "metadata": {},
     "output_type": "display_data"
    },
    {
     "name": "stdout",
     "output_type": "stream",
     "text": [
      "       L1 Q          L16 G     CDR1 L30 I          L48 T     CDR2 L69 S          L86 S         L100 A    CDR3 L117 V\n",
      "       L2 S          L17 Q     CDR1 L35 G          L49 A          L70 G          L87 A         L101 D         L118 F\n",
      "       L3 V          L18 R     CDR1 L36 S          L50 P          L71 V          L88 S         L102 Y         L119 G\n",
      "       L4 L          L19 V     CDR1 L37 N          L51 K          L72 P          L89 L         L103 Y         L120 G\n",
      "       L5 T          L20 T     CDR1 L38 T          L52 L          L74 D          L90 A         L104 C         L121 G\n",
      "       L6 Q          L21 I     CDR1 L39 V          L53 L          L75 R          L91 I    CDR3 L105 A         L122 T\n",
      "       L7 P          L22 S     CDR1 L40 H          L54 I          L76 F          L92 S    CDR3 L106 A         L123 K\n",
      "       L8 P          L23 C          L41 W          L55 Y          L77 S          L93 G    CDR3 L107 W         L124 L\n",
      "       L9 S     CDR1 L24 S          L42 Y     CDR2 L56 S          L78 G          L94 L    CDR3 L108 D         L125 T\n",
      "      L11 A     CDR1 L25 G          L43 Q     CDR2 L57 D          L79 S          L95 Q    CDR3 L109 D         L126 V\n",
      "      L12 S     CDR1 L26 S          L44 Q     CDR2 L65 N          L80 K          L96 S    CDR3 L113 S         L127 L\n",
      "      L13 G     CDR1 L27 S          L45 L     CDR2 L66 Q          L83 S          L97 E    CDR3 L114 L\n",
      "      L14 T     CDR1 L28 S          L46 P     CDR2 L67 R          L84 G          L98 D    CDR3 L115 N\n",
      "      L15 P     CDR1 L29 N          L47 G     CDR2 L68 P          L85 T          L99 E    CDR3 L116 G\n"
     ]
    },
    {
     "data": {
      "text/html": [
       "<h3>L imgt (north CDR definition)</h3>"
      ],
      "text/plain": [
       "<IPython.core.display.HTML object>"
      ]
     },
     "metadata": {},
     "output_type": "display_data"
    },
    {
     "name": "stdout",
     "output_type": "stream",
     "text": [
      "       L1 Q          L16 G     CDR1 L30 I          L48 T     CDR2 L69 S          L86 S         L100 A    CDR3 L117 V\n",
      "       L2 S          L17 Q     CDR1 L35 G          L49 A          L70 G          L87 A         L101 D         L118 F\n",
      "       L3 V          L18 R     CDR1 L36 S          L50 P          L71 V          L88 S         L102 Y         L119 G\n",
      "       L4 L          L19 V     CDR1 L37 N          L51 K          L72 P          L89 L         L103 Y         L120 G\n",
      "       L5 T          L20 T     CDR1 L38 T          L52 L          L74 D          L90 A         L104 C         L121 G\n",
      "       L6 Q          L21 I     CDR1 L39 V          L53 L          L75 R          L91 I    CDR3 L105 A         L122 T\n",
      "       L7 P          L22 S     CDR1 L40 H          L54 I          L76 F          L92 S    CDR3 L106 A         L123 K\n",
      "       L8 P          L23 C          L41 W     CDR2 L55 Y          L77 S          L93 G    CDR3 L107 W         L124 L\n",
      "       L9 S     CDR1 L24 S          L42 Y     CDR2 L56 S          L78 G          L94 L    CDR3 L108 D         L125 T\n",
      "      L11 A     CDR1 L25 G          L43 Q     CDR2 L57 D          L79 S          L95 Q    CDR3 L109 D         L126 V\n",
      "      L12 S     CDR1 L26 S          L44 Q     CDR2 L65 N          L80 K          L96 S    CDR3 L113 S         L127 L\n",
      "      L13 G     CDR1 L27 S          L45 L     CDR2 L66 Q          L83 S          L97 E    CDR3 L114 L\n",
      "      L14 T     CDR1 L28 S          L46 P     CDR2 L67 R          L84 G          L98 D    CDR3 L115 N\n",
      "      L15 P     CDR1 L29 N          L47 G     CDR2 L68 P          L85 T          L99 E    CDR3 L116 G\n"
     ]
    },
    {
     "data": {
      "text/html": [
       "<h3>L chothia (imgt CDR definition)</h3>"
      ],
      "text/plain": [
       "<IPython.core.display.HTML object>"
      ]
     },
     "metadata": {},
     "output_type": "display_data"
    },
    {
     "name": "stdout",
     "output_type": "stream",
     "text": [
      "       L1 Q          L16 G     CDR1 L30 I          L42 T          L56 S          L70 S          L84 A     CDR3 L97 V\n",
      "       L2 S          L17 Q    CDR1 L30A G          L43 A          L57 G          L71 A          L85 D          L98 F\n",
      "       L3 V          L18 R    CDR1 L30B S          L44 P          L58 V          L72 S          L86 Y          L99 G\n",
      "       L4 L          L19 V     CDR1 L31 N          L45 K          L59 P          L73 L          L87 Y         L100 G\n",
      "       L5 T          L20 T     CDR1 L32 T          L46 L          L60 D          L74 A          L88 C         L101 G\n",
      "       L6 Q          L21 I          L33 V          L47 L          L61 R          L75 I     CDR3 L89 A         L102 T\n",
      "       L7 P          L22 S          L34 H          L48 I          L62 F          L76 S     CDR3 L90 A         L103 K\n",
      "       L8 P          L23 C          L35 W          L49 Y          L63 S          L77 G     CDR3 L91 W         L104 L\n",
      "       L9 S          L24 S          L36 Y     CDR2 L50 S          L64 G          L78 L     CDR3 L92 D         L105 T\n",
      "      L11 A          L25 G          L37 Q     CDR2 L51 D          L65 S          L79 Q     CDR3 L93 D         L106 V\n",
      "      L12 S          L26 S          L38 Q     CDR2 L52 N          L66 K          L80 S     CDR3 L94 S         L107 L\n",
      "      L13 G     CDR1 L27 S          L39 L          L53 Q          L67 S          L81 E     CDR3 L95 L\n",
      "      L14 T     CDR1 L28 S          L40 P          L54 R          L68 G          L82 D    CDR3 L95A N\n",
      "      L15 P     CDR1 L29 N          L41 G          L55 P          L69 T          L83 E     CDR3 L96 G\n"
     ]
    },
    {
     "data": {
      "text/html": [
       "<h3>L chothia (chothia CDR definition)</h3>"
      ],
      "text/plain": [
       "<IPython.core.display.HTML object>"
      ]
     },
     "metadata": {},
     "output_type": "display_data"
    },
    {
     "name": "stdout",
     "output_type": "stream",
     "text": [
      "       L1 Q          L16 G     CDR1 L30 I          L42 T     CDR2 L56 S          L70 S          L84 A     CDR3 L97 V\n",
      "       L2 S          L17 Q    CDR1 L30A G          L43 A          L57 G          L71 A          L85 D          L98 F\n",
      "       L3 V          L18 R    CDR1 L30B S          L44 P          L58 V          L72 S          L86 Y          L99 G\n",
      "       L4 L          L19 V     CDR1 L31 N          L45 K          L59 P          L73 L          L87 Y         L100 G\n",
      "       L5 T          L20 T     CDR1 L32 T          L46 L          L60 D          L74 A          L88 C         L101 G\n",
      "       L6 Q          L21 I     CDR1 L33 V          L47 L          L61 R          L75 I     CDR3 L89 A         L102 T\n",
      "       L7 P          L22 S     CDR1 L34 H          L48 I          L62 F          L76 S     CDR3 L90 A         L103 K\n",
      "       L8 P          L23 C          L35 W          L49 Y          L63 S          L77 G     CDR3 L91 W         L104 L\n",
      "       L9 S     CDR1 L24 S          L36 Y     CDR2 L50 S          L64 G          L78 L     CDR3 L92 D         L105 T\n",
      "      L11 A     CDR1 L25 G          L37 Q     CDR2 L51 D          L65 S          L79 Q     CDR3 L93 D         L106 V\n",
      "      L12 S     CDR1 L26 S          L38 Q     CDR2 L52 N          L66 K          L80 S     CDR3 L94 S         L107 L\n",
      "      L13 G     CDR1 L27 S          L39 L     CDR2 L53 Q          L67 S          L81 E     CDR3 L95 L\n",
      "      L14 T     CDR1 L28 S          L40 P     CDR2 L54 R          L68 G          L82 D    CDR3 L95A N\n",
      "      L15 P     CDR1 L29 N          L41 G     CDR2 L55 P          L69 T          L83 E     CDR3 L96 G\n"
     ]
    },
    {
     "data": {
      "text/html": [
       "<h3>L chothia (kabat CDR definition)</h3>"
      ],
      "text/plain": [
       "<IPython.core.display.HTML object>"
      ]
     },
     "metadata": {},
     "output_type": "display_data"
    },
    {
     "name": "stdout",
     "output_type": "stream",
     "text": [
      "       L1 Q          L16 G     CDR1 L30 I          L42 T     CDR2 L56 S          L70 S          L84 A     CDR3 L97 V\n",
      "       L2 S          L17 Q    CDR1 L30A G          L43 A          L57 G          L71 A          L85 D          L98 F\n",
      "       L3 V          L18 R    CDR1 L30B S          L44 P          L58 V          L72 S          L86 Y          L99 G\n",
      "       L4 L          L19 V     CDR1 L31 N          L45 K          L59 P          L73 L          L87 Y         L100 G\n",
      "       L5 T          L20 T     CDR1 L32 T          L46 L          L60 D          L74 A          L88 C         L101 G\n",
      "       L6 Q          L21 I     CDR1 L33 V          L47 L          L61 R          L75 I     CDR3 L89 A         L102 T\n",
      "       L7 P          L22 S     CDR1 L34 H          L48 I          L62 F          L76 S     CDR3 L90 A         L103 K\n",
      "       L8 P          L23 C          L35 W          L49 Y          L63 S          L77 G     CDR3 L91 W         L104 L\n",
      "       L9 S     CDR1 L24 S          L36 Y     CDR2 L50 S          L64 G          L78 L     CDR3 L92 D         L105 T\n",
      "      L11 A     CDR1 L25 G          L37 Q     CDR2 L51 D          L65 S          L79 Q     CDR3 L93 D         L106 V\n",
      "      L12 S     CDR1 L26 S          L38 Q     CDR2 L52 N          L66 K          L80 S     CDR3 L94 S         L107 L\n",
      "      L13 G     CDR1 L27 S          L39 L     CDR2 L53 Q          L67 S          L81 E     CDR3 L95 L\n",
      "      L14 T     CDR1 L28 S          L40 P     CDR2 L54 R          L68 G          L82 D    CDR3 L95A N\n",
      "      L15 P     CDR1 L29 N          L41 G     CDR2 L55 P          L69 T          L83 E     CDR3 L96 G\n"
     ]
    },
    {
     "data": {
      "text/html": [
       "<h3>L chothia (north CDR definition)</h3>"
      ],
      "text/plain": [
       "<IPython.core.display.HTML object>"
      ]
     },
     "metadata": {},
     "output_type": "display_data"
    },
    {
     "name": "stdout",
     "output_type": "stream",
     "text": [
      "       L1 Q          L16 G     CDR1 L30 I          L42 T     CDR2 L56 S          L70 S          L84 A     CDR3 L97 V\n",
      "       L2 S          L17 Q    CDR1 L30A G          L43 A          L57 G          L71 A          L85 D          L98 F\n",
      "       L3 V          L18 R    CDR1 L30B S          L44 P          L58 V          L72 S          L86 Y          L99 G\n",
      "       L4 L          L19 V     CDR1 L31 N          L45 K          L59 P          L73 L          L87 Y         L100 G\n",
      "       L5 T          L20 T     CDR1 L32 T          L46 L          L60 D          L74 A          L88 C         L101 G\n",
      "       L6 Q          L21 I     CDR1 L33 V          L47 L          L61 R          L75 I     CDR3 L89 A         L102 T\n",
      "       L7 P          L22 S     CDR1 L34 H          L48 I          L62 F          L76 S     CDR3 L90 A         L103 K\n",
      "       L8 P          L23 C          L35 W     CDR2 L49 Y          L63 S          L77 G     CDR3 L91 W         L104 L\n",
      "       L9 S     CDR1 L24 S          L36 Y     CDR2 L50 S          L64 G          L78 L     CDR3 L92 D         L105 T\n",
      "      L11 A     CDR1 L25 G          L37 Q     CDR2 L51 D          L65 S          L79 Q     CDR3 L93 D         L106 V\n",
      "      L12 S     CDR1 L26 S          L38 Q     CDR2 L52 N          L66 K          L80 S     CDR3 L94 S         L107 L\n",
      "      L13 G     CDR1 L27 S          L39 L     CDR2 L53 Q          L67 S          L81 E     CDR3 L95 L\n",
      "      L14 T     CDR1 L28 S          L40 P     CDR2 L54 R          L68 G          L82 D    CDR3 L95A N\n",
      "      L15 P     CDR1 L29 N          L41 G     CDR2 L55 P          L69 T          L83 E     CDR3 L96 G\n"
     ]
    },
    {
     "data": {
      "text/html": [
       "<h3>L kabat (imgt CDR definition)</h3>"
      ],
      "text/plain": [
       "<IPython.core.display.HTML object>"
      ]
     },
     "metadata": {},
     "output_type": "display_data"
    },
    {
     "name": "stdout",
     "output_type": "stream",
     "text": [
      "       L1 Q          L16 G     CDR1 L28 I          L42 T          L56 S          L70 S          L84 A     CDR3 L97 V\n",
      "       L2 S          L17 Q     CDR1 L29 G          L43 A          L57 G          L71 A          L85 D          L98 F\n",
      "       L3 V          L18 R     CDR1 L30 S          L44 P          L58 V          L72 S          L86 Y          L99 G\n",
      "       L4 L          L19 V     CDR1 L31 N          L45 K          L59 P          L73 L          L87 Y         L100 G\n",
      "       L5 T          L20 T     CDR1 L32 T          L46 L          L60 D          L74 A          L88 C         L101 G\n",
      "       L6 Q          L21 I          L33 V          L47 L          L61 R          L75 I     CDR3 L89 A         L102 T\n",
      "       L7 P          L22 S          L34 H          L48 I          L62 F          L76 S     CDR3 L90 A         L103 K\n",
      "       L8 P          L23 C          L35 W          L49 Y          L63 S          L77 G     CDR3 L91 W         L104 L\n",
      "       L9 S          L24 S          L36 Y     CDR2 L50 S          L64 G          L78 L     CDR3 L92 D         L105 T\n",
      "      L11 A          L25 G          L37 Q     CDR2 L51 D          L65 S          L79 Q     CDR3 L93 D         L106 V\n",
      "      L12 S          L26 S          L38 Q     CDR2 L52 N          L66 K          L80 S     CDR3 L94 S         L107 L\n",
      "      L13 G     CDR1 L27 S          L39 L          L53 Q          L67 S          L81 E     CDR3 L95 L\n",
      "      L14 T    CDR1 L27A S          L40 P          L54 R          L68 G          L82 D    CDR3 L95A N\n",
      "      L15 P    CDR1 L27B N          L41 G          L55 P          L69 T          L83 E     CDR3 L96 G\n"
     ]
    },
    {
     "data": {
      "text/html": [
       "<h3>L kabat (chothia CDR definition)</h3>"
      ],
      "text/plain": [
       "<IPython.core.display.HTML object>"
      ]
     },
     "metadata": {},
     "output_type": "display_data"
    },
    {
     "name": "stdout",
     "output_type": "stream",
     "text": [
      "       L1 Q          L16 G     CDR1 L28 I          L42 T     CDR2 L56 S          L70 S          L84 A     CDR3 L97 V\n",
      "       L2 S          L17 Q     CDR1 L29 G          L43 A          L57 G          L71 A          L85 D          L98 F\n",
      "       L3 V          L18 R     CDR1 L30 S          L44 P          L58 V          L72 S          L86 Y          L99 G\n",
      "       L4 L          L19 V     CDR1 L31 N          L45 K          L59 P          L73 L          L87 Y         L100 G\n",
      "       L5 T          L20 T     CDR1 L32 T          L46 L          L60 D          L74 A          L88 C         L101 G\n",
      "       L6 Q          L21 I     CDR1 L33 V          L47 L          L61 R          L75 I     CDR3 L89 A         L102 T\n",
      "       L7 P          L22 S     CDR1 L34 H          L48 I          L62 F          L76 S     CDR3 L90 A         L103 K\n",
      "       L8 P          L23 C          L35 W          L49 Y          L63 S          L77 G     CDR3 L91 W         L104 L\n",
      "       L9 S     CDR1 L24 S          L36 Y     CDR2 L50 S          L64 G          L78 L     CDR3 L92 D         L105 T\n",
      "      L11 A     CDR1 L25 G          L37 Q     CDR2 L51 D          L65 S          L79 Q     CDR3 L93 D         L106 V\n",
      "      L12 S     CDR1 L26 S          L38 Q     CDR2 L52 N          L66 K          L80 S     CDR3 L94 S         L107 L\n",
      "      L13 G     CDR1 L27 S          L39 L     CDR2 L53 Q          L67 S          L81 E     CDR3 L95 L\n",
      "      L14 T    CDR1 L27A S          L40 P     CDR2 L54 R          L68 G          L82 D    CDR3 L95A N\n",
      "      L15 P    CDR1 L27B N          L41 G     CDR2 L55 P          L69 T          L83 E     CDR3 L96 G\n"
     ]
    },
    {
     "data": {
      "text/html": [
       "<h3>L kabat (kabat CDR definition)</h3>"
      ],
      "text/plain": [
       "<IPython.core.display.HTML object>"
      ]
     },
     "metadata": {},
     "output_type": "display_data"
    },
    {
     "name": "stdout",
     "output_type": "stream",
     "text": [
      "       L1 Q          L16 G     CDR1 L28 I          L42 T     CDR2 L56 S          L70 S          L84 A     CDR3 L97 V\n",
      "       L2 S          L17 Q     CDR1 L29 G          L43 A          L57 G          L71 A          L85 D          L98 F\n",
      "       L3 V          L18 R     CDR1 L30 S          L44 P          L58 V          L72 S          L86 Y          L99 G\n",
      "       L4 L          L19 V     CDR1 L31 N          L45 K          L59 P          L73 L          L87 Y         L100 G\n",
      "       L5 T          L20 T     CDR1 L32 T          L46 L          L60 D          L74 A          L88 C         L101 G\n",
      "       L6 Q          L21 I     CDR1 L33 V          L47 L          L61 R          L75 I     CDR3 L89 A         L102 T\n",
      "       L7 P          L22 S     CDR1 L34 H          L48 I          L62 F          L76 S     CDR3 L90 A         L103 K\n",
      "       L8 P          L23 C          L35 W          L49 Y          L63 S          L77 G     CDR3 L91 W         L104 L\n",
      "       L9 S     CDR1 L24 S          L36 Y     CDR2 L50 S          L64 G          L78 L     CDR3 L92 D         L105 T\n",
      "      L11 A     CDR1 L25 G          L37 Q     CDR2 L51 D          L65 S          L79 Q     CDR3 L93 D         L106 V\n",
      "      L12 S     CDR1 L26 S          L38 Q     CDR2 L52 N          L66 K          L80 S     CDR3 L94 S         L107 L\n",
      "      L13 G     CDR1 L27 S          L39 L     CDR2 L53 Q          L67 S          L81 E     CDR3 L95 L\n",
      "      L14 T    CDR1 L27A S          L40 P     CDR2 L54 R          L68 G          L82 D    CDR3 L95A N\n",
      "      L15 P    CDR1 L27B N          L41 G     CDR2 L55 P          L69 T          L83 E     CDR3 L96 G\n"
     ]
    },
    {
     "data": {
      "text/html": [
       "<h3>L kabat (north CDR definition)</h3>"
      ],
      "text/plain": [
       "<IPython.core.display.HTML object>"
      ]
     },
     "metadata": {},
     "output_type": "display_data"
    },
    {
     "name": "stdout",
     "output_type": "stream",
     "text": [
      "       L1 Q          L16 G     CDR1 L28 I          L42 T     CDR2 L56 S          L70 S          L84 A     CDR3 L97 V\n",
      "       L2 S          L17 Q     CDR1 L29 G          L43 A          L57 G          L71 A          L85 D          L98 F\n",
      "       L3 V          L18 R     CDR1 L30 S          L44 P          L58 V          L72 S          L86 Y          L99 G\n",
      "       L4 L          L19 V     CDR1 L31 N          L45 K          L59 P          L73 L          L87 Y         L100 G\n",
      "       L5 T          L20 T     CDR1 L32 T          L46 L          L60 D          L74 A          L88 C         L101 G\n",
      "       L6 Q          L21 I     CDR1 L33 V          L47 L          L61 R          L75 I     CDR3 L89 A         L102 T\n",
      "       L7 P          L22 S     CDR1 L34 H          L48 I          L62 F          L76 S     CDR3 L90 A         L103 K\n",
      "       L8 P          L23 C          L35 W     CDR2 L49 Y          L63 S          L77 G     CDR3 L91 W         L104 L\n",
      "       L9 S     CDR1 L24 S          L36 Y     CDR2 L50 S          L64 G          L78 L     CDR3 L92 D         L105 T\n",
      "      L11 A     CDR1 L25 G          L37 Q     CDR2 L51 D          L65 S          L79 Q     CDR3 L93 D         L106 V\n",
      "      L12 S     CDR1 L26 S          L38 Q     CDR2 L52 N          L66 K          L80 S     CDR3 L94 S         L107 L\n",
      "      L13 G     CDR1 L27 S          L39 L     CDR2 L53 Q          L67 S          L81 E     CDR3 L95 L\n",
      "      L14 T    CDR1 L27A S          L40 P     CDR2 L54 R          L68 G          L82 D    CDR3 L95A N\n",
      "      L15 P    CDR1 L27B N          L41 G     CDR2 L55 P          L69 T          L83 E     CDR3 L96 G\n"
     ]
    },
    {
     "data": {
      "text/html": [
       "<h3>L aho (imgt CDR definition)</h3>"
      ],
      "text/plain": [
       "<IPython.core.display.HTML object>"
      ]
     },
     "metadata": {},
     "output_type": "display_data"
    },
    {
     "name": "stdout",
     "output_type": "stream",
     "text": [
      "       L1 Q          L16 G     CDR1 L31 I          L50 T          L72 S          L88 S         L102 A    CDR3 L138 V\n",
      "       L2 S          L17 Q     CDR1 L32 G          L51 A          L73 G          L89 A         L103 D         L139 F\n",
      "       L3 V          L18 R     CDR1 L33 S          L52 P          L74 V          L90 S         L104 Y         L140 G\n",
      "       L4 L          L19 V     CDR1 L39 N          L53 K          L75 P          L91 L         L105 Y         L141 G\n",
      "       L5 T          L20 T     CDR1 L40 T          L54 L          L76 D          L92 A         L106 C         L142 G\n",
      "       L6 Q          L21 I          L41 V          L55 L          L77 R          L93 I    CDR3 L107 A         L143 T\n",
      "       L7 P          L22 S          L42 H          L56 I          L78 F          L94 S    CDR3 L108 A         L144 K\n",
      "       L9 P          L23 C          L43 W          L57 Y          L79 S          L95 G    CDR3 L109 W         L145 L\n",
      "      L10 S          L24 S          L44 Y     CDR2 L58 S          L80 G          L96 L    CDR3 L110 D         L146 T\n",
      "      L11 A          L25 G          L45 Q     CDR2 L67 D          L81 S          L97 Q    CDR3 L111 D         L147 V\n",
      "      L12 S          L26 S          L46 Q     CDR2 L68 N          L82 K          L98 S    CDR3 L112 S         L148 L\n",
      "      L13 G     CDR1 L27 S          L47 L          L69 Q          L83 S          L99 E    CDR3 L135 L\n",
      "      L14 T     CDR1 L29 S          L48 P          L70 R          L84 G         L100 D    CDR3 L136 N\n",
      "      L15 P     CDR1 L30 N          L49 G          L71 P          L87 T         L101 E    CDR3 L137 G\n"
     ]
    },
    {
     "data": {
      "text/html": [
       "<h3>L aho (chothia CDR definition)</h3>"
      ],
      "text/plain": [
       "<IPython.core.display.HTML object>"
      ]
     },
     "metadata": {},
     "output_type": "display_data"
    },
    {
     "name": "stdout",
     "output_type": "stream",
     "text": [
      "       L1 Q          L16 G     CDR1 L31 I          L50 T     CDR2 L72 S          L88 S         L102 A    CDR3 L138 V\n",
      "       L2 S          L17 Q     CDR1 L32 G          L51 A          L73 G          L89 A         L103 D         L139 F\n",
      "       L3 V          L18 R     CDR1 L33 S          L52 P          L74 V          L90 S         L104 Y         L140 G\n",
      "       L4 L          L19 V     CDR1 L39 N          L53 K          L75 P          L91 L         L105 Y         L141 G\n",
      "       L5 T          L20 T     CDR1 L40 T          L54 L          L76 D          L92 A         L106 C         L142 G\n",
      "       L6 Q          L21 I     CDR1 L41 V          L55 L          L77 R          L93 I    CDR3 L107 A         L143 T\n",
      "       L7 P          L22 S     CDR1 L42 H          L56 I          L78 F          L94 S    CDR3 L108 A         L144 K\n",
      "       L9 P          L23 C          L43 W          L57 Y          L79 S          L95 G    CDR3 L109 W         L145 L\n",
      "      L10 S     CDR1 L24 S          L44 Y     CDR2 L58 S          L80 G          L96 L    CDR3 L110 D         L146 T\n",
      "      L11 A     CDR1 L25 G          L45 Q     CDR2 L67 D          L81 S          L97 Q    CDR3 L111 D         L147 V\n",
      "      L12 S     CDR1 L26 S          L46 Q     CDR2 L68 N          L82 K          L98 S    CDR3 L112 S         L148 L\n",
      "      L13 G     CDR1 L27 S          L47 L     CDR2 L69 Q          L83 S          L99 E    CDR3 L135 L\n",
      "      L14 T     CDR1 L29 S          L48 P     CDR2 L70 R          L84 G         L100 D    CDR3 L136 N\n",
      "      L15 P     CDR1 L30 N          L49 G     CDR2 L71 P          L87 T         L101 E    CDR3 L137 G\n"
     ]
    },
    {
     "data": {
      "text/html": [
       "<h3>L aho (kabat CDR definition)</h3>"
      ],
      "text/plain": [
       "<IPython.core.display.HTML object>"
      ]
     },
     "metadata": {},
     "output_type": "display_data"
    },
    {
     "name": "stdout",
     "output_type": "stream",
     "text": [
      "       L1 Q          L16 G     CDR1 L31 I          L50 T     CDR2 L72 S          L88 S         L102 A    CDR3 L138 V\n",
      "       L2 S          L17 Q     CDR1 L32 G          L51 A          L73 G          L89 A         L103 D         L139 F\n",
      "       L3 V          L18 R     CDR1 L33 S          L52 P          L74 V          L90 S         L104 Y         L140 G\n",
      "       L4 L          L19 V     CDR1 L39 N          L53 K          L75 P          L91 L         L105 Y         L141 G\n",
      "       L5 T          L20 T     CDR1 L40 T          L54 L          L76 D          L92 A         L106 C         L142 G\n",
      "       L6 Q          L21 I     CDR1 L41 V          L55 L          L77 R          L93 I    CDR3 L107 A         L143 T\n",
      "       L7 P          L22 S     CDR1 L42 H          L56 I          L78 F          L94 S    CDR3 L108 A         L144 K\n",
      "       L9 P          L23 C          L43 W          L57 Y          L79 S          L95 G    CDR3 L109 W         L145 L\n",
      "      L10 S     CDR1 L24 S          L44 Y     CDR2 L58 S          L80 G          L96 L    CDR3 L110 D         L146 T\n",
      "      L11 A     CDR1 L25 G          L45 Q     CDR2 L67 D          L81 S          L97 Q    CDR3 L111 D         L147 V\n",
      "      L12 S     CDR1 L26 S          L46 Q     CDR2 L68 N          L82 K          L98 S    CDR3 L112 S         L148 L\n",
      "      L13 G     CDR1 L27 S          L47 L     CDR2 L69 Q          L83 S          L99 E    CDR3 L135 L\n",
      "      L14 T     CDR1 L29 S          L48 P     CDR2 L70 R          L84 G         L100 D    CDR3 L136 N\n",
      "      L15 P     CDR1 L30 N          L49 G     CDR2 L71 P          L87 T         L101 E    CDR3 L137 G\n"
     ]
    },
    {
     "data": {
      "text/html": [
       "<h3>L aho (north CDR definition)</h3>"
      ],
      "text/plain": [
       "<IPython.core.display.HTML object>"
      ]
     },
     "metadata": {},
     "output_type": "display_data"
    },
    {
     "name": "stdout",
     "output_type": "stream",
     "text": [
      "       L1 Q          L16 G     CDR1 L31 I          L50 T     CDR2 L72 S          L88 S         L102 A    CDR3 L138 V\n",
      "       L2 S          L17 Q     CDR1 L32 G          L51 A          L73 G          L89 A         L103 D         L139 F\n",
      "       L3 V          L18 R     CDR1 L33 S          L52 P          L74 V          L90 S         L104 Y         L140 G\n",
      "       L4 L          L19 V     CDR1 L39 N          L53 K          L75 P          L91 L         L105 Y         L141 G\n",
      "       L5 T          L20 T     CDR1 L40 T          L54 L          L76 D          L92 A         L106 C         L142 G\n",
      "       L6 Q          L21 I     CDR1 L41 V          L55 L          L77 R          L93 I    CDR3 L107 A         L143 T\n",
      "       L7 P          L22 S     CDR1 L42 H          L56 I          L78 F          L94 S    CDR3 L108 A         L144 K\n",
      "       L9 P          L23 C          L43 W     CDR2 L57 Y          L79 S          L95 G    CDR3 L109 W         L145 L\n",
      "      L10 S     CDR1 L24 S          L44 Y     CDR2 L58 S          L80 G          L96 L    CDR3 L110 D         L146 T\n",
      "      L11 A     CDR1 L25 G          L45 Q     CDR2 L67 D          L81 S          L97 Q    CDR3 L111 D         L147 V\n",
      "      L12 S     CDR1 L26 S          L46 Q     CDR2 L68 N          L82 K          L98 S    CDR3 L112 S         L148 L\n",
      "      L13 G     CDR1 L27 S          L47 L     CDR2 L69 Q          L83 S          L99 E    CDR3 L135 L\n",
      "      L14 T     CDR1 L29 S          L48 P     CDR2 L70 R          L84 G         L100 D    CDR3 L136 N\n",
      "      L15 P     CDR1 L30 N          L49 G     CDR2 L71 P          L87 T         L101 E    CDR3 L137 G\n"
     ]
    }
   ],
   "source": [
    "for chain_seq in EXAMPLES:\n",
    "    for scheme in ['imgt', 'chothia', 'kabat', 'aho']:\n",
    "        for cdr_definition in ['imgt', 'chothia', 'kabat', 'north']:\n",
    "            chain = Chain(chain_seq, scheme=scheme, cdr_definition=cdr_definition)\n",
    "            display(HTML(f'<h3>{chain.chain_type} {scheme} ({cdr_definition} CDR definition)</h3>'))\n",
    "            chain.print_tall(columns=8)"
   ]
  },
  {
   "cell_type": "code",
   "execution_count": null,
   "metadata": {},
   "outputs": [],
   "source": []
  }
 ],
 "metadata": {
  "kernelspec": {
   "display_name": "Python 3",
   "language": "python",
   "name": "python3"
  },
  "language_info": {
   "codemirror_mode": {
    "name": "ipython",
    "version": 3
   },
   "file_extension": ".py",
   "mimetype": "text/x-python",
   "name": "python",
   "nbconvert_exporter": "python",
   "pygments_lexer": "ipython3",
   "version": "3.6.11"
  }
 },
 "nbformat": 4,
 "nbformat_minor": 4
}
